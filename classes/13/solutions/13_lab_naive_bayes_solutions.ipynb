{
 "cells": [
  {
   "cell_type": "markdown",
   "metadata": {},
   "source": [
    "# Keep the [NB Documentation](http://scikit-learn.org/stable/modules/naive_bayes.html#naive-bayes) open throughout the exercise"
   ]
  },
  {
   "cell_type": "code",
   "execution_count": 1,
   "metadata": {
    "collapsed": true
   },
   "outputs": [],
   "source": [
    "import pandas as pd\n",
    "%matplotlib inline"
   ]
  },
  {
   "cell_type": "code",
   "execution_count": 2,
   "metadata": {
    "collapsed": true
   },
   "outputs": [],
   "source": [
    "data = pd.read_csv('../data/sms_spam.csv')"
   ]
  },
  {
   "cell_type": "code",
   "execution_count": 3,
   "metadata": {
    "collapsed": false
   },
   "outputs": [
    {
     "data": {
      "text/html": [
       "<div>\n",
       "<table border=\"1\" class=\"dataframe\">\n",
       "  <thead>\n",
       "    <tr style=\"text-align: right;\">\n",
       "      <th></th>\n",
       "      <th>label</th>\n",
       "      <th>msg</th>\n",
       "    </tr>\n",
       "  </thead>\n",
       "  <tbody>\n",
       "    <tr>\n",
       "      <th>2554</th>\n",
       "      <td>ham</td>\n",
       "      <td>�� give me some time to walk there.</td>\n",
       "    </tr>\n",
       "    <tr>\n",
       "      <th>1221</th>\n",
       "      <td>spam</td>\n",
       "      <td>No. 1 Nokia Tone 4 ur mob every week! Just txt...</td>\n",
       "    </tr>\n",
       "    <tr>\n",
       "      <th>1036</th>\n",
       "      <td>ham</td>\n",
       "      <td>Hello baby, did you get back to your mom's ? A...</td>\n",
       "    </tr>\n",
       "    <tr>\n",
       "      <th>589</th>\n",
       "      <td>ham</td>\n",
       "      <td>Ya srsly better than yi tho</td>\n",
       "    </tr>\n",
       "    <tr>\n",
       "      <th>3574</th>\n",
       "      <td>spam</td>\n",
       "      <td>You won't believe it but it's true. It's Incre...</td>\n",
       "    </tr>\n",
       "    <tr>\n",
       "      <th>1914</th>\n",
       "      <td>ham</td>\n",
       "      <td>You want to go?</td>\n",
       "    </tr>\n",
       "    <tr>\n",
       "      <th>5115</th>\n",
       "      <td>spam</td>\n",
       "      <td>Get 3 Lions England tone, reply lionm 4 mono o...</td>\n",
       "    </tr>\n",
       "    <tr>\n",
       "      <th>1000</th>\n",
       "      <td>ham</td>\n",
       "      <td>Aight will do, thanks again for comin out</td>\n",
       "    </tr>\n",
       "    <tr>\n",
       "      <th>270</th>\n",
       "      <td>spam</td>\n",
       "      <td>Ringtone Club: Get the UK singles chart on you...</td>\n",
       "    </tr>\n",
       "    <tr>\n",
       "      <th>1868</th>\n",
       "      <td>ham</td>\n",
       "      <td>Mmmm ... Fuck ... Not fair ! You know my weakn...</td>\n",
       "    </tr>\n",
       "  </tbody>\n",
       "</table>\n",
       "</div>"
      ],
      "text/plain": [
       "     label                                                msg\n",
       "2554   ham                �� give me some time to walk there.\n",
       "1221  spam  No. 1 Nokia Tone 4 ur mob every week! Just txt...\n",
       "1036   ham  Hello baby, did you get back to your mom's ? A...\n",
       "589    ham                        Ya srsly better than yi tho\n",
       "3574  spam  You won't believe it but it's true. It's Incre...\n",
       "1914   ham                                   You want to go? \n",
       "5115  spam  Get 3 Lions England tone, reply lionm 4 mono o...\n",
       "1000   ham          Aight will do, thanks again for comin out\n",
       "270   spam  Ringtone Club: Get the UK singles chart on you...\n",
       "1868   ham  Mmmm ... Fuck ... Not fair ! You know my weakn..."
      ]
     },
     "execution_count": 3,
     "metadata": {},
     "output_type": "execute_result"
    }
   ],
   "source": [
    "data.sample(10)"
   ]
  },
  {
   "cell_type": "code",
   "execution_count": 4,
   "metadata": {
    "collapsed": false
   },
   "outputs": [
    {
     "data": {
      "text/plain": [
       "ham     4825\n",
       "spam     747\n",
       "Name: label, dtype: int64"
      ]
     },
     "execution_count": 4,
     "metadata": {},
     "output_type": "execute_result"
    }
   ],
   "source": [
    "# let's look at the counts of spam and ham\n",
    "data.label.value_counts()"
   ]
  },
  {
   "cell_type": "code",
   "execution_count": 5,
   "metadata": {
    "collapsed": false
   },
   "outputs": [
    {
     "data": {
      "text/plain": [
       "<matplotlib.axes._subplots.AxesSubplot at 0x1122060d0>"
      ]
     },
     "execution_count": 5,
     "metadata": {},
     "output_type": "execute_result"
    },
    {
     "data": {
      "image/png": "[encoded data removed]",
      "text/plain": [
       "<matplotlib.figure.Figure at 0x103921390>"
      ]
     },
     "metadata": {},
     "output_type": "display_data"
    }
   ],
   "source": [
    "# make a bar chart for spam and ham\n",
    "data.label.value_counts().plot(kind='bar')"
   ]
  },
  {
   "cell_type": "code",
   "execution_count": 6,
   "metadata": {
    "collapsed": false
   },
   "outputs": [
    {
     "data": {
      "text/html": [
       "<div>\n",
       "<table border=\"1\" class=\"dataframe\">\n",
       "  <thead>\n",
       "    <tr style=\"text-align: right;\">\n",
       "      <th></th>\n",
       "      <th>label</th>\n",
       "      <th>msg</th>\n",
       "    </tr>\n",
       "  </thead>\n",
       "  <tbody>\n",
       "    <tr>\n",
       "      <th>count</th>\n",
       "      <td>5572</td>\n",
       "      <td>5572</td>\n",
       "    </tr>\n",
       "    <tr>\n",
       "      <th>unique</th>\n",
       "      <td>2</td>\n",
       "      <td>5169</td>\n",
       "    </tr>\n",
       "    <tr>\n",
       "      <th>top</th>\n",
       "      <td>ham</td>\n",
       "      <td>Sorry, I'll call later</td>\n",
       "    </tr>\n",
       "    <tr>\n",
       "      <th>freq</th>\n",
       "      <td>4825</td>\n",
       "      <td>30</td>\n",
       "    </tr>\n",
       "  </tbody>\n",
       "</table>\n",
       "</div>"
      ],
      "text/plain": [
       "       label                     msg\n",
       "count   5572                    5572\n",
       "unique     2                    5169\n",
       "top      ham  Sorry, I'll call later\n",
       "freq    4825                      30"
      ]
     },
     "execution_count": 6,
     "metadata": {},
     "output_type": "execute_result"
    }
   ],
   "source": [
    "data.describe()"
   ]
  },
  {
   "cell_type": "code",
   "execution_count": 7,
   "metadata": {
    "collapsed": false
   },
   "outputs": [
    {
     "name": "stdout",
     "output_type": "stream",
     "text": [
      "<class 'pandas.core.frame.DataFrame'>\n",
      "RangeIndex: 5572 entries, 0 to 5571\n",
      "Data columns (total 2 columns):\n",
      "label    5572 non-null object\n",
      "msg      5572 non-null object\n",
      "dtypes: object(2)\n",
      "memory usage: 87.1+ KB\n"
     ]
    }
   ],
   "source": [
    "# now we need to convert our label to a categorical variable for the model\n",
    "data.info()"
   ]
  },
  {
   "cell_type": "code",
   "execution_count": 8,
   "metadata": {
    "collapsed": false
   },
   "outputs": [],
   "source": [
    "# make our y column\n",
    "data['y'] = pd.Categorical(data['label'])"
   ]
  },
  {
   "cell_type": "code",
   "execution_count": 9,
   "metadata": {
    "collapsed": false
   },
   "outputs": [
    {
     "data": {
      "text/html": [
       "<div>\n",
       "<table border=\"1\" class=\"dataframe\">\n",
       "  <thead>\n",
       "    <tr style=\"text-align: right;\">\n",
       "      <th></th>\n",
       "      <th>label</th>\n",
       "      <th>msg</th>\n",
       "      <th>y</th>\n",
       "    </tr>\n",
       "  </thead>\n",
       "  <tbody>\n",
       "    <tr>\n",
       "      <th>4497</th>\n",
       "      <td>ham</td>\n",
       "      <td>In case you wake up wondering where I am, I fo...</td>\n",
       "      <td>ham</td>\n",
       "    </tr>\n",
       "    <tr>\n",
       "      <th>4092</th>\n",
       "      <td>ham</td>\n",
       "      <td>Hey doc pls I want to get nice t shirt for my ...</td>\n",
       "      <td>ham</td>\n",
       "    </tr>\n",
       "    <tr>\n",
       "      <th>57</th>\n",
       "      <td>ham</td>\n",
       "      <td>Sorry, I'll call later in meeting.</td>\n",
       "      <td>ham</td>\n",
       "    </tr>\n",
       "    <tr>\n",
       "      <th>3459</th>\n",
       "      <td>ham</td>\n",
       "      <td>Have your lunch and come quickly and open the ...</td>\n",
       "      <td>ham</td>\n",
       "    </tr>\n",
       "    <tr>\n",
       "      <th>2385</th>\n",
       "      <td>ham</td>\n",
       "      <td>Sorry, I'll call later</td>\n",
       "      <td>ham</td>\n",
       "    </tr>\n",
       "  </tbody>\n",
       "</table>\n",
       "</div>"
      ],
      "text/plain": [
       "     label                                                msg    y\n",
       "4497   ham  In case you wake up wondering where I am, I fo...  ham\n",
       "4092   ham  Hey doc pls I want to get nice t shirt for my ...  ham\n",
       "57     ham                 Sorry, I'll call later in meeting.  ham\n",
       "3459   ham  Have your lunch and come quickly and open the ...  ham\n",
       "2385   ham                             Sorry, I'll call later  ham"
      ]
     },
     "execution_count": 9,
     "metadata": {},
     "output_type": "execute_result"
    }
   ],
   "source": [
    "data.sample(5)"
   ]
  },
  {
   "cell_type": "markdown",
   "metadata": {},
   "source": [
    "## Converting text to vectors\n",
    "\n",
    "`sklearn` comes with many built-in feature extraction and manipulation tools. For dealing with text data, there is the  `sklearn.feature_extraction.text` module, which contains the **`CountVectorizer`** and the `TfidfVectorizer`.\n",
    "\n",
    "### `CountVectorizer`\n",
    "\n",
    "This class transforms an array-like (list, dataframe column, array) of strings into a matrix where each column represents a token (word or phrase) and each row represents the sample.\n",
    "\n",
    "For example, if we had a two-element array [\"Hello good day\", \"Good day to you\"], we would create a matrix with 2 rows (one for each sample) and 5 columns (one for every unique word). The matrix would look like this:\n",
    "\n",
    "hello|good|day|to|you\n",
    "--|--|--|--|--\n",
    "1|1|1|0|0\n",
    "0|1|1|1|1\n",
    "\n",
    "The `CountVectorizer` (and most feature extraction methods in sklearn) follows a very simple interface:\n",
    "- `fit` takes a dataset and learns the features it's trying to extract. In this case that means that the algorithm learns the vocabulary of all samples\n",
    "- `transform` takes a dataset and produces the matrix as described above, based on the vocabulary (or feature elements) it learned.\n",
    "- `fit_transform` combines the two steps at once.\n",
    "\n",
    "For example, you may want to fit a vocabulary to a training set, transform the training set to train a model and then continually transform any new incoming examples you want to classify. You will generally only perform the fit step once but the transform step many times for any new datasets."
   ]
  },
  {
   "cell_type": "markdown",
   "metadata": {},
   "source": [
    "## First we will convert the text into feature vectors which can be used for machine learning purposes.\n",
    "\n",
    "We will use the scikit function of CountVectorizer to 'convert text into a matrix of token counts'\n",
    "\n",
    " http://scikit-learn.org/stable/modules/generated/sklearn.feature_extraction.text.CountVectorizer.html"
   ]
  },
  {
   "cell_type": "code",
   "execution_count": 10,
   "metadata": {
    "collapsed": true
   },
   "outputs": [],
   "source": [
    "from sklearn.feature_extraction.text import CountVectorizer"
   ]
  },
  {
   "cell_type": "code",
   "execution_count": 11,
   "metadata": {
    "collapsed": false
   },
   "outputs": [
    {
     "data": {
      "text/plain": [
       "[u'cab', u'call', u'me', u'please', u'tonight', u'you']"
      ]
     },
     "execution_count": 11,
     "metadata": {},
     "output_type": "execute_result"
    }
   ],
   "source": [
    "# let's look at a simple example\n",
    "train_simple = ['call you tonight',\n",
    "                'Call me a cab',\n",
    "                'please call me... PLEASE!']\n",
    "train_labels = ['not_desperate',\n",
    "                'not_desperate',\n",
    "                'desperate']\n",
    "# ignore in case ppl used weird text like smileys or foreign languages\n",
    "vect = CountVectorizer(decode_error='ignore')\n",
    "vect.fit(train_simple)\n",
    "vect.get_feature_names()"
   ]
  },
  {
   "cell_type": "code",
   "execution_count": 12,
   "metadata": {
    "collapsed": false
   },
   "outputs": [
    {
     "data": {
      "text/plain": [
       "array([[0, 1, 0, 0, 1, 1],\n",
       "       [1, 1, 1, 0, 0, 0],\n",
       "       [0, 1, 1, 2, 0, 0]])"
      ]
     },
     "execution_count": 12,
     "metadata": {},
     "output_type": "execute_result"
    }
   ],
   "source": [
    "# by default CountVectorizer does ngram of 1\n",
    "# we'll use unigrams for the rest of this exercise\n",
    "\n",
    "# transform to make ready for dataframe\n",
    "vect_trans = vect.transform(train_simple)\n",
    "# let's look at the dataset\n",
    "vect_trans.toarray()"
   ]
  },
  {
   "cell_type": "code",
   "execution_count": 13,
   "metadata": {
    "collapsed": false
   },
   "outputs": [
    {
     "data": {
      "text/html": [
       "<div>\n",
       "<table border=\"1\" class=\"dataframe\">\n",
       "  <thead>\n",
       "    <tr style=\"text-align: right;\">\n",
       "      <th></th>\n",
       "      <th>0</th>\n",
       "      <th>1</th>\n",
       "      <th>2</th>\n",
       "      <th>3</th>\n",
       "      <th>4</th>\n",
       "      <th>5</th>\n",
       "    </tr>\n",
       "  </thead>\n",
       "  <tbody>\n",
       "    <tr>\n",
       "      <th>0</th>\n",
       "      <td>0</td>\n",
       "      <td>1</td>\n",
       "      <td>0</td>\n",
       "      <td>0</td>\n",
       "      <td>1</td>\n",
       "      <td>1</td>\n",
       "    </tr>\n",
       "    <tr>\n",
       "      <th>1</th>\n",
       "      <td>1</td>\n",
       "      <td>1</td>\n",
       "      <td>1</td>\n",
       "      <td>0</td>\n",
       "      <td>0</td>\n",
       "      <td>0</td>\n",
       "    </tr>\n",
       "    <tr>\n",
       "      <th>2</th>\n",
       "      <td>0</td>\n",
       "      <td>1</td>\n",
       "      <td>1</td>\n",
       "      <td>2</td>\n",
       "      <td>0</td>\n",
       "      <td>0</td>\n",
       "    </tr>\n",
       "  </tbody>\n",
       "</table>\n",
       "</div>"
      ],
      "text/plain": [
       "   0  1  2  3  4  5\n",
       "0  0  1  0  0  1  1\n",
       "1  1  1  1  0  0  0\n",
       "2  0  1  1  2  0  0"
      ]
     },
     "execution_count": 13,
     "metadata": {},
     "output_type": "execute_result"
    }
   ],
   "source": [
    "# put it all in a dataframe\n",
    "df = pd.DataFrame(vect_trans.toarray())\n",
    "df.head()"
   ]
  },
  {
   "cell_type": "code",
   "execution_count": 14,
   "metadata": {
    "collapsed": false
   },
   "outputs": [],
   "source": [
    "# now let's add the labels\n",
    "df['labels'] = train_labels"
   ]
  },
  {
   "cell_type": "code",
   "execution_count": 15,
   "metadata": {
    "collapsed": false
   },
   "outputs": [
    {
     "data": {
      "text/html": [
       "<div>\n",
       "<table border=\"1\" class=\"dataframe\">\n",
       "  <thead>\n",
       "    <tr style=\"text-align: right;\">\n",
       "      <th></th>\n",
       "      <th>0</th>\n",
       "      <th>1</th>\n",
       "      <th>2</th>\n",
       "      <th>3</th>\n",
       "      <th>4</th>\n",
       "      <th>5</th>\n",
       "      <th>labels</th>\n",
       "    </tr>\n",
       "  </thead>\n",
       "  <tbody>\n",
       "    <tr>\n",
       "      <th>0</th>\n",
       "      <td>0</td>\n",
       "      <td>1</td>\n",
       "      <td>0</td>\n",
       "      <td>0</td>\n",
       "      <td>1</td>\n",
       "      <td>1</td>\n",
       "      <td>not_desperate</td>\n",
       "    </tr>\n",
       "    <tr>\n",
       "      <th>1</th>\n",
       "      <td>1</td>\n",
       "      <td>1</td>\n",
       "      <td>1</td>\n",
       "      <td>0</td>\n",
       "      <td>0</td>\n",
       "      <td>0</td>\n",
       "      <td>not_desperate</td>\n",
       "    </tr>\n",
       "    <tr>\n",
       "      <th>2</th>\n",
       "      <td>0</td>\n",
       "      <td>1</td>\n",
       "      <td>1</td>\n",
       "      <td>2</td>\n",
       "      <td>0</td>\n",
       "      <td>0</td>\n",
       "      <td>desperate</td>\n",
       "    </tr>\n",
       "  </tbody>\n",
       "</table>\n",
       "</div>"
      ],
      "text/plain": [
       "   0  1  2  3  4  5         labels\n",
       "0  0  1  0  0  1  1  not_desperate\n",
       "1  1  1  1  0  0  0  not_desperate\n",
       "2  0  1  1  2  0  0      desperate"
      ]
     },
     "execution_count": 15,
     "metadata": {},
     "output_type": "execute_result"
    }
   ],
   "source": [
    "df.head()"
   ]
  },
  {
   "cell_type": "markdown",
   "metadata": {},
   "source": [
    "## Now we will fit NB with sklearn\n",
    "\n",
    "[Multinomial NB Documentation](http://scikit-learn.org/stable/modules/generated/sklearn.naive_bayes.MultinomialNB.html#sklearn.naive_bayes.MultinomialNB)"
   ]
  },
  {
   "cell_type": "markdown",
   "metadata": {},
   "source": [
    "- alpha (float): this prevents us from getting 0 probabilities for a rarely occuring class, typically we want 0<alpha<=1\n",
    "- fit_prior (bool): whether to learn the class probabilities based on the training data (usually leave this as True)"
   ]
  },
  {
   "cell_type": "code",
   "execution_count": 16,
   "metadata": {
    "collapsed": true
   },
   "outputs": [],
   "source": [
    "from sklearn.naive_bayes import MultinomialNB\n",
    "from sklearn.model_selection import GridSearchCV, KFold, cross_val_score"
   ]
  },
  {
   "cell_type": "code",
   "execution_count": 17,
   "metadata": {
    "collapsed": false
   },
   "outputs": [],
   "source": [
    "# becareful since labels is a special name in pandas\n",
    "y, X = df['labels'], df.drop(['labels'], axis=1)"
   ]
  },
  {
   "cell_type": "code",
   "execution_count": 18,
   "metadata": {
    "collapsed": false
   },
   "outputs": [
    {
     "data": {
      "text/plain": [
       "0    not_desperate\n",
       "1    not_desperate\n",
       "2        desperate\n",
       "Name: labels, dtype: object"
      ]
     },
     "execution_count": 18,
     "metadata": {},
     "output_type": "execute_result"
    }
   ],
   "source": [
    "y"
   ]
  },
  {
   "cell_type": "code",
   "execution_count": 19,
   "metadata": {
    "collapsed": false
   },
   "outputs": [
    {
     "data": {
      "text/html": [
       "<div>\n",
       "<table border=\"1\" class=\"dataframe\">\n",
       "  <thead>\n",
       "    <tr style=\"text-align: right;\">\n",
       "      <th></th>\n",
       "      <th>0</th>\n",
       "      <th>1</th>\n",
       "      <th>2</th>\n",
       "      <th>3</th>\n",
       "      <th>4</th>\n",
       "      <th>5</th>\n",
       "    </tr>\n",
       "  </thead>\n",
       "  <tbody>\n",
       "    <tr>\n",
       "      <th>0</th>\n",
       "      <td>0</td>\n",
       "      <td>1</td>\n",
       "      <td>0</td>\n",
       "      <td>0</td>\n",
       "      <td>1</td>\n",
       "      <td>1</td>\n",
       "    </tr>\n",
       "    <tr>\n",
       "      <th>1</th>\n",
       "      <td>1</td>\n",
       "      <td>1</td>\n",
       "      <td>1</td>\n",
       "      <td>0</td>\n",
       "      <td>0</td>\n",
       "      <td>0</td>\n",
       "    </tr>\n",
       "    <tr>\n",
       "      <th>2</th>\n",
       "      <td>0</td>\n",
       "      <td>1</td>\n",
       "      <td>1</td>\n",
       "      <td>2</td>\n",
       "      <td>0</td>\n",
       "      <td>0</td>\n",
       "    </tr>\n",
       "  </tbody>\n",
       "</table>\n",
       "</div>"
      ],
      "text/plain": [
       "   0  1  2  3  4  5\n",
       "0  0  1  0  0  1  1\n",
       "1  1  1  1  0  0  0\n",
       "2  0  1  1  2  0  0"
      ]
     },
     "execution_count": 19,
     "metadata": {},
     "output_type": "execute_result"
    }
   ],
   "source": [
    "X"
   ]
  },
  {
   "cell_type": "code",
   "execution_count": 20,
   "metadata": {
    "collapsed": false
   },
   "outputs": [
    {
     "data": {
      "text/plain": [
       "MultinomialNB(alpha=1.0, class_prior=None, fit_prior=True)"
      ]
     },
     "execution_count": 20,
     "metadata": {},
     "output_type": "execute_result"
    }
   ],
   "source": [
    "# create NB model\n",
    "nb = MultinomialNB()\n",
    "nb.fit(X, y)"
   ]
  },
  {
   "cell_type": "markdown",
   "metadata": {},
   "source": [
    "# Now it's your turn to build a spam classifier!\n",
    "\n",
    "\n",
    "## By now, I expect you know how to setup a proper experiment"
   ]
  },
  {
   "cell_type": "markdown",
   "metadata": {},
   "source": [
    "1) Get the spam data in the proper format for analysis with NB"
   ]
  },
  {
   "cell_type": "markdown",
   "metadata": {},
   "source": [
    "2) Setup CV"
   ]
  },
  {
   "cell_type": "markdown",
   "metadata": {},
   "source": [
    "3) What accuracy can you achieve? Is this the right way to measure spam classification?"
   ]
  },
  {
   "cell_type": "markdown",
   "metadata": {},
   "source": [
    "4) Test your model on classifying the following sentences:\n",
    "\n",
    "`Free Viagra call today!` \n",
    "\n",
    "`I hope I get to see you tomorrow.`"
   ]
  },
  {
   "cell_type": "code",
   "execution_count": 21,
   "metadata": {
    "collapsed": false
   },
   "outputs": [
    {
     "data": {
      "text/html": [
       "<div>\n",
       "<table border=\"1\" class=\"dataframe\">\n",
       "  <thead>\n",
       "    <tr style=\"text-align: right;\">\n",
       "      <th></th>\n",
       "      <th>label</th>\n",
       "      <th>msg</th>\n",
       "      <th>y</th>\n",
       "    </tr>\n",
       "  </thead>\n",
       "  <tbody>\n",
       "    <tr>\n",
       "      <th>2718</th>\n",
       "      <td>ham</td>\n",
       "      <td>Okie.. Thanx..</td>\n",
       "      <td>ham</td>\n",
       "    </tr>\n",
       "    <tr>\n",
       "      <th>5452</th>\n",
       "      <td>ham</td>\n",
       "      <td>What???? Hello wats talks email address?</td>\n",
       "      <td>ham</td>\n",
       "    </tr>\n",
       "    <tr>\n",
       "      <th>1955</th>\n",
       "      <td>ham</td>\n",
       "      <td>Good night. Am going to sleep.</td>\n",
       "      <td>ham</td>\n",
       "    </tr>\n",
       "    <tr>\n",
       "      <th>2920</th>\n",
       "      <td>ham</td>\n",
       "      <td>Is xy in ur car when u picking me up?</td>\n",
       "      <td>ham</td>\n",
       "    </tr>\n",
       "    <tr>\n",
       "      <th>5558</th>\n",
       "      <td>ham</td>\n",
       "      <td>Sorry, I'll call later</td>\n",
       "      <td>ham</td>\n",
       "    </tr>\n",
       "  </tbody>\n",
       "</table>\n",
       "</div>"
      ],
      "text/plain": [
       "     label                                       msg    y\n",
       "2718   ham                            Okie.. Thanx..  ham\n",
       "5452   ham  What???? Hello wats talks email address?  ham\n",
       "1955   ham            Good night. Am going to sleep.  ham\n",
       "2920   ham     Is xy in ur car when u picking me up?  ham\n",
       "5558   ham                    Sorry, I'll call later  ham"
      ]
     },
     "execution_count": 21,
     "metadata": {},
     "output_type": "execute_result"
    }
   ],
   "source": [
    "data.sample(5)"
   ]
  },
  {
   "cell_type": "code",
   "execution_count": 22,
   "metadata": {
    "collapsed": false
   },
   "outputs": [
    {
     "data": {
      "text/plain": [
       "array([[0, 0, 0, ..., 0, 0, 0],\n",
       "       [0, 0, 0, ..., 0, 0, 0],\n",
       "       [0, 0, 0, ..., 0, 0, 0],\n",
       "       ..., \n",
       "       [0, 0, 0, ..., 0, 0, 0],\n",
       "       [0, 0, 0, ..., 0, 0, 0],\n",
       "       [0, 0, 0, ..., 0, 0, 0]])"
      ]
     },
     "execution_count": 22,
     "metadata": {},
     "output_type": "execute_result"
    }
   ],
   "source": [
    "vect = CountVectorizer(decode_error='ignore')\n",
    "vect.fit(data.msg)\n",
    "vect_trans = vect.transform(data.msg)\n",
    "vect_trans.toarray()"
   ]
  },
  {
   "cell_type": "code",
   "execution_count": 23,
   "metadata": {
    "collapsed": true
   },
   "outputs": [],
   "source": [
    "# we will add feature names last\n",
    "df = pd.DataFrame(vect_trans.toarray())\n",
    "df['y'] = data['y']"
   ]
  },
  {
   "cell_type": "code",
   "execution_count": 24,
   "metadata": {
    "collapsed": false
   },
   "outputs": [
    {
     "data": {
      "text/html": [
       "<div>\n",
       "<table border=\"1\" class=\"dataframe\">\n",
       "  <thead>\n",
       "    <tr style=\"text-align: right;\">\n",
       "      <th></th>\n",
       "      <th>0</th>\n",
       "      <th>1</th>\n",
       "      <th>2</th>\n",
       "      <th>3</th>\n",
       "      <th>4</th>\n",
       "      <th>5</th>\n",
       "      <th>6</th>\n",
       "      <th>7</th>\n",
       "      <th>8</th>\n",
       "      <th>9</th>\n",
       "      <th>...</th>\n",
       "      <th>8715</th>\n",
       "      <th>8716</th>\n",
       "      <th>8717</th>\n",
       "      <th>8718</th>\n",
       "      <th>8719</th>\n",
       "      <th>8720</th>\n",
       "      <th>8721</th>\n",
       "      <th>8722</th>\n",
       "      <th>8723</th>\n",
       "      <th>y</th>\n",
       "    </tr>\n",
       "  </thead>\n",
       "  <tbody>\n",
       "    <tr>\n",
       "      <th>0</th>\n",
       "      <td>0</td>\n",
       "      <td>0</td>\n",
       "      <td>0</td>\n",
       "      <td>0</td>\n",
       "      <td>0</td>\n",
       "      <td>0</td>\n",
       "      <td>0</td>\n",
       "      <td>0</td>\n",
       "      <td>0</td>\n",
       "      <td>0</td>\n",
       "      <td>...</td>\n",
       "      <td>0</td>\n",
       "      <td>0</td>\n",
       "      <td>0</td>\n",
       "      <td>0</td>\n",
       "      <td>0</td>\n",
       "      <td>0</td>\n",
       "      <td>0</td>\n",
       "      <td>0</td>\n",
       "      <td>0</td>\n",
       "      <td>ham</td>\n",
       "    </tr>\n",
       "    <tr>\n",
       "      <th>1</th>\n",
       "      <td>0</td>\n",
       "      <td>0</td>\n",
       "      <td>0</td>\n",
       "      <td>0</td>\n",
       "      <td>0</td>\n",
       "      <td>0</td>\n",
       "      <td>0</td>\n",
       "      <td>0</td>\n",
       "      <td>0</td>\n",
       "      <td>0</td>\n",
       "      <td>...</td>\n",
       "      <td>0</td>\n",
       "      <td>0</td>\n",
       "      <td>0</td>\n",
       "      <td>0</td>\n",
       "      <td>0</td>\n",
       "      <td>0</td>\n",
       "      <td>0</td>\n",
       "      <td>0</td>\n",
       "      <td>0</td>\n",
       "      <td>ham</td>\n",
       "    </tr>\n",
       "    <tr>\n",
       "      <th>2</th>\n",
       "      <td>0</td>\n",
       "      <td>0</td>\n",
       "      <td>0</td>\n",
       "      <td>0</td>\n",
       "      <td>0</td>\n",
       "      <td>0</td>\n",
       "      <td>0</td>\n",
       "      <td>0</td>\n",
       "      <td>0</td>\n",
       "      <td>0</td>\n",
       "      <td>...</td>\n",
       "      <td>0</td>\n",
       "      <td>0</td>\n",
       "      <td>0</td>\n",
       "      <td>0</td>\n",
       "      <td>0</td>\n",
       "      <td>0</td>\n",
       "      <td>0</td>\n",
       "      <td>0</td>\n",
       "      <td>0</td>\n",
       "      <td>spam</td>\n",
       "    </tr>\n",
       "    <tr>\n",
       "      <th>3</th>\n",
       "      <td>0</td>\n",
       "      <td>0</td>\n",
       "      <td>0</td>\n",
       "      <td>0</td>\n",
       "      <td>0</td>\n",
       "      <td>0</td>\n",
       "      <td>0</td>\n",
       "      <td>0</td>\n",
       "      <td>0</td>\n",
       "      <td>0</td>\n",
       "      <td>...</td>\n",
       "      <td>0</td>\n",
       "      <td>0</td>\n",
       "      <td>0</td>\n",
       "      <td>0</td>\n",
       "      <td>0</td>\n",
       "      <td>0</td>\n",
       "      <td>0</td>\n",
       "      <td>0</td>\n",
       "      <td>0</td>\n",
       "      <td>ham</td>\n",
       "    </tr>\n",
       "    <tr>\n",
       "      <th>4</th>\n",
       "      <td>0</td>\n",
       "      <td>0</td>\n",
       "      <td>0</td>\n",
       "      <td>0</td>\n",
       "      <td>0</td>\n",
       "      <td>0</td>\n",
       "      <td>0</td>\n",
       "      <td>0</td>\n",
       "      <td>0</td>\n",
       "      <td>0</td>\n",
       "      <td>...</td>\n",
       "      <td>0</td>\n",
       "      <td>0</td>\n",
       "      <td>0</td>\n",
       "      <td>0</td>\n",
       "      <td>0</td>\n",
       "      <td>0</td>\n",
       "      <td>0</td>\n",
       "      <td>0</td>\n",
       "      <td>0</td>\n",
       "      <td>ham</td>\n",
       "    </tr>\n",
       "  </tbody>\n",
       "</table>\n",
       "<p>5 rows × 8725 columns</p>\n",
       "</div>"
      ],
      "text/plain": [
       "   0  1  2  3  4  5  6  7  8  9  ...   8715  8716  8717  8718  8719  8720  \\\n",
       "0  0  0  0  0  0  0  0  0  0  0  ...      0     0     0     0     0     0   \n",
       "1  0  0  0  0  0  0  0  0  0  0  ...      0     0     0     0     0     0   \n",
       "2  0  0  0  0  0  0  0  0  0  0  ...      0     0     0     0     0     0   \n",
       "3  0  0  0  0  0  0  0  0  0  0  ...      0     0     0     0     0     0   \n",
       "4  0  0  0  0  0  0  0  0  0  0  ...      0     0     0     0     0     0   \n",
       "\n",
       "   8721  8722  8723     y  \n",
       "0     0     0     0   ham  \n",
       "1     0     0     0   ham  \n",
       "2     0     0     0  spam  \n",
       "3     0     0     0   ham  \n",
       "4     0     0     0   ham  \n",
       "\n",
       "[5 rows x 8725 columns]"
      ]
     },
     "execution_count": 24,
     "metadata": {},
     "output_type": "execute_result"
    }
   ],
   "source": [
    "df.head()"
   ]
  },
  {
   "cell_type": "code",
   "execution_count": 25,
   "metadata": {
    "collapsed": true
   },
   "outputs": [],
   "source": [
    "# set our X and y\n",
    "y, X = df.y, df.drop(['y'], axis=1)"
   ]
  },
  {
   "cell_type": "code",
   "execution_count": 26,
   "metadata": {
    "collapsed": false
   },
   "outputs": [],
   "source": [
    "from sklearn.model_selection import ShuffleSplit\n",
    "cv = ShuffleSplit(n_splits=10, test_size=0.2, random_state=0)"
   ]
  },
  {
   "cell_type": "code",
   "execution_count": 27,
   "metadata": {
    "collapsed": false
   },
   "outputs": [],
   "source": [
    "import numpy as np\n",
    "from sklearn.model_selection import GridSearchCV\n",
    "\n",
    "parameters = {'alpha': (0.00001, 0.001)}\n",
    "nbayes = MultinomialNB()\n",
    "clf = GridSearchCV(nbayes, parameters, cv=cv)"
   ]
  },
  {
   "cell_type": "code",
   "execution_count": 28,
   "metadata": {
    "collapsed": false
   },
   "outputs": [
    {
     "data": {
      "text/plain": [
       "GridSearchCV(cv=ShuffleSplit(n_splits=10, random_state=0, test_size=0.2, train_size=None),\n",
       "       error_score='raise',\n",
       "       estimator=MultinomialNB(alpha=1.0, class_prior=None, fit_prior=True),\n",
       "       fit_params={}, iid=True, n_jobs=1,\n",
       "       param_grid={'alpha': (1e-05, 0.001)}, pre_dispatch='2*n_jobs',\n",
       "       refit=True, return_train_score=True, scoring=None, verbose=0)"
      ]
     },
     "execution_count": 28,
     "metadata": {},
     "output_type": "execute_result"
    }
   ],
   "source": [
    "clf.fit(X, y)"
   ]
  },
  {
   "cell_type": "code",
   "execution_count": 29,
   "metadata": {
    "collapsed": false
   },
   "outputs": [
    {
     "data": {
      "text/plain": [
       "{'alpha': 0.001}"
      ]
     },
     "execution_count": 29,
     "metadata": {},
     "output_type": "execute_result"
    }
   ],
   "source": [
    "clf.best_params_"
   ]
  },
  {
   "cell_type": "code",
   "execution_count": 30,
   "metadata": {
    "collapsed": false
   },
   "outputs": [
    {
     "data": {
      "text/plain": [
       "0.98134529147982064"
      ]
     },
     "execution_count": 30,
     "metadata": {},
     "output_type": "execute_result"
    }
   ],
   "source": [
    "clf.best_score_"
   ]
  },
  {
   "cell_type": "code",
   "execution_count": 31,
   "metadata": {
    "collapsed": false
   },
   "outputs": [
    {
     "data": {
      "text/plain": [
       "[u'00',\n",
       " u'000',\n",
       " u'000pes',\n",
       " u'008704050406',\n",
       " u'0089',\n",
       " u'0121',\n",
       " u'01223585236',\n",
       " u'01223585334',\n",
       " u'0125698789',\n",
       " u'02',\n",
       " u'0207',\n",
       " u'02072069400',\n",
       " u'02073162414',\n",
       " u'02085076972',\n",
       " u'021',\n",
       " u'03',\n",
       " u'04',\n",
       " u'0430',\n",
       " u'05',\n",
       " u'050703',\n",
       " u'0578',\n",
       " u'06',\n",
       " u'07',\n",
       " u'07008009200',\n",
       " u'07046744435',\n",
       " u'07090201529',\n",
       " u'07090298926',\n",
       " u'07099833605',\n",
       " u'07123456789',\n",
       " u'0721072',\n",
       " u'07732584351',\n",
       " u'07734396839',\n",
       " u'07742676969',\n",
       " u'07753741225',\n",
       " u'0776xxxxxxx',\n",
       " u'07781482378',\n",
       " u'07786200117',\n",
       " u'077xxx',\n",
       " u'078',\n",
       " u'07801543489',\n",
       " u'07808',\n",
       " u'07808247860',\n",
       " u'07808726822',\n",
       " u'07815296484',\n",
       " u'07821230901',\n",
       " u'078498',\n",
       " u'07880867867',\n",
       " u'0789xxxxxxx',\n",
       " u'07946746291',\n",
       " u'0796xxxxxx',\n",
       " u'07973788240',\n",
       " u'07xxxxxxxxx',\n",
       " u'08',\n",
       " u'0800',\n",
       " u'08000407165',\n",
       " u'08000776320',\n",
       " u'08000839402',\n",
       " u'08000930705',\n",
       " u'08000938767',\n",
       " u'08001950382',\n",
       " u'08002888812',\n",
       " u'08002986030',\n",
       " u'08002986906',\n",
       " u'08002988890',\n",
       " u'08006344447',\n",
       " u'0808',\n",
       " u'08081263000',\n",
       " u'08081560665',\n",
       " u'0825',\n",
       " u'083',\n",
       " u'0844',\n",
       " u'08448350055',\n",
       " u'08448714184',\n",
       " u'0845',\n",
       " u'08450542832',\n",
       " u'08452810071',\n",
       " u'08452810073',\n",
       " u'08452810075over18',\n",
       " u'0870',\n",
       " u'08700435505150p',\n",
       " u'08700469649',\n",
       " u'08700621170150p',\n",
       " u'08701213186',\n",
       " u'08701237397',\n",
       " u'08701417012',\n",
       " u'08701417012150p',\n",
       " u'0870141701216',\n",
       " u'087016248',\n",
       " u'08701752560',\n",
       " u'087018728737',\n",
       " u'0870241182716',\n",
       " u'08702490080',\n",
       " u'08702840625',\n",
       " u'08704050406',\n",
       " u'08704439680',\n",
       " u'08704439680ts',\n",
       " u'08706091795',\n",
       " u'0870737910216yrs',\n",
       " u'08707500020',\n",
       " u'08707509020',\n",
       " u'0870753331018',\n",
       " u'08707808226',\n",
       " u'08708034412',\n",
       " u'08708800282',\n",
       " u'08709222922',\n",
       " u'08709501522',\n",
       " u'0871',\n",
       " u'087104711148',\n",
       " u'08712101358',\n",
       " u'08712103738',\n",
       " u'0871212025016',\n",
       " u'08712300220',\n",
       " u'087123002209am',\n",
       " u'08712317606',\n",
       " u'08712400200',\n",
       " u'08712400602450p',\n",
       " u'08712400603',\n",
       " u'08712402050',\n",
       " u'08712402578',\n",
       " u'08712402779',\n",
       " u'08712402902',\n",
       " u'08712402972',\n",
       " u'08712404000',\n",
       " u'08712405020',\n",
       " u'08712405022',\n",
       " u'08712460324',\n",
       " u'08712466669',\n",
       " u'0871277810710p',\n",
       " u'0871277810810',\n",
       " u'0871277810910p',\n",
       " u'08714342399',\n",
       " u'087147123779am',\n",
       " u'08714712379',\n",
       " u'08714712388',\n",
       " u'08714712394',\n",
       " u'08714712412',\n",
       " u'08714714011',\n",
       " u'08715203028',\n",
       " u'08715203649',\n",
       " u'08715203652',\n",
       " u'08715203656',\n",
       " u'08715203677',\n",
       " u'08715203685',\n",
       " u'08715203694',\n",
       " u'08715205273',\n",
       " u'08715500022',\n",
       " u'08715705022',\n",
       " u'08717111821',\n",
       " u'08717168528',\n",
       " u'08717205546',\n",
       " u'0871750',\n",
       " u'08717507382',\n",
       " u'08717509990',\n",
       " u'087178908901',\n",
       " u'08717895698',\n",
       " u'08717898035',\n",
       " u'08718711108',\n",
       " u'08718720201',\n",
       " u'08718723815',\n",
       " u'08718725756',\n",
       " u'08718726270',\n",
       " u'087187262701',\n",
       " u'08718726970',\n",
       " u'08718726971',\n",
       " u'08718726978',\n",
       " u'087187272008',\n",
       " u'08718727868',\n",
       " u'08718727870',\n",
       " u'08718727870150ppm',\n",
       " u'08718730555',\n",
       " u'08718730666',\n",
       " u'08718738001',\n",
       " u'08718738002',\n",
       " u'08718738034',\n",
       " u'08719180219',\n",
       " u'08719180248',\n",
       " u'08719181259',\n",
       " u'08719181503',\n",
       " u'08719181513',\n",
       " u'08719839835',\n",
       " u'08719899217',\n",
       " u'08719899229',\n",
       " u'08719899230',\n",
       " u'09',\n",
       " u'09041940223',\n",
       " u'09050000301',\n",
       " u'09050000332',\n",
       " u'09050000460',\n",
       " u'09050000555',\n",
       " u'09050000878',\n",
       " u'09050000928',\n",
       " u'09050001295',\n",
       " u'09050001808',\n",
       " u'09050002311',\n",
       " u'09050003091',\n",
       " u'09050005321',\n",
       " u'09050090044',\n",
       " u'09050280520',\n",
       " u'09053750005',\n",
       " u'09056242159',\n",
       " u'09057039994',\n",
       " u'09058091854',\n",
       " u'09058091870',\n",
       " u'09058094454',\n",
       " u'09058094455',\n",
       " u'09058094507',\n",
       " u'09058094565',\n",
       " u'09058094583',\n",
       " u'09058094594',\n",
       " u'09058094597',\n",
       " u'09058094599',\n",
       " u'09058095107',\n",
       " u'09058095201',\n",
       " u'09058097189',\n",
       " u'09058097218',\n",
       " u'09058098002',\n",
       " u'09058099801',\n",
       " u'09061104276',\n",
       " u'09061104283',\n",
       " u'09061209465',\n",
       " u'09061213237',\n",
       " u'09061221061',\n",
       " u'09061221066',\n",
       " u'09061701444',\n",
       " u'09061701461',\n",
       " u'09061701851',\n",
       " u'09061701939',\n",
       " u'09061702893',\n",
       " u'09061743386',\n",
       " u'09061743806',\n",
       " u'09061743810',\n",
       " u'09061743811',\n",
       " u'09061744553',\n",
       " u'09061749602',\n",
       " u'09061790121',\n",
       " u'09061790125',\n",
       " u'09061790126',\n",
       " u'09063440451',\n",
       " u'09063442151',\n",
       " u'09063458130',\n",
       " u'0906346330',\n",
       " u'09064011000',\n",
       " u'09064012103',\n",
       " u'09064012160',\n",
       " u'09064015307',\n",
       " u'09064017295',\n",
       " u'09064017305',\n",
       " u'09064018838',\n",
       " u'09064019014',\n",
       " u'09064019788',\n",
       " u'09065069120',\n",
       " u'09065069154',\n",
       " u'09065171142',\n",
       " u'09065174042',\n",
       " u'09065394514',\n",
       " u'09065394973',\n",
       " u'09065989180',\n",
       " u'09065989182',\n",
       " u'09066350750',\n",
       " u'09066358152',\n",
       " u'09066358361',\n",
       " u'09066361921',\n",
       " u'09066362206',\n",
       " u'09066362220',\n",
       " u'09066362231',\n",
       " u'09066364311',\n",
       " u'09066364349',\n",
       " u'09066364589',\n",
       " u'09066368327',\n",
       " u'09066368470',\n",
       " u'09066368753',\n",
       " u'09066380611',\n",
       " u'09066382422',\n",
       " u'09066612661',\n",
       " u'09066649731from',\n",
       " u'09066660100',\n",
       " u'09071512432',\n",
       " u'09071512433',\n",
       " u'09071517866',\n",
       " u'09077818151',\n",
       " u'09090204448',\n",
       " u'09090900040',\n",
       " u'09094100151',\n",
       " u'09094646631',\n",
       " u'09094646899',\n",
       " u'09095350301',\n",
       " u'09096102316',\n",
       " u'09099725823',\n",
       " u'09099726395',\n",
       " u'09099726429',\n",
       " u'09099726481',\n",
       " u'09099726553',\n",
       " u'09111030116',\n",
       " u'09111032124',\n",
       " u'09701213186',\n",
       " u'0a',\n",
       " u'0quit',\n",
       " u'10',\n",
       " u'100',\n",
       " u'1000',\n",
       " u'1000call',\n",
       " u'1000s',\n",
       " u'100p',\n",
       " u'100percent',\n",
       " u'100txt',\n",
       " u'1013',\n",
       " u'1030',\n",
       " u'10am',\n",
       " u'10k',\n",
       " u'10p',\n",
       " u'10ppm',\n",
       " u'10th',\n",
       " u'11',\n",
       " u'1120',\n",
       " u'113',\n",
       " u'1131',\n",
       " u'114',\n",
       " u'1146',\n",
       " u'116',\n",
       " u'1172',\n",
       " u'118p',\n",
       " u'11mths',\n",
       " u'11pm',\n",
       " u'12',\n",
       " u'1205',\n",
       " u'120p',\n",
       " u'121',\n",
       " u'1225',\n",
       " u'123',\n",
       " u'125',\n",
       " u'1250',\n",
       " u'125gift',\n",
       " u'128',\n",
       " u'12hours',\n",
       " u'12hrs',\n",
       " u'12mths',\n",
       " u'13',\n",
       " u'130',\n",
       " u'1327',\n",
       " u'139',\n",
       " u'14',\n",
       " u'140',\n",
       " u'1405',\n",
       " u'140ppm',\n",
       " u'145',\n",
       " u'1450',\n",
       " u'146tf150p',\n",
       " u'14tcr',\n",
       " u'14thmarch',\n",
       " u'15',\n",
       " u'150',\n",
       " u'1500',\n",
       " u'150p',\n",
       " u'150p16',\n",
       " u'150pm',\n",
       " u'150ppermesssubscription',\n",
       " u'150ppm',\n",
       " u'150ppmpobox10183bhamb64xe',\n",
       " u'150ppmsg',\n",
       " u'151',\n",
       " u'153',\n",
       " u'15541',\n",
       " u'15pm',\n",
       " u'16',\n",
       " u'165',\n",
       " u'1680',\n",
       " u'169',\n",
       " u'177',\n",
       " u'18',\n",
       " u'180',\n",
       " u'1843',\n",
       " u'18p',\n",
       " u'18yrs',\n",
       " u'195',\n",
       " u'1956669',\n",
       " u'1apple',\n",
       " u'1b6a5ecef91ff9',\n",
       " u'1cup',\n",
       " u'1da',\n",
       " u'1er',\n",
       " u'1hr',\n",
       " u'1im',\n",
       " u'1lemon',\n",
       " u'1mega',\n",
       " u'1million',\n",
       " u'1pm',\n",
       " u'1st',\n",
       " u'1st4terms',\n",
       " u'1stchoice',\n",
       " u'1stone',\n",
       " u'1thing',\n",
       " u'1tulsi',\n",
       " u'1win150ppmx3',\n",
       " u'1winaweek',\n",
       " u'1winawk',\n",
       " u'1x150p',\n",
       " u'1yf',\n",
       " u'20',\n",
       " u'200',\n",
       " u'2000',\n",
       " u'2003',\n",
       " u'2004',\n",
       " u'2005',\n",
       " u'2006',\n",
       " u'2007',\n",
       " u'200p',\n",
       " u'2025050',\n",
       " u'20m12aq',\n",
       " u'20p',\n",
       " u'21',\n",
       " u'21870000',\n",
       " u'21st',\n",
       " u'22',\n",
       " u'220',\n",
       " u'220cm2',\n",
       " u'2309',\n",
       " u'23f',\n",
       " u'23g',\n",
       " u'24',\n",
       " u'24hrs',\n",
       " u'24m',\n",
       " u'24th',\n",
       " u'25',\n",
       " u'250',\n",
       " u'250k',\n",
       " u'255',\n",
       " u'25p',\n",
       " u'26',\n",
       " u'2667',\n",
       " u'26th',\n",
       " u'27',\n",
       " u'28',\n",
       " u'2814032',\n",
       " u'28days',\n",
       " u'28th',\n",
       " u'28thfeb',\n",
       " u'29',\n",
       " u'2b',\n",
       " u'2bold',\n",
       " u'2c',\n",
       " u'2channel',\n",
       " u'2day',\n",
       " u'2docd',\n",
       " u'2end',\n",
       " u'2exit',\n",
       " u'2ez',\n",
       " u'2find',\n",
       " u'2getha',\n",
       " u'2geva',\n",
       " u'2go',\n",
       " u'2gthr',\n",
       " u'2hook',\n",
       " u'2hrs',\n",
       " u'2i',\n",
       " u'2kbsubject',\n",
       " u'2lands',\n",
       " u'2marrow',\n",
       " u'2moro',\n",
       " u'2morow',\n",
       " u'2morro',\n",
       " u'2morrow',\n",
       " u'2morrowxxxx',\n",
       " u'2mro',\n",
       " u'2mrw',\n",
       " u'2mwen',\n",
       " u'2nd',\n",
       " u'2nhite',\n",
       " u'2nights',\n",
       " u'2nite',\n",
       " u'2optout',\n",
       " u'2p',\n",
       " u'2price',\n",
       " u'2px',\n",
       " u'2rcv',\n",
       " u'2stop',\n",
       " u'2stoptx',\n",
       " u'2stoptxt',\n",
       " u'2u',\n",
       " u'2u2',\n",
       " u'2watershd',\n",
       " u'2waxsto',\n",
       " u'2wks',\n",
       " u'2wt',\n",
       " u'2wu',\n",
       " u'2years',\n",
       " u'2yr',\n",
       " u'2yrs',\n",
       " u'30',\n",
       " u'300',\n",
       " u'3000',\n",
       " u'300603',\n",
       " u'300603t',\n",
       " u'300p',\n",
       " u'3030',\n",
       " u'30apr',\n",
       " u'30ish',\n",
       " u'30pm',\n",
       " u'30pp',\n",
       " u'30s',\n",
       " u'30th',\n",
       " u'31',\n",
       " u'3100',\n",
       " u'310303',\n",
       " u'31p',\n",
       " u'32',\n",
       " u'32000',\n",
       " u'3230',\n",
       " u'32323',\n",
       " u'326',\n",
       " u'33',\n",
       " u'330',\n",
       " u'350',\n",
       " u'3510i',\n",
       " u'35p',\n",
       " u'3650',\n",
       " u'36504',\n",
       " u'3680',\n",
       " u'373',\n",
       " u'3750',\n",
       " u'37819',\n",
       " u'382',\n",
       " u'391784',\n",
       " u'3aj',\n",
       " u'3d',\n",
       " u'3days',\n",
       " u'3g',\n",
       " u'3gbp',\n",
       " u'3hrs',\n",
       " u'3lions',\n",
       " u'3lp',\n",
       " u'3miles',\n",
       " u'3mins',\n",
       " u'3mobile',\n",
       " u'3optical',\n",
       " u'3pound',\n",
       " u'3qxj9',\n",
       " u'3rd',\n",
       " u'3ss',\n",
       " u'3uz',\n",
       " u'3wks',\n",
       " u'3x150pw',\n",
       " u'3xx',\n",
       " u'40',\n",
       " u'400',\n",
       " u'400mins',\n",
       " u'400thousad',\n",
       " u'402',\n",
       " u'4041',\n",
       " u'40411',\n",
       " u'40533',\n",
       " u'40gb',\n",
       " u'40mph',\n",
       " u'41685',\n",
       " u'41782',\n",
       " u'420',\n",
       " u'42049',\n",
       " u'4217',\n",
       " u'42478',\n",
       " u'42810',\n",
       " u'430',\n",
       " u'434',\n",
       " u'44',\n",
       " u'440',\n",
       " u'4403ldnw1a7rw18',\n",
       " u'44345',\n",
       " u'447797706009',\n",
       " u'447801259231',\n",
       " u'448712404000',\n",
       " u'449050000301',\n",
       " u'449071512431',\n",
       " u'45',\n",
       " u'450',\n",
       " u'450p',\n",
       " u'450ppw',\n",
       " u'450pw',\n",
       " u'45239',\n",
       " u'45pm',\n",
       " u'47',\n",
       " u'4719',\n",
       " u'4742',\n",
       " u'47per',\n",
       " u'48',\n",
       " u'4882',\n",
       " u'48922',\n",
       " u'49',\n",
       " u'49557',\n",
       " u'4a',\n",
       " u'4brekkie',\n",
       " u'4d',\n",
       " u'4eva',\n",
       " u'4few',\n",
       " u'4fil',\n",
       " u'4get',\n",
       " u'4give',\n",
       " u'4got',\n",
       " u'4goten',\n",
       " u'4info',\n",
       " u'4jx',\n",
       " u'4msgs',\n",
       " u'4mths',\n",
       " u'4my',\n",
       " u'4qf2',\n",
       " u'4t',\n",
       " u'4th',\n",
       " u'4the',\n",
       " u'4thnov',\n",
       " u'4txt',\n",
       " u'4u',\n",
       " u'4utxt',\n",
       " u'4w',\n",
       " u'4ward',\n",
       " u'4wrd',\n",
       " u'4xx26',\n",
       " u'4years',\n",
       " u'50',\n",
       " u'500',\n",
       " u'5000',\n",
       " u'505060',\n",
       " u'50award',\n",
       " u'50ea',\n",
       " u'50gbp',\n",
       " u'50p',\n",
       " u'50perweeksub',\n",
       " u'50perwksub',\n",
       " u'50pm',\n",
       " u'50pmmorefrommobile2bremoved',\n",
       " u'50ppm',\n",
       " u'50rcvd',\n",
       " u'50s',\n",
       " u'515',\n",
       " u'5226',\n",
       " u'523',\n",
       " u'5249',\n",
       " u'526',\n",
       " u'528',\n",
       " u'530',\n",
       " u'54',\n",
       " u'542',\n",
       " u'545',\n",
       " u'5digital',\n",
       " u'5free',\n",
       " u'5ish',\n",
       " u'5k',\n",
       " u'5min',\n",
       " u'5mls',\n",
       " u'5p',\n",
       " u'5pm',\n",
       " u'5th',\n",
       " u'5wb',\n",
       " u'5we',\n",
       " u'5wkg',\n",
       " u'5wq',\n",
       " u'5years',\n",
       " u'60',\n",
       " u'600',\n",
       " u'6031',\n",
       " u'6089',\n",
       " u'60p',\n",
       " u'61',\n",
       " u'61200',\n",
       " u'61610',\n",
       " u'62220cncl',\n",
       " u'6230',\n",
       " u'62468',\n",
       " u'62735',\n",
       " u'630',\n",
       " u'63miles',\n",
       " u'645',\n",
       " u'65',\n",
       " u'650',\n",
       " u'66',\n",
       " u'6669',\n",
       " u'674',\n",
       " u'67441233',\n",
       " u'68866',\n",
       " u'69101',\n",
       " u'69200',\n",
       " u'69669',\n",
       " u'69696',\n",
       " u'69698',\n",
       " u'69855',\n",
       " u'69866',\n",
       " u'69876',\n",
       " u'69888',\n",
       " u'69888nyt',\n",
       " u'69911',\n",
       " u'69969',\n",
       " u'69988',\n",
       " u'6days',\n",
       " u'6hl',\n",
       " u'6hrs',\n",
       " u'6ish',\n",
       " u'6missed',\n",
       " u'6months',\n",
       " u'6ph',\n",
       " u'6pm',\n",
       " u'6th',\n",
       " u'6times',\n",
       " u'6wu',\n",
       " u'6zf',\n",
       " u'700',\n",
       " u'71',\n",
       " u'7250',\n",
       " u'7250i',\n",
       " u'730',\n",
       " u'731',\n",
       " u'74355',\n",
       " u'75',\n",
       " u'750',\n",
       " u'7548',\n",
       " u'75max',\n",
       " u'762',\n",
       " u'7634',\n",
       " u'7684',\n",
       " u'77',\n",
       " u'7732584351',\n",
       " u'78',\n",
       " u'786',\n",
       " u'7876150ppm',\n",
       " u'79',\n",
       " u'7am',\n",
       " u'7cfca1a',\n",
       " u'7ish',\n",
       " u'7mp',\n",
       " u'7oz',\n",
       " u'7pm',\n",
       " u'7th',\n",
       " u'7ws',\n",
       " u'7zs',\n",
       " u'80',\n",
       " u'800',\n",
       " u'8000930705',\n",
       " u'80062',\n",
       " u'8007',\n",
       " u'80082',\n",
       " u'80086',\n",
       " u'80122300p',\n",
       " u'80155',\n",
       " u'80160',\n",
       " u'80182',\n",
       " u'8027',\n",
       " u'80488',\n",
       " u'80608',\n",
       " u'8077',\n",
       " u'80878',\n",
       " u'81010',\n",
       " u'81151',\n",
       " u'81303',\n",
       " u'81618',\n",
       " u'82050',\n",
       " u'820554ad0a1705572711',\n",
       " u'82242',\n",
       " u'82277',\n",
       " u'82324',\n",
       " u'82468',\n",
       " u'83021',\n",
       " u'83039',\n",
       " u'83049',\n",
       " u'83110',\n",
       " u'83118',\n",
       " u'83222',\n",
       " u'83332',\n",
       " u'83338',\n",
       " u'83355',\n",
       " u'83370',\n",
       " u'83383',\n",
       " u'83435',\n",
       " u'83600',\n",
       " u'83738',\n",
       " u'84',\n",
       " u'84025',\n",
       " u'84122',\n",
       " u'84128',\n",
       " u'84199',\n",
       " u'84484',\n",
       " u'85',\n",
       " u'850',\n",
       " u'85023',\n",
       " u'85069',\n",
       " u'85222',\n",
       " u'85233',\n",
       " u'8552',\n",
       " u'85555',\n",
       " u'86021',\n",
       " u'861',\n",
       " u'864233',\n",
       " u'86688',\n",
       " u'86888',\n",
       " u'87021',\n",
       " u'87066',\n",
       " u'87070',\n",
       " u'87077',\n",
       " u'87121',\n",
       " u'87131',\n",
       " u'8714714',\n",
       " u'872',\n",
       " u'87239',\n",
       " u'87575',\n",
       " u'8800',\n",
       " u'88039',\n",
       " u'88066',\n",
       " u'88088',\n",
       " u'88222',\n",
       " u'88600',\n",
       " u'88800',\n",
       " u'8883',\n",
       " u'88877',\n",
       " u'88888',\n",
       " u'89034',\n",
       " u'89070',\n",
       " u'89080',\n",
       " u'89105',\n",
       " u'89123',\n",
       " u'89545',\n",
       " u'89555',\n",
       " u'89693',\n",
       " u'89938',\n",
       " u'8am',\n",
       " u'8ball',\n",
       " u'8lb',\n",
       " u'8p',\n",
       " u'8pm',\n",
       " u'8th',\n",
       " u'8wp',\n",
       " u'900',\n",
       " u'9061100010',\n",
       " u'910',\n",
       " u'9153',\n",
       " u'9280114',\n",
       " u'92h',\n",
       " u'930',\n",
       " u'9307622',\n",
       " u'945',\n",
       " u'946',\n",
       " u'95',\n",
       " u'9755',\n",
       " u'9758',\n",
       " u'97n7qp',\n",
       " u'98321561',\n",
       " u'99',\n",
       " u'9996',\n",
       " u'9ae',\n",
       " u'9am',\n",
       " u'9ja',\n",
       " u'9pm',\n",
       " u'9t',\n",
       " u'9th',\n",
       " u'9yt',\n",
       " u'____',\n",
       " u'_thanks',\n",
       " u'a1',\n",
       " u'a21',\n",
       " u'a30',\n",
       " u'a50',\n",
       " u'aa',\n",
       " u'aah',\n",
       " u'aaniye',\n",
       " u'aaooooright',\n",
       " u'aathi',\n",
       " u'ab',\n",
       " u'abbey',\n",
       " u'abdomen',\n",
       " u'abeg',\n",
       " u'abel',\n",
       " u'aberdeen',\n",
       " u'abi',\n",
       " u'ability',\n",
       " u'abiola',\n",
       " u'abj',\n",
       " u'able',\n",
       " u'abnormally',\n",
       " u'about',\n",
       " u'aboutas',\n",
       " u'above',\n",
       " u'abroad',\n",
       " u'absence',\n",
       " u'absolutely',\n",
       " u'absolutly',\n",
       " u'abstract',\n",
       " u'abt',\n",
       " u'abta',\n",
       " u'aburo',\n",
       " u'abuse',\n",
       " u'abusers',\n",
       " u'ac',\n",
       " u'academic',\n",
       " u'acc',\n",
       " u'accent',\n",
       " u'accenture',\n",
       " u'accept',\n",
       " u'access',\n",
       " u'accessible',\n",
       " u'accidant',\n",
       " u'accident',\n",
       " u'accidentally',\n",
       " u'accommodation',\n",
       " u'accommodationvouchers',\n",
       " u'accomodate',\n",
       " u'accomodations',\n",
       " u'accordin',\n",
       " u'accordingly',\n",
       " u'account',\n",
       " u'accounting',\n",
       " u'accounts',\n",
       " u'accumulation',\n",
       " u'achan',\n",
       " u'ache',\n",
       " u'achieve',\n",
       " u'acid',\n",
       " u'acknowledgement',\n",
       " u'acl03530150pm',\n",
       " u'acnt',\n",
       " u'aco',\n",
       " u'across',\n",
       " u'act',\n",
       " u'acted',\n",
       " u'actin',\n",
       " u'acting',\n",
       " u'action',\n",
       " u'activ8',\n",
       " u'activate',\n",
       " u'active',\n",
       " u'activities',\n",
       " u'actor',\n",
       " u'actual',\n",
       " u'actually',\n",
       " u'ad',\n",
       " u'adam',\n",
       " u'add',\n",
       " u'addamsfa',\n",
       " u'added',\n",
       " u'addicted',\n",
       " u'addie',\n",
       " u'adding',\n",
       " u'address',\n",
       " u'adds',\n",
       " u'adewale',\n",
       " u'adi',\n",
       " u'adjustable',\n",
       " u'admin',\n",
       " u'administrator',\n",
       " u'admirer',\n",
       " u'admission',\n",
       " u'admit',\n",
       " u'adore',\n",
       " u'adoring',\n",
       " u'adp',\n",
       " u'adress',\n",
       " u'adrian',\n",
       " u'adrink',\n",
       " u'ads',\n",
       " u'adsense',\n",
       " u'adult',\n",
       " u'adults',\n",
       " u'advance',\n",
       " u'adventure',\n",
       " u'adventuring',\n",
       " u'advice',\n",
       " u'advise',\n",
       " u'advising',\n",
       " u'advisors',\n",
       " u'aeronautics',\n",
       " u'aeroplane',\n",
       " u'afew',\n",
       " u'affair',\n",
       " u'affairs',\n",
       " u'affection',\n",
       " u'affectionate',\n",
       " u'affections',\n",
       " u'affidavit',\n",
       " u'afford',\n",
       " u'afghanistan',\n",
       " u'afraid',\n",
       " u'africa',\n",
       " u'african',\n",
       " u'aft',\n",
       " u'after',\n",
       " u'afternon',\n",
       " u'afternoon',\n",
       " u'afternoons',\n",
       " u'afterwards',\n",
       " u'aftr',\n",
       " u'ag',\n",
       " u'again',\n",
       " u'against',\n",
       " u'agalla',\n",
       " u'age',\n",
       " u'age16',\n",
       " u'age23',\n",
       " u'agency',\n",
       " u'agent',\n",
       " u'agents',\n",
       " u'ages',\n",
       " u'agidhane',\n",
       " u'aging',\n",
       " u'ago',\n",
       " u'agree',\n",
       " u'ah',\n",
       " u'aha',\n",
       " u'ahead',\n",
       " ...]"
      ]
     },
     "execution_count": 31,
     "metadata": {},
     "output_type": "execute_result"
    }
   ],
   "source": [
    "# feature names\n",
    "sorted(vect.vocabulary_.keys())"
   ]
  },
  {
   "cell_type": "code",
   "execution_count": 32,
   "metadata": {
    "collapsed": true
   },
   "outputs": [],
   "source": [
    "best_nb = clf.best_estimator_"
   ]
  },
  {
   "cell_type": "code",
   "execution_count": 33,
   "metadata": {
    "collapsed": false
   },
   "outputs": [
    {
     "data": {
      "text/plain": [
       "ham    0.865937\n",
       "Name: y, dtype: float64"
      ]
     },
     "execution_count": 33,
     "metadata": {},
     "output_type": "execute_result"
    }
   ],
   "source": [
    "# minimum we should expect\n",
    "y.value_counts().head(1) / len(y)"
   ]
  },
  {
   "cell_type": "markdown",
   "metadata": {},
   "source": [
    "While our performance exceeds the benchmarks, we should be concerned with more than just plain old accuracy in this case. What if we classify a real message as spam? Is that as bad as classifying spam as ham? We'll discuss this more in depth soon..."
   ]
  },
  {
   "cell_type": "code",
   "execution_count": 34,
   "metadata": {
    "collapsed": false
   },
   "outputs": [],
   "source": [
    "predictions = pd.Series(best_nb.predict(X), index=X.index)"
   ]
  },
  {
   "cell_type": "code",
   "execution_count": 35,
   "metadata": {
    "collapsed": false,
    "scrolled": true
   },
   "outputs": [],
   "source": [
    "check = pd.DataFrame({'predictions': predictions, 'actual': y})"
   ]
  },
  {
   "cell_type": "code",
   "execution_count": 36,
   "metadata": {
    "collapsed": false
   },
   "outputs": [],
   "source": [
    "# get the row numbers where we made a bad prediction\n",
    "indices = check[check['predictions'] != check['actual']].index"
   ]
  },
  {
   "cell_type": "code",
   "execution_count": 37,
   "metadata": {
    "collapsed": false,
    "scrolled": true
   },
   "outputs": [
    {
     "data": {
      "text/plain": [
       "45                       No calls..messages..missed calls\n",
       "326                      No calls..messages..missed calls\n",
       "387                       Customer place i will call you.\n",
       "495                      Are you free now?can i call now?\n",
       "574                                Waiting for your call.\n",
       "991                                          26th OF JULY\n",
       "1082                    Can u get pic msgs to your phone?\n",
       "1988                     No calls..messages..missed calls\n",
       "2663    Hello darling how are you today? I would love ...\n",
       "2774    How come it takes so little time for a child w...\n",
       "2965    Do you ever notice that when you're driving, a...\n",
       "3142                       Customer place i will call you\n",
       "3360    Sorry I missed your call let's talk when you h...\n",
       "3415                              No pic. Please re-send.\n",
       "3419    LIFE has never been this much fun and great un...\n",
       "3894                       Have you heard from this week?\n",
       "4703                                           Anytime...\n",
       "5157                              K k:) sms chat with me.\n",
       "Name: msg, dtype: object"
      ]
     },
     "execution_count": 37,
     "metadata": {},
     "output_type": "execute_result"
    }
   ],
   "source": [
    "# these are the messages we incorrectly labeled as spam\n",
    "data.loc[indices, 'msg']"
   ]
  },
  {
   "cell_type": "code",
   "execution_count": 38,
   "metadata": {
    "collapsed": true
   },
   "outputs": [],
   "source": [
    "# sample sms to test\n",
    "examples = ['Free Viagra call today!', \"I hope I get to see you tomorrow.\"]"
   ]
  },
  {
   "cell_type": "code",
   "execution_count": 39,
   "metadata": {
    "collapsed": true
   },
   "outputs": [],
   "source": [
    "def check_spam(nb_classifier, sms_list, count_vector):\n",
    "    \"\"\"\n",
    "    takes as input nb_classifier which is nbayes we created above\n",
    "    sms_list is the list of sms messages we want to classify\n",
    "    count_vector is the vect we created above from the CountVectorizer\n",
    "    \"\"\"\n",
    "    df = pd.DataFrame(count_vector.transform(examples).toarray())\n",
    "    predictions = pd.Series(nb_classifier.predict(df))\n",
    "    \n",
    "    return predictions\n",
    "    "
   ]
  },
  {
   "cell_type": "code",
   "execution_count": 40,
   "metadata": {
    "collapsed": false
   },
   "outputs": [
    {
     "data": {
      "text/plain": [
       "0    spam\n",
       "1     ham\n",
       "dtype: object"
      ]
     },
     "execution_count": 40,
     "metadata": {},
     "output_type": "execute_result"
    }
   ],
   "source": [
    "# we can now check if the messages from examples are spam or ham\n",
    "check_spam(best_nb, examples, vect)"
   ]
  }
 ],
 "metadata": {
  "anaconda-cloud": {},
  "kernelspec": {
   "display_name": "Python [Root]",
   "language": "python",
   "name": "Python [Root]"
  },
  "language_info": {
   "codemirror_mode": {
    "name": "ipython",
    "version": 2
   },
   "file_extension": ".py",
   "mimetype": "text/x-python",
   "name": "python",
   "nbconvert_exporter": "python",
   "pygments_lexer": "ipython2",
   "version": "2.7.12"
  }
 },
 "nbformat": 4,
 "nbformat_minor": 0
}
