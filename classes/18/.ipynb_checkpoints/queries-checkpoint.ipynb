{
 "cells": [
  {
   "cell_type": "code",
   "execution_count": 5,
   "metadata": {
    "collapsed": true
   },
   "outputs": [],
   "source": [
    "import sqlite3"
   ]
  },
  {
   "cell_type": "code",
   "execution_count": 9,
   "metadata": {},
   "outputs": [
    {
     "data": {
      "text/plain": [
       "[(1, u\"Sgt. Pepper's Lonely Hearts Club Band - Remastered\", 122893),\n",
       " (2, u'With A Little Help From My Friends - Remastered', 164106),\n",
       " (3, u'Lucy In The Sky With Diamonds - Remastered', 208466),\n",
       " (4, u'Getting Better - Remastered', 168120),\n",
       " (5, u'Fixing A Hole - Remastered', 156826),\n",
       " (6, u\"She's Leaving Home - Remastered\", 215160),\n",
       " (7, u'Being For The Benefit Of Mr. Kite! - Remastered', 157533),\n",
       " (8, u'Within You Without You - Remastered', 304666),\n",
       " (9, u\"When I'm Sixty Four - Remastered\", 157666),\n",
       " (10, u'Lovely Rita - Remastered', 162093),\n",
       " (11, u'Good Morning Good Morning - Remastered', 161226),\n",
       " (12, u\"Sgt. Pepper's Lonely Hearts Club Band - Reprise / Remastered\", 79066),\n",
       " (13, u'A Day In The Life - Remastered', 337413)]"
      ]
     },
     "execution_count": 9,
     "metadata": {},
     "output_type": "execute_result"
    }
   ],
   "source": [
    "connection = sqlite3.connect('spotify.db')\n",
    "c = connection.cursor()\n",
    "c.execute(\"\"\"SELECT * FROM sgt_pepp_songs\"\"\")\n",
    "c.fetchall()"
   ]
  },
  {
   "cell_type": "code",
   "execution_count": 10,
   "metadata": {
    "collapsed": true
   },
   "outputs": [],
   "source": [
    "connection.close()"
   ]
  },
  {
   "cell_type": "code",
   "execution_count": 4,
   "metadata": {},
   "outputs": [],
   "source": [
    "# delete table\n",
    "with sqlite3.connect('spotify.db') as connection:\n",
    "    c = connection.cursor()\n",
    "    c.execute(\"\"\"DROP TABLE sgt_pepp_songs\"\"\")"
   ]
  },
  {
   "cell_type": "code",
   "execution_count": 6,
   "metadata": {},
   "outputs": [],
   "source": [
    "# create table\n",
    "with sqlite3.connect('spotify.db') as connection:\n",
    "    c = connection.cursor()\n",
    "    c.execute(\"\"\"CREATE TABLE sgt_pepp_songs\n",
    "            (track_num INT,\n",
    "            name TEXT UNIQUE,\n",
    "            duration INT)\n",
    "            \"\"\")"
   ]
  },
  {
   "cell_type": "code",
   "execution_count": null,
   "metadata": {
    "collapsed": true
   },
   "outputs": [],
   "source": []
  },
  {
   "cell_type": "code",
   "execution_count": null,
   "metadata": {
    "collapsed": true
   },
   "outputs": [],
   "source": []
  },
  {
   "cell_type": "code",
   "execution_count": null,
   "metadata": {
    "collapsed": true
   },
   "outputs": [],
   "source": []
  },
  {
   "cell_type": "code",
   "execution_count": null,
   "metadata": {
    "collapsed": true
   },
   "outputs": [],
   "source": []
  },
  {
   "cell_type": "code",
   "execution_count": 8,
   "metadata": {},
   "outputs": [
    {
     "data": {
      "text/plain": [
       "(u'Within You Without You - Remastered', 304666)"
      ]
     },
     "execution_count": 8,
     "metadata": {},
     "output_type": "execute_result"
    }
   ],
   "source": [
    "# query for second longest song\n",
    "connection = sqlite3.connect('spotify.db')\n",
    "c = connection.cursor()\n",
    "c.execute(\"\"\"Enter Your Query Here\"\"\")\n",
    "c.fetchone()"
   ]
  }
 ],
 "metadata": {
  "kernelspec": {
   "display_name": "Python [conda root]",
   "language": "python",
   "name": "conda-root-py"
  },
  "language_info": {
   "codemirror_mode": {
    "name": "ipython",
    "version": 3
   },
   "file_extension": ".py",
   "mimetype": "text/x-python",
   "name": "python",
   "nbconvert_exporter": "python",
   "pygments_lexer": "ipython3",
   "version": "3.6.2"
  }
 },
 "nbformat": 4,
 "nbformat_minor": 2
}
