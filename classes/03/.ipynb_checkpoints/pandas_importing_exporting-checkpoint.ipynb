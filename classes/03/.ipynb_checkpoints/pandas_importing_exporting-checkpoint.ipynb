{
 "cells": [
  {
   "cell_type": "markdown",
   "metadata": {
    "collapsed": true
   },
   "source": [
    "# I/O with Pandas"
   ]
  },
  {
   "cell_type": "markdown",
   "metadata": {},
   "source": [
    "Pandas provides a one-stop shop for importing lots of filetypes into Python:\n",
    "\n",
    "- csv, tsv, txt, and family\n",
    "- xls, xlsx\n",
    "- SPSS, R, SAS, stata\n",
    "- JSON\n",
    "- SQL\n",
    "- HDF5"
   ]
  },
  {
   "cell_type": "markdown",
   "metadata": {},
   "source": [
    "# Now it's time to work with real data!\n",
    "\n",
    "- the file is called imdb_top_10000.txt\n",
    "- your boss wants you to \"clean\" up the file, whatever that means"
   ]
  },
  {
   "cell_type": "markdown",
   "metadata": {},
   "source": [
    "### Handling a messy dataset called imdb_top_10000.txt"
   ]
  },
  {
   "cell_type": "markdown",
   "metadata": {},
   "source": [
    "### Importing data for this class and beyond\n",
    "\n",
    "- the main function you will use is panda's read_csv, which is very similar to other languages (such as R)\n",
    "- crucial to understand and use all of the function's arguments correctly"
   ]
  },
  {
   "cell_type": "markdown",
   "metadata": {},
   "source": [
    "[read_csv documentation](http://pandas.pydata.org/pandas-docs/stable/generated/pandas.read_csv.html)"
   ]
  },
  {
   "cell_type": "markdown",
   "metadata": {},
   "source": [
    "Important arguments to read_csv:\n",
    "\n",
    "- filepath (string): this is where you specify the filename (ie titanic.csv) or even a URL!\n",
    "- sep (string): what separates the data? default is ',' for CSV\n",
    "- header (int or list): specify the row number that contains the header (0 for 1st row)\n",
    "- skiprows (int or list): skip a number of rows due to filler or unnecessary whitespace at the top of files\n",
    "- index_col (int or list): specify which column is the unique row identifier (think: row name)\n",
    "- names (list): specify the column names, usually as a list\n",
    "- na_values (string or list): specify any words that may mean missing in advance, such as \"N/A\" or \"missing\""
   ]
  },
  {
   "cell_type": "code",
   "execution_count": 1,
   "metadata": {
    "collapsed": true
   },
   "outputs": [],
   "source": [
    "import pandas as pd"
   ]
  },
  {
   "cell_type": "markdown",
   "metadata": {},
   "source": [
    "We should first peak at the data. We can use the unix command `head` on OSX/Linux:"
   ]
  },
  {
   "cell_type": "code",
   "execution_count": 2,
   "metadata": {
    "collapsed": false
   },
   "outputs": [
    {
     "name": "stdout",
     "output_type": "stream",
     "text": [
      "tt0111161\tThe Shawshank Redemption (1994)\t1994\t 9.2\t619479\t142 mins.\tCrime|Drama\r\n",
      "tt0110912\tPulp Fiction (1994)\t1994\t 9.0\t490065\t154 mins.\tCrime|Thriller\r\n",
      "tt0137523\tFight Club (1999)\t1999\t 8.8\t458173\t139 mins.\tDrama|Mystery|Thriller\r\n",
      "tt0133093\tThe Matrix (1999)\t1999\t 8.7\t448114\t136 mins.\tAction|Adventure|Sci-Fi\r\n",
      "tt1375666\tInception (2010)\t2010\t 8.9\t385149\t148 mins.\tAction|Adventure|Sci-Fi|Thriller\r\n",
      "tt0109830\tForrest Gump (1994)\t1994\t 8.7\t368994\t142 mins.\tComedy|Drama|Romance\r\n",
      "tt0169547\tAmerican Beauty (1999)\t1999\t 8.6\t338332\t122 mins.\tDrama\r\n",
      "tt0499549\tAvatar (2009)\t2009\t 8.1\t336855\t162 mins.\tAction|Adventure|Fantasy|Sci-Fi\r\n",
      "tt0108052\tSchindler's List (1993)\t1993\t 8.9\t325888\t195 mins.\tBiography|Drama|History|War\r\n",
      "tt0080684\tStar Wars: Episode V - The Empire Strikes Back (1980)\t1980\t 8.8\t320105\t124 mins.\tAction|Adventure|Family|Sci-Fi\r\n"
     ]
    }
   ],
   "source": [
    "!head data/imdb_top_10000.txt"
   ]
  },
  {
   "cell_type": "markdown",
   "metadata": {},
   "source": [
    "What sticks out about this dataset based on our view above? How is it structured? What does each column represent? Can we identify each row?"
   ]
  },
  {
   "cell_type": "markdown",
   "metadata": {},
   "source": [
    "## Exercise: import imdb_top_10000 so it looks like `data` below:\n",
    "\n",
    "Hints:\n",
    "\n",
    "- think about what character separates each columns\n",
    "- what does each row represent?"
   ]
  },
  {
   "cell_type": "code",
   "execution_count": 10,
   "metadata": {
    "collapsed": false
   },
   "outputs": [],
   "source": [
    "# your code here\n",
    "data = pd.read_csv('data/imdb_top_10000.txt', sep='\\t', index_col=0, \n",
    "                   names=['id', 'title', 'year', 'score', 'votes', 'length', 'genres'])"
   ]
  },
  {
   "cell_type": "code",
   "execution_count": 11,
   "metadata": {
    "collapsed": false
   },
   "outputs": [
    {
     "data": {
      "text/html": [
       "<div>\n",
       "<table border=\"1\" class=\"dataframe\">\n",
       "  <thead>\n",
       "    <tr style=\"text-align: right;\">\n",
       "      <th></th>\n",
       "      <th>title</th>\n",
       "      <th>year</th>\n",
       "      <th>score</th>\n",
       "      <th>votes</th>\n",
       "      <th>length</th>\n",
       "      <th>genres</th>\n",
       "    </tr>\n",
       "    <tr>\n",
       "      <th>id</th>\n",
       "      <th></th>\n",
       "      <th></th>\n",
       "      <th></th>\n",
       "      <th></th>\n",
       "      <th></th>\n",
       "      <th></th>\n",
       "    </tr>\n",
       "  </thead>\n",
       "  <tbody>\n",
       "    <tr>\n",
       "      <th>tt0111161</th>\n",
       "      <td>The Shawshank Redemption (1994)</td>\n",
       "      <td>1994</td>\n",
       "      <td>9.2</td>\n",
       "      <td>619479</td>\n",
       "      <td>142 mins.</td>\n",
       "      <td>Crime|Drama</td>\n",
       "    </tr>\n",
       "    <tr>\n",
       "      <th>tt0110912</th>\n",
       "      <td>Pulp Fiction (1994)</td>\n",
       "      <td>1994</td>\n",
       "      <td>9.0</td>\n",
       "      <td>490065</td>\n",
       "      <td>154 mins.</td>\n",
       "      <td>Crime|Thriller</td>\n",
       "    </tr>\n",
       "    <tr>\n",
       "      <th>tt0137523</th>\n",
       "      <td>Fight Club (1999)</td>\n",
       "      <td>1999</td>\n",
       "      <td>8.8</td>\n",
       "      <td>458173</td>\n",
       "      <td>139 mins.</td>\n",
       "      <td>Drama|Mystery|Thriller</td>\n",
       "    </tr>\n",
       "    <tr>\n",
       "      <th>tt0133093</th>\n",
       "      <td>The Matrix (1999)</td>\n",
       "      <td>1999</td>\n",
       "      <td>8.7</td>\n",
       "      <td>448114</td>\n",
       "      <td>136 mins.</td>\n",
       "      <td>Action|Adventure|Sci-Fi</td>\n",
       "    </tr>\n",
       "    <tr>\n",
       "      <th>tt1375666</th>\n",
       "      <td>Inception (2010)</td>\n",
       "      <td>2010</td>\n",
       "      <td>8.9</td>\n",
       "      <td>385149</td>\n",
       "      <td>148 mins.</td>\n",
       "      <td>Action|Adventure|Sci-Fi|Thriller</td>\n",
       "    </tr>\n",
       "  </tbody>\n",
       "</table>\n",
       "</div>"
      ],
      "text/plain": [
       "                                     title  year  score   votes     length  \\\n",
       "id                                                                           \n",
       "tt0111161  The Shawshank Redemption (1994)  1994    9.2  619479  142 mins.   \n",
       "tt0110912              Pulp Fiction (1994)  1994    9.0  490065  154 mins.   \n",
       "tt0137523                Fight Club (1999)  1999    8.8  458173  139 mins.   \n",
       "tt0133093                The Matrix (1999)  1999    8.7  448114  136 mins.   \n",
       "tt1375666                 Inception (2010)  2010    8.9  385149  148 mins.   \n",
       "\n",
       "                                     genres  \n",
       "id                                           \n",
       "tt0111161                       Crime|Drama  \n",
       "tt0110912                    Crime|Thriller  \n",
       "tt0137523            Drama|Mystery|Thriller  \n",
       "tt0133093           Action|Adventure|Sci-Fi  \n",
       "tt1375666  Action|Adventure|Sci-Fi|Thriller  "
      ]
     },
     "execution_count": 11,
     "metadata": {},
     "output_type": "execute_result"
    }
   ],
   "source": [
    "data.head()"
   ]
  },
  {
   "cell_type": "code",
   "execution_count": 13,
   "metadata": {
    "collapsed": false
   },
   "outputs": [
    {
     "name": "stdout",
     "output_type": "stream",
     "text": [
      "<class 'pandas.core.frame.DataFrame'>\n",
      "Index: 10000 entries, tt0111161 to tt0279977\n",
      "Data columns (total 6 columns):\n",
      "title     10000 non-null object\n",
      "year      10000 non-null int64\n",
      "score     10000 non-null float64\n",
      "votes     10000 non-null int64\n",
      "length    10000 non-null object\n",
      "genres    9999 non-null object\n",
      "dtypes: float64(1), int64(2), object(3)\n",
      "memory usage: 546.9+ KB\n"
     ]
    }
   ],
   "source": [
    "data.info()"
   ]
  },
  {
   "cell_type": "markdown",
   "metadata": {},
   "source": [
    "### whenever we get a new dataset, good things to check:\n",
    "\n",
    "- headers\n",
    "- delimiters\n",
    "- structure of columns\n",
    "- data type issues\n",
    "- missings\n",
    "- rows x columns"
   ]
  },
  {
   "cell_type": "markdown",
   "metadata": {},
   "source": [
    "### Importing from Excel"
   ]
  },
  {
   "cell_type": "markdown",
   "metadata": {},
   "source": [
    "Notice we can select the sheet within the workbook!\n",
    "\n",
    "- This reads in JUST the data itself"
   ]
  },
  {
   "cell_type": "code",
   "execution_count": 14,
   "metadata": {
    "collapsed": true
   },
   "outputs": [],
   "source": [
    "xlsx = pd.read_excel('data/sales_data.xlsx', sheet='quantity')"
   ]
  },
  {
   "cell_type": "code",
   "execution_count": 15,
   "metadata": {
    "collapsed": false
   },
   "outputs": [
    {
     "data": {
      "text/html": [
       "<div>\n",
       "<table border=\"1\" class=\"dataframe\">\n",
       "  <thead>\n",
       "    <tr style=\"text-align: right;\">\n",
       "      <th></th>\n",
       "      <th>Q1</th>\n",
       "      <th>Q2</th>\n",
       "      <th>Q3</th>\n",
       "      <th>Q4</th>\n",
       "    </tr>\n",
       "  </thead>\n",
       "  <tbody>\n",
       "    <tr>\n",
       "      <th>0</th>\n",
       "      <td>18</td>\n",
       "      <td>29</td>\n",
       "      <td>99</td>\n",
       "      <td>99</td>\n",
       "    </tr>\n",
       "    <tr>\n",
       "      <th>1</th>\n",
       "      <td>15</td>\n",
       "      <td>48</td>\n",
       "      <td>67</td>\n",
       "      <td>68</td>\n",
       "    </tr>\n",
       "    <tr>\n",
       "      <th>2</th>\n",
       "      <td>58</td>\n",
       "      <td>21</td>\n",
       "      <td>86</td>\n",
       "      <td>49</td>\n",
       "    </tr>\n",
       "    <tr>\n",
       "      <th>3</th>\n",
       "      <td>86</td>\n",
       "      <td>66</td>\n",
       "      <td>35</td>\n",
       "      <td>62</td>\n",
       "    </tr>\n",
       "    <tr>\n",
       "      <th>4</th>\n",
       "      <td>62</td>\n",
       "      <td>5</td>\n",
       "      <td>46</td>\n",
       "      <td>46</td>\n",
       "    </tr>\n",
       "  </tbody>\n",
       "</table>\n",
       "</div>"
      ],
      "text/plain": [
       "   Q1  Q2  Q3  Q4\n",
       "0  18  29  99  99\n",
       "1  15  48  67  68\n",
       "2  58  21  86  49\n",
       "3  86  66  35  62\n",
       "4  62   5  46  46"
      ]
     },
     "execution_count": 15,
     "metadata": {},
     "output_type": "execute_result"
    }
   ],
   "source": [
    "xlsx.head()"
   ]
  },
  {
   "cell_type": "markdown",
   "metadata": {},
   "source": [
    "### Importing from other software"
   ]
  },
  {
   "cell_type": "markdown",
   "metadata": {},
   "source": [
    "Check out the following links for importing from:\n",
    "\n",
    "- [SAS](http://pandas.pydata.org/pandas-docs/stable/io.html#sas-formats)\n",
    "- [stata](http://pandas.pydata.org/pandas-docs/stable/io.html#stata-format)\n",
    "- [R](http://pandas.pydata.org/pandas-docs/stable/r_interface.html)\n"
   ]
  },
  {
   "cell_type": "markdown",
   "metadata": {},
   "source": [
    "### Importing from SQL\n",
    "\n",
    "Check out panda's [SQL capabilities](http://pandas.pydata.org/pandas-docs/stable/io.html#io-sql)"
   ]
  },
  {
   "cell_type": "markdown",
   "metadata": {},
   "source": [
    "### Exporting to CSV"
   ]
  },
  {
   "cell_type": "markdown",
   "metadata": {},
   "source": [
    "`dataframe_name.to_csv`"
   ]
  },
  {
   "cell_type": "markdown",
   "metadata": {},
   "source": [
    "### Quick note on exporting data with to_csv\n",
    "\n",
    "- path (string): the filename of the newly created csv\n",
    "- sep (string): the delimiter, typically ',' which is the default\n",
    "- na_rep (string): how to represent NA values, defaults as empty string\n",
    "- header (boolean): whether to include the header\n",
    "- index (boolean): whether to include row-names\n",
    "\n",
    "[to_csv documentation](http://pandas.pydata.org/pandas-docs/version/0.17.1/generated/pandas.DataFrame.to_csv.html)"
   ]
  },
  {
   "cell_type": "code",
   "execution_count": 16,
   "metadata": {
    "collapsed": true
   },
   "outputs": [],
   "source": [
    "data.to_csv('test.csv', header=True, index=True, sep=',')"
   ]
  },
  {
   "cell_type": "markdown",
   "metadata": {},
   "source": [
    "### Let's do some practice"
   ]
  },
  {
   "cell_type": "code",
   "execution_count": 18,
   "metadata": {
    "collapsed": false
   },
   "outputs": [
    {
     "data": {
      "text/html": [
       "<div>\n",
       "<table border=\"1\" class=\"dataframe\">\n",
       "  <thead>\n",
       "    <tr style=\"text-align: right;\">\n",
       "      <th></th>\n",
       "      <th>title</th>\n",
       "      <th>year</th>\n",
       "      <th>score</th>\n",
       "      <th>votes</th>\n",
       "      <th>length</th>\n",
       "      <th>genres</th>\n",
       "    </tr>\n",
       "    <tr>\n",
       "      <th>id</th>\n",
       "      <th></th>\n",
       "      <th></th>\n",
       "      <th></th>\n",
       "      <th></th>\n",
       "      <th></th>\n",
       "      <th></th>\n",
       "    </tr>\n",
       "  </thead>\n",
       "  <tbody>\n",
       "    <tr>\n",
       "      <th>tt0137523</th>\n",
       "      <td>Fight Club (1999)</td>\n",
       "      <td>1999</td>\n",
       "      <td>8.8</td>\n",
       "      <td>458173</td>\n",
       "      <td>139 mins.</td>\n",
       "      <td>Drama|Mystery|Thriller</td>\n",
       "    </tr>\n",
       "    <tr>\n",
       "      <th>tt0133093</th>\n",
       "      <td>The Matrix (1999)</td>\n",
       "      <td>1999</td>\n",
       "      <td>8.7</td>\n",
       "      <td>448114</td>\n",
       "      <td>136 mins.</td>\n",
       "      <td>Action|Adventure|Sci-Fi</td>\n",
       "    </tr>\n",
       "    <tr>\n",
       "      <th>tt1375666</th>\n",
       "      <td>Inception (2010)</td>\n",
       "      <td>2010</td>\n",
       "      <td>8.9</td>\n",
       "      <td>385149</td>\n",
       "      <td>148 mins.</td>\n",
       "      <td>Action|Adventure|Sci-Fi|Thriller</td>\n",
       "    </tr>\n",
       "    <tr>\n",
       "      <th>tt0169547</th>\n",
       "      <td>American Beauty (1999)</td>\n",
       "      <td>1999</td>\n",
       "      <td>8.6</td>\n",
       "      <td>338332</td>\n",
       "      <td>122 mins.</td>\n",
       "      <td>Drama</td>\n",
       "    </tr>\n",
       "    <tr>\n",
       "      <th>tt0499549</th>\n",
       "      <td>Avatar (2009)</td>\n",
       "      <td>2009</td>\n",
       "      <td>8.1</td>\n",
       "      <td>336855</td>\n",
       "      <td>162 mins.</td>\n",
       "      <td>Action|Adventure|Fantasy|Sci-Fi</td>\n",
       "    </tr>\n",
       "  </tbody>\n",
       "</table>\n",
       "</div>"
      ],
      "text/plain": [
       "                            title  year  score   votes     length  \\\n",
       "id                                                                  \n",
       "tt0137523       Fight Club (1999)  1999    8.8  458173  139 mins.   \n",
       "tt0133093       The Matrix (1999)  1999    8.7  448114  136 mins.   \n",
       "tt1375666        Inception (2010)  2010    8.9  385149  148 mins.   \n",
       "tt0169547  American Beauty (1999)  1999    8.6  338332  122 mins.   \n",
       "tt0499549           Avatar (2009)  2009    8.1  336855  162 mins.   \n",
       "\n",
       "                                     genres  \n",
       "id                                           \n",
       "tt0137523            Drama|Mystery|Thriller  \n",
       "tt0133093           Action|Adventure|Sci-Fi  \n",
       "tt1375666  Action|Adventure|Sci-Fi|Thriller  \n",
       "tt0169547                             Drama  \n",
       "tt0499549   Action|Adventure|Fantasy|Sci-Fi  "
      ]
     },
     "execution_count": 18,
     "metadata": {},
     "output_type": "execute_result"
    }
   ],
   "source": [
    "# try to guess what it's doing before executing\n",
    "data[data['year'] > 1995].head()"
   ]
  },
  {
   "cell_type": "code",
   "execution_count": 19,
   "metadata": {
    "collapsed": false
   },
   "outputs": [
    {
     "data": {
      "text/html": [
       "<div>\n",
       "<table border=\"1\" class=\"dataframe\">\n",
       "  <thead>\n",
       "    <tr style=\"text-align: right;\">\n",
       "      <th></th>\n",
       "      <th>title</th>\n",
       "      <th>year</th>\n",
       "      <th>score</th>\n",
       "      <th>votes</th>\n",
       "      <th>length</th>\n",
       "      <th>genres</th>\n",
       "    </tr>\n",
       "    <tr>\n",
       "      <th>id</th>\n",
       "      <th></th>\n",
       "      <th></th>\n",
       "      <th></th>\n",
       "      <th></th>\n",
       "      <th></th>\n",
       "      <th></th>\n",
       "    </tr>\n",
       "  </thead>\n",
       "  <tbody>\n",
       "    <tr>\n",
       "      <th>tt0137523</th>\n",
       "      <td>Fight Club (1999)</td>\n",
       "      <td>1999</td>\n",
       "      <td>8.8</td>\n",
       "      <td>458173</td>\n",
       "      <td>139 mins.</td>\n",
       "      <td>Drama|Mystery|Thriller</td>\n",
       "    </tr>\n",
       "    <tr>\n",
       "      <th>tt0133093</th>\n",
       "      <td>The Matrix (1999)</td>\n",
       "      <td>1999</td>\n",
       "      <td>8.7</td>\n",
       "      <td>448114</td>\n",
       "      <td>136 mins.</td>\n",
       "      <td>Action|Adventure|Sci-Fi</td>\n",
       "    </tr>\n",
       "    <tr>\n",
       "      <th>tt0169547</th>\n",
       "      <td>American Beauty (1999)</td>\n",
       "      <td>1999</td>\n",
       "      <td>8.6</td>\n",
       "      <td>338332</td>\n",
       "      <td>122 mins.</td>\n",
       "      <td>Drama</td>\n",
       "    </tr>\n",
       "    <tr>\n",
       "      <th>tt0120338</th>\n",
       "      <td>Titanic (1997)</td>\n",
       "      <td>1997</td>\n",
       "      <td>7.4</td>\n",
       "      <td>284245</td>\n",
       "      <td>194 mins.</td>\n",
       "      <td>Adventure|Drama|History|Romance</td>\n",
       "    </tr>\n",
       "    <tr>\n",
       "      <th>tt0167404</th>\n",
       "      <td>The Sixth Sense (1999)</td>\n",
       "      <td>1999</td>\n",
       "      <td>8.2</td>\n",
       "      <td>278210</td>\n",
       "      <td>107 mins.</td>\n",
       "      <td>Drama|Mystery|Thriller</td>\n",
       "    </tr>\n",
       "  </tbody>\n",
       "</table>\n",
       "</div>"
      ],
      "text/plain": [
       "                            title  year  score   votes     length  \\\n",
       "id                                                                  \n",
       "tt0137523       Fight Club (1999)  1999    8.8  458173  139 mins.   \n",
       "tt0133093       The Matrix (1999)  1999    8.7  448114  136 mins.   \n",
       "tt0169547  American Beauty (1999)  1999    8.6  338332  122 mins.   \n",
       "tt0120338          Titanic (1997)  1997    7.4  284245  194 mins.   \n",
       "tt0167404  The Sixth Sense (1999)  1999    8.2  278210  107 mins.   \n",
       "\n",
       "                                    genres  \n",
       "id                                          \n",
       "tt0137523           Drama|Mystery|Thriller  \n",
       "tt0133093          Action|Adventure|Sci-Fi  \n",
       "tt0169547                            Drama  \n",
       "tt0120338  Adventure|Drama|History|Romance  \n",
       "tt0167404           Drama|Mystery|Thriller  "
      ]
     },
     "execution_count": 19,
     "metadata": {},
     "output_type": "execute_result"
    }
   ],
   "source": [
    "data[(data.year > 1995) & (data.year < 2000)].head()"
   ]
  },
  {
   "cell_type": "code",
   "execution_count": 21,
   "metadata": {
    "collapsed": false
   },
   "outputs": [
    {
     "data": {
      "text/html": [
       "<div>\n",
       "<table border=\"1\" class=\"dataframe\">\n",
       "  <thead>\n",
       "    <tr style=\"text-align: right;\">\n",
       "      <th></th>\n",
       "      <th>title</th>\n",
       "      <th>year</th>\n",
       "      <th>score</th>\n",
       "      <th>votes</th>\n",
       "      <th>length</th>\n",
       "      <th>genres</th>\n",
       "    </tr>\n",
       "    <tr>\n",
       "      <th>id</th>\n",
       "      <th></th>\n",
       "      <th></th>\n",
       "      <th></th>\n",
       "      <th></th>\n",
       "      <th></th>\n",
       "      <th></th>\n",
       "    </tr>\n",
       "  </thead>\n",
       "  <tbody>\n",
       "    <tr>\n",
       "      <th>tt0060666</th>\n",
       "      <td>Manos: The Hands of Fate (1966)</td>\n",
       "      <td>1966</td>\n",
       "      <td>1.5</td>\n",
       "      <td>20927</td>\n",
       "      <td>74 mins.</td>\n",
       "      <td>Horror</td>\n",
       "    </tr>\n",
       "    <tr>\n",
       "      <th>tt1309000</th>\n",
       "      <td>Dream Well (2009)</td>\n",
       "      <td>2009</td>\n",
       "      <td>1.5</td>\n",
       "      <td>2848</td>\n",
       "      <td>00 mins.</td>\n",
       "      <td>Comedy|Romance|Sport</td>\n",
       "    </tr>\n",
       "    <tr>\n",
       "      <th>tt0060753</th>\n",
       "      <td>Night Train to Mundo Fine (1966)</td>\n",
       "      <td>1966</td>\n",
       "      <td>1.5</td>\n",
       "      <td>3542</td>\n",
       "      <td>89 mins.</td>\n",
       "      <td>Action|Adventure|Crime|War</td>\n",
       "    </tr>\n",
       "    <tr>\n",
       "      <th>tt0059464</th>\n",
       "      <td>Monster a-Go Go (1965)</td>\n",
       "      <td>1965</td>\n",
       "      <td>1.5</td>\n",
       "      <td>3255</td>\n",
       "      <td>70 mins.</td>\n",
       "      <td>Sci-Fi|Horror</td>\n",
       "    </tr>\n",
       "    <tr>\n",
       "      <th>tt0057507</th>\n",
       "      <td>The Skydivers (1963)</td>\n",
       "      <td>1963</td>\n",
       "      <td>1.6</td>\n",
       "      <td>2113</td>\n",
       "      <td>75 mins.</td>\n",
       "      <td>Drama</td>\n",
       "    </tr>\n",
       "    <tr>\n",
       "      <th>tt0058615</th>\n",
       "      <td>The Starfighters (1964)</td>\n",
       "      <td>1964</td>\n",
       "      <td>1.6</td>\n",
       "      <td>1847</td>\n",
       "      <td>78 mins.</td>\n",
       "      <td>Drama</td>\n",
       "    </tr>\n",
       "    <tr>\n",
       "      <th>tt0473310</th>\n",
       "      <td>Ram Gopal Varma's Indian Flames (2007)</td>\n",
       "      <td>2007</td>\n",
       "      <td>1.6</td>\n",
       "      <td>2511</td>\n",
       "      <td>00 mins.</td>\n",
       "      <td>Action|Adventure|Comedy|Crime|Musical</td>\n",
       "    </tr>\n",
       "    <tr>\n",
       "      <th>tt0417056</th>\n",
       "      <td>Pledge This! (2006)</td>\n",
       "      <td>2006</td>\n",
       "      <td>1.6</td>\n",
       "      <td>8362</td>\n",
       "      <td>91 mins.</td>\n",
       "      <td>Comedy</td>\n",
       "    </tr>\n",
       "    <tr>\n",
       "      <th>tt0953989</th>\n",
       "      <td>Yes Sir (2007)</td>\n",
       "      <td>2007</td>\n",
       "      <td>1.7</td>\n",
       "      <td>3087</td>\n",
       "      <td>100 mins.</td>\n",
       "      <td>Action|Adventure|Comedy</td>\n",
       "    </tr>\n",
       "    <tr>\n",
       "      <th>tt1213644</th>\n",
       "      <td>Disaster Movie (2008)</td>\n",
       "      <td>2008</td>\n",
       "      <td>1.7</td>\n",
       "      <td>40109</td>\n",
       "      <td>87 mins.</td>\n",
       "      <td>Comedy</td>\n",
       "    </tr>\n",
       "    <tr>\n",
       "      <th>tt0054673</th>\n",
       "      <td>The Beast of Yucca Flats (1961)</td>\n",
       "      <td>1961</td>\n",
       "      <td>1.7</td>\n",
       "      <td>2927</td>\n",
       "      <td>54 mins.</td>\n",
       "      <td>Horror|Sci-Fi</td>\n",
       "    </tr>\n",
       "    <tr>\n",
       "      <th>tt0830861</th>\n",
       "      <td>The Little Fox 2 (2008)</td>\n",
       "      <td>2008</td>\n",
       "      <td>1.7</td>\n",
       "      <td>3410</td>\n",
       "      <td>85 mins.</td>\n",
       "      <td>Animation|Adventure|Family</td>\n",
       "    </tr>\n",
       "    <tr>\n",
       "      <th>tt0958824</th>\n",
       "      <td>The Apocalypse (2007)</td>\n",
       "      <td>2007</td>\n",
       "      <td>1.8</td>\n",
       "      <td>2127</td>\n",
       "      <td>94 mins.</td>\n",
       "      <td>Adventure|Drama|Sci-Fi</td>\n",
       "    </tr>\n",
       "    <tr>\n",
       "      <th>tt0057970</th>\n",
       "      <td>The Creeping Terror (1964)</td>\n",
       "      <td>1964</td>\n",
       "      <td>1.8</td>\n",
       "      <td>2027</td>\n",
       "      <td>75 mins.</td>\n",
       "      <td>Sci-Fi|Horror</td>\n",
       "    </tr>\n",
       "    <tr>\n",
       "      <th>tt0808240</th>\n",
       "      <td>Turks in Space (2006)</td>\n",
       "      <td>2006</td>\n",
       "      <td>1.8</td>\n",
       "      <td>6370</td>\n",
       "      <td>110 mins.</td>\n",
       "      <td>Action|Comedy|Sci-Fi</td>\n",
       "    </tr>\n",
       "    <tr>\n",
       "      <th>tt0785077</th>\n",
       "      <td>Who's Your Caddy? (2007)</td>\n",
       "      <td>2007</td>\n",
       "      <td>1.8</td>\n",
       "      <td>11821</td>\n",
       "      <td>93 mins.</td>\n",
       "      <td>Comedy|Sport</td>\n",
       "    </tr>\n",
       "    <tr>\n",
       "      <th>tt0174685</th>\n",
       "      <td>Girl in Gold Boots (1968)</td>\n",
       "      <td>1968</td>\n",
       "      <td>1.8</td>\n",
       "      <td>2033</td>\n",
       "      <td>94 mins.</td>\n",
       "      <td>Crime|Drama|Music|Romance</td>\n",
       "    </tr>\n",
       "    <tr>\n",
       "      <th>tt0061191</th>\n",
       "      <td>The Wild World of Batwoman (1966)</td>\n",
       "      <td>1966</td>\n",
       "      <td>1.8</td>\n",
       "      <td>2606</td>\n",
       "      <td>70 mins.</td>\n",
       "      <td>Action|Comedy|Adventure|Sci-Fi</td>\n",
       "    </tr>\n",
       "    <tr>\n",
       "      <th>tt0804492</th>\n",
       "      <td>The Hottie &amp; the Nottie (2008)</td>\n",
       "      <td>2008</td>\n",
       "      <td>1.8</td>\n",
       "      <td>24021</td>\n",
       "      <td>91 mins.</td>\n",
       "      <td>Comedy|Romance</td>\n",
       "    </tr>\n",
       "    <tr>\n",
       "      <th>tt0473024</th>\n",
       "      <td>Crossover (2006)</td>\n",
       "      <td>2006</td>\n",
       "      <td>1.8</td>\n",
       "      <td>7577</td>\n",
       "      <td>95 mins.</td>\n",
       "      <td>Action|Sport</td>\n",
       "    </tr>\n",
       "  </tbody>\n",
       "</table>\n",
       "</div>"
      ],
      "text/plain": [
       "                                            title  year  score  votes  \\\n",
       "id                                                                      \n",
       "tt0060666         Manos: The Hands of Fate (1966)  1966    1.5  20927   \n",
       "tt1309000                       Dream Well (2009)  2009    1.5   2848   \n",
       "tt0060753        Night Train to Mundo Fine (1966)  1966    1.5   3542   \n",
       "tt0059464                  Monster a-Go Go (1965)  1965    1.5   3255   \n",
       "tt0057507                    The Skydivers (1963)  1963    1.6   2113   \n",
       "tt0058615                 The Starfighters (1964)  1964    1.6   1847   \n",
       "tt0473310  Ram Gopal Varma's Indian Flames (2007)  2007    1.6   2511   \n",
       "tt0417056                     Pledge This! (2006)  2006    1.6   8362   \n",
       "tt0953989                          Yes Sir (2007)  2007    1.7   3087   \n",
       "tt1213644                   Disaster Movie (2008)  2008    1.7  40109   \n",
       "tt0054673         The Beast of Yucca Flats (1961)  1961    1.7   2927   \n",
       "tt0830861                 The Little Fox 2 (2008)  2008    1.7   3410   \n",
       "tt0958824                   The Apocalypse (2007)  2007    1.8   2127   \n",
       "tt0057970              The Creeping Terror (1964)  1964    1.8   2027   \n",
       "tt0808240                   Turks in Space (2006)  2006    1.8   6370   \n",
       "tt0785077                Who's Your Caddy? (2007)  2007    1.8  11821   \n",
       "tt0174685               Girl in Gold Boots (1968)  1968    1.8   2033   \n",
       "tt0061191       The Wild World of Batwoman (1966)  1966    1.8   2606   \n",
       "tt0804492          The Hottie & the Nottie (2008)  2008    1.8  24021   \n",
       "tt0473024                        Crossover (2006)  2006    1.8   7577   \n",
       "\n",
       "              length                                 genres  \n",
       "id                                                           \n",
       "tt0060666   74 mins.                                 Horror  \n",
       "tt1309000   00 mins.                   Comedy|Romance|Sport  \n",
       "tt0060753   89 mins.             Action|Adventure|Crime|War  \n",
       "tt0059464   70 mins.                          Sci-Fi|Horror  \n",
       "tt0057507   75 mins.                                  Drama  \n",
       "tt0058615   78 mins.                                  Drama  \n",
       "tt0473310   00 mins.  Action|Adventure|Comedy|Crime|Musical  \n",
       "tt0417056   91 mins.                                 Comedy  \n",
       "tt0953989  100 mins.                Action|Adventure|Comedy  \n",
       "tt1213644   87 mins.                                 Comedy  \n",
       "tt0054673   54 mins.                          Horror|Sci-Fi  \n",
       "tt0830861   85 mins.             Animation|Adventure|Family  \n",
       "tt0958824   94 mins.                 Adventure|Drama|Sci-Fi  \n",
       "tt0057970   75 mins.                          Sci-Fi|Horror  \n",
       "tt0808240  110 mins.                   Action|Comedy|Sci-Fi  \n",
       "tt0785077   93 mins.                           Comedy|Sport  \n",
       "tt0174685   94 mins.              Crime|Drama|Music|Romance  \n",
       "tt0061191   70 mins.         Action|Comedy|Adventure|Sci-Fi  \n",
       "tt0804492   91 mins.                         Comedy|Romance  \n",
       "tt0473024   95 mins.                           Action|Sport  "
      ]
     },
     "execution_count": 21,
     "metadata": {},
     "output_type": "execute_result"
    }
   ],
   "source": [
    "data[(data.year < 1970) | (data.year > 2005)].sort_values(by='score').head(20)"
   ]
  },
  {
   "cell_type": "code",
   "execution_count": 24,
   "metadata": {
    "collapsed": false
   },
   "outputs": [
    {
     "data": {
      "text/html": [
       "<div>\n",
       "<table border=\"1\" class=\"dataframe\">\n",
       "  <thead>\n",
       "    <tr style=\"text-align: right;\">\n",
       "      <th></th>\n",
       "      <th>title</th>\n",
       "      <th>year</th>\n",
       "      <th>score</th>\n",
       "      <th>votes</th>\n",
       "      <th>length</th>\n",
       "      <th>genres</th>\n",
       "    </tr>\n",
       "    <tr>\n",
       "      <th>id</th>\n",
       "      <th></th>\n",
       "      <th></th>\n",
       "      <th></th>\n",
       "      <th></th>\n",
       "      <th></th>\n",
       "      <th></th>\n",
       "    </tr>\n",
       "  </thead>\n",
       "  <tbody>\n",
       "    <tr>\n",
       "      <th>tt0270846</th>\n",
       "      <td>Superbabies: Baby Geniuses 2 (2004)</td>\n",
       "      <td>2004</td>\n",
       "      <td>1.5</td>\n",
       "      <td>13196</td>\n",
       "      <td>88 mins.</td>\n",
       "      <td>Comedy|Family</td>\n",
       "    </tr>\n",
       "    <tr>\n",
       "      <th>tt0059464</th>\n",
       "      <td>Monster a-Go Go (1965)</td>\n",
       "      <td>1965</td>\n",
       "      <td>1.5</td>\n",
       "      <td>3255</td>\n",
       "      <td>70 mins.</td>\n",
       "      <td>Sci-Fi|Horror</td>\n",
       "    </tr>\n",
       "    <tr>\n",
       "      <th>tt0364986</th>\n",
       "      <td>Ben &amp; Arthur (2002)</td>\n",
       "      <td>2002</td>\n",
       "      <td>1.5</td>\n",
       "      <td>4675</td>\n",
       "      <td>85 mins.</td>\n",
       "      <td>Drama|Romance</td>\n",
       "    </tr>\n",
       "    <tr>\n",
       "      <th>tt0421051</th>\n",
       "      <td>Daniel the Wizard (2004)</td>\n",
       "      <td>2004</td>\n",
       "      <td>1.5</td>\n",
       "      <td>8271</td>\n",
       "      <td>81 mins.</td>\n",
       "      <td>Comedy|Crime|Family|Fantasy|Horror</td>\n",
       "    </tr>\n",
       "    <tr>\n",
       "      <th>tt1309000</th>\n",
       "      <td>Dream Well (2009)</td>\n",
       "      <td>2009</td>\n",
       "      <td>1.5</td>\n",
       "      <td>2848</td>\n",
       "      <td>00 mins.</td>\n",
       "      <td>Comedy|Romance|Sport</td>\n",
       "    </tr>\n",
       "  </tbody>\n",
       "</table>\n",
       "</div>"
      ],
      "text/plain": [
       "                                         title  year  score  votes    length  \\\n",
       "id                                                                             \n",
       "tt0270846  Superbabies: Baby Geniuses 2 (2004)  2004    1.5  13196  88 mins.   \n",
       "tt0059464               Monster a-Go Go (1965)  1965    1.5   3255  70 mins.   \n",
       "tt0364986                  Ben & Arthur (2002)  2002    1.5   4675  85 mins.   \n",
       "tt0421051             Daniel the Wizard (2004)  2004    1.5   8271  81 mins.   \n",
       "tt1309000                    Dream Well (2009)  2009    1.5   2848  00 mins.   \n",
       "\n",
       "                                       genres  \n",
       "id                                             \n",
       "tt0270846                       Comedy|Family  \n",
       "tt0059464                       Sci-Fi|Horror  \n",
       "tt0364986                       Drama|Romance  \n",
       "tt0421051  Comedy|Crime|Family|Fantasy|Horror  \n",
       "tt1309000                Comedy|Romance|Sport  "
      ]
     },
     "execution_count": 24,
     "metadata": {},
     "output_type": "execute_result"
    }
   ],
   "source": [
    "data.sort_values(by='score').head()"
   ]
  },
  {
   "cell_type": "code",
   "execution_count": 26,
   "metadata": {
    "collapsed": false
   },
   "outputs": [
    {
     "data": {
      "text/plain": [
       "year\n",
       "2007    8.3\n",
       "2008    8.9\n",
       "2009    8.4\n",
       "2010    8.9\n",
       "2011    8.6\n",
       "Name: score, dtype: float64"
      ]
     },
     "execution_count": 26,
     "metadata": {},
     "output_type": "execute_result"
    }
   ],
   "source": [
    "data.groupby(data['year'], sort=True)['score'].max().tail()"
   ]
  },
  {
   "cell_type": "code",
   "execution_count": 29,
   "metadata": {
    "collapsed": false
   },
   "outputs": [
    {
     "data": {
      "text/html": [
       "<div>\n",
       "<table border=\"1\" class=\"dataframe\">\n",
       "  <thead>\n",
       "    <tr style=\"text-align: right;\">\n",
       "      <th></th>\n",
       "      <th>title</th>\n",
       "      <th>year</th>\n",
       "      <th>score</th>\n",
       "      <th>votes</th>\n",
       "      <th>length</th>\n",
       "      <th>genres</th>\n",
       "    </tr>\n",
       "    <tr>\n",
       "      <th>id</th>\n",
       "      <th></th>\n",
       "      <th></th>\n",
       "      <th></th>\n",
       "      <th></th>\n",
       "      <th></th>\n",
       "      <th></th>\n",
       "    </tr>\n",
       "  </thead>\n",
       "  <tbody>\n",
       "    <tr>\n",
       "      <th>tt0043014</th>\n",
       "      <td>Sunset Blvd. (1950)</td>\n",
       "      <td>1950</td>\n",
       "      <td>8.7</td>\n",
       "      <td>64363</td>\n",
       "      <td>110 mins.</td>\n",
       "      <td>Drama|Film-Noir</td>\n",
       "    </tr>\n",
       "  </tbody>\n",
       "</table>\n",
       "</div>"
      ],
      "text/plain": [
       "                         title  year  score  votes     length           genres\n",
       "id                                                                            \n",
       "tt0043014  Sunset Blvd. (1950)  1950    8.7  64363  110 mins.  Drama|Film-Noir"
      ]
     },
     "execution_count": 29,
     "metadata": {},
     "output_type": "execute_result"
    }
   ],
   "source": [
    "data[(data['year']==1950)&(data['score']==8.7)]"
   ]
  },
  {
   "cell_type": "code",
   "execution_count": 27,
   "metadata": {
    "collapsed": false
   },
   "outputs": [
    {
     "name": "stdout",
     "output_type": "stream",
     "text": [
      "/Users/yunchoi/DAT-NYC-45/classes/03\r\n"
     ]
    }
   ],
   "source": [
    "!pwd"
   ]
  },
  {
   "cell_type": "markdown",
   "metadata": {},
   "source": [
    "### Exercises\n",
    "\n",
    "- What was the highest scoring movie in 1966?\n",
    "- What year(s) had the highest scores of all time?\n",
    "- Show the movies with the 5 most votes\n",
    "- What year in the 1960's had the highest score?"
   ]
  }
 ],
 "metadata": {
  "anaconda-cloud": {},
  "kernelspec": {
   "display_name": "Python [conda root]",
   "language": "python",
   "name": "conda-root-py"
  },
  "language_info": {
   "codemirror_mode": {
    "name": "ipython",
    "version": 2
   },
   "file_extension": ".py",
   "mimetype": "text/x-python",
   "name": "python",
   "nbconvert_exporter": "python",
   "pygments_lexer": "ipython2",
   "version": "2.7.12"
  }
 },
 "nbformat": 4,
 "nbformat_minor": 0
}
