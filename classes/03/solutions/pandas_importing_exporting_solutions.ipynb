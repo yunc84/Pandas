{
 "cells": [
  {
   "cell_type": "markdown",
   "metadata": {
    "collapsed": true
   },
   "source": [
    "# I/O with Pandas"
   ]
  },
  {
   "cell_type": "markdown",
   "metadata": {},
   "source": [
    "Pandas provides a one-stop shop for importing lots of filetypes into Python:\n",
    "\n",
    "- csv, tsv, txt, and family\n",
    "- xls, xlsx\n",
    "- SPSS, R, SAS, stata\n",
    "- JSON\n",
    "- SQL\n",
    "- HDF5"
   ]
  },
  {
   "cell_type": "markdown",
   "metadata": {},
   "source": [
    "# Now it's time to work with real data!\n",
    "\n",
    "- the file is called imdb_top_10000.txt\n",
    "- your boss wants you to \"clean\" up the file, whatever that means"
   ]
  },
  {
   "cell_type": "markdown",
   "metadata": {},
   "source": [
    "### Handling a messy dataset called imdb_top_10000.txt"
   ]
  },
  {
   "cell_type": "markdown",
   "metadata": {},
   "source": [
    "### Importing data for this class and beyond\n",
    "\n",
    "- the main function you will use is panda's read_csv, which is very similar to other languages (such as R)\n",
    "- crucial to understand and use all of the function's arguments correctly"
   ]
  },
  {
   "cell_type": "markdown",
   "metadata": {},
   "source": [
    "[read_csv documentation](http://pandas.pydata.org/pandas-docs/stable/generated/pandas.read_csv.html)"
   ]
  },
  {
   "cell_type": "markdown",
   "metadata": {},
   "source": [
    "Important arguments to read_csv:\n",
    "\n",
    "- filepath (string): this is where you specify the filename (ie titanic.csv) or even a URL!\n",
    "- sep (string): what separates the data? default is ',' for CSV\n",
    "- header (int or list): specify the row number that contains the header (0 for 1st row)\n",
    "- skiprows (int or list): skip a number of rows due to filler or unnecessary whitespace at the top of files\n",
    "- index_col (int or list): specify which column is the unique row identifier (think: row name)\n",
    "- names (list): specify the column names, usually as a list\n",
    "- na_values (string or list): specify any words that may mean missing in advance, such as \"N/A\" or \"missing\""
   ]
  },
  {
   "cell_type": "code",
   "execution_count": 2,
   "metadata": {
    "collapsed": true
   },
   "outputs": [],
   "source": [
    "import pandas as pd"
   ]
  },
  {
   "cell_type": "markdown",
   "metadata": {},
   "source": [
    "We should first peak at the data. We can use the unix command `head` on OSX/Linux:"
   ]
  },
  {
   "cell_type": "code",
   "execution_count": 4,
   "metadata": {},
   "outputs": [
    {
     "name": "stdout",
     "output_type": "stream",
     "text": [
      "tt0111161\tThe Shawshank Redemption (1994)\t1994\t 9.2\t619479\t142 mins.\tCrime|Drama\r\n",
      "tt0110912\tPulp Fiction (1994)\t1994\t 9.0\t490065\t154 mins.\tCrime|Thriller\r\n",
      "tt0137523\tFight Club (1999)\t1999\t 8.8\t458173\t139 mins.\tDrama|Mystery|Thriller\r\n",
      "tt0133093\tThe Matrix (1999)\t1999\t 8.7\t448114\t136 mins.\tAction|Adventure|Sci-Fi\r\n",
      "tt1375666\tInception (2010)\t2010\t 8.9\t385149\t148 mins.\tAction|Adventure|Sci-Fi|Thriller\r\n",
      "tt0109830\tForrest Gump (1994)\t1994\t 8.7\t368994\t142 mins.\tComedy|Drama|Romance\r\n",
      "tt0169547\tAmerican Beauty (1999)\t1999\t 8.6\t338332\t122 mins.\tDrama\r\n",
      "tt0499549\tAvatar (2009)\t2009\t 8.1\t336855\t162 mins.\tAction|Adventure|Fantasy|Sci-Fi\r\n",
      "tt0108052\tSchindler's List (1993)\t1993\t 8.9\t325888\t195 mins.\tBiography|Drama|History|War\r\n",
      "tt0080684\tStar Wars: Episode V - The Empire Strikes Back (1980)\t1980\t 8.8\t320105\t124 mins.\tAction|Adventure|Family|Sci-Fi\r\n"
     ]
    }
   ],
   "source": [
    "!head imdb_top_10000.txt"
   ]
  },
  {
   "cell_type": "markdown",
   "metadata": {},
   "source": [
    "What sticks out about this dataset based on our view above? How is it structured? What does each column represent? Can we identify each row?"
   ]
  },
  {
   "cell_type": "markdown",
   "metadata": {},
   "source": [
    "## Exercise: import imdb_top_10000 so it looks like `data` below:\n",
    "\n",
    "Hints:\n",
    "\n",
    "- think about what character separates each columns\n",
    "- what does each row represent?"
   ]
  },
  {
   "cell_type": "code",
   "execution_count": 5,
   "metadata": {
    "collapsed": true
   },
   "outputs": [],
   "source": [
    "names = ['id', 'title', 'year', 'score', 'votes', 'length', 'genres']\n",
    "data = pd.read_csv('../data/imdb_top_10000.txt', sep='\\t', names=names, index_col=0)"
   ]
  },
  {
   "cell_type": "code",
   "execution_count": 6,
   "metadata": {},
   "outputs": [
    {
     "data": {
      "text/html": [
       "<div>\n",
       "<style>\n",
       "    .dataframe thead tr:only-child th {\n",
       "        text-align: right;\n",
       "    }\n",
       "\n",
       "    .dataframe thead th {\n",
       "        text-align: left;\n",
       "    }\n",
       "\n",
       "    .dataframe tbody tr th {\n",
       "        vertical-align: top;\n",
       "    }\n",
       "</style>\n",
       "<table border=\"1\" class=\"dataframe\">\n",
       "  <thead>\n",
       "    <tr style=\"text-align: right;\">\n",
       "      <th></th>\n",
       "      <th>title</th>\n",
       "      <th>year</th>\n",
       "      <th>score</th>\n",
       "      <th>votes</th>\n",
       "      <th>length</th>\n",
       "      <th>genres</th>\n",
       "    </tr>\n",
       "    <tr>\n",
       "      <th>id</th>\n",
       "      <th></th>\n",
       "      <th></th>\n",
       "      <th></th>\n",
       "      <th></th>\n",
       "      <th></th>\n",
       "      <th></th>\n",
       "    </tr>\n",
       "  </thead>\n",
       "  <tbody>\n",
       "    <tr>\n",
       "      <th>tt0111161</th>\n",
       "      <td>The Shawshank Redemption (1994)</td>\n",
       "      <td>1994</td>\n",
       "      <td>9.2</td>\n",
       "      <td>619479</td>\n",
       "      <td>142 mins.</td>\n",
       "      <td>Crime|Drama</td>\n",
       "    </tr>\n",
       "    <tr>\n",
       "      <th>tt0110912</th>\n",
       "      <td>Pulp Fiction (1994)</td>\n",
       "      <td>1994</td>\n",
       "      <td>9.0</td>\n",
       "      <td>490065</td>\n",
       "      <td>154 mins.</td>\n",
       "      <td>Crime|Thriller</td>\n",
       "    </tr>\n",
       "    <tr>\n",
       "      <th>tt0137523</th>\n",
       "      <td>Fight Club (1999)</td>\n",
       "      <td>1999</td>\n",
       "      <td>8.8</td>\n",
       "      <td>458173</td>\n",
       "      <td>139 mins.</td>\n",
       "      <td>Drama|Mystery|Thriller</td>\n",
       "    </tr>\n",
       "    <tr>\n",
       "      <th>tt0133093</th>\n",
       "      <td>The Matrix (1999)</td>\n",
       "      <td>1999</td>\n",
       "      <td>8.7</td>\n",
       "      <td>448114</td>\n",
       "      <td>136 mins.</td>\n",
       "      <td>Action|Adventure|Sci-Fi</td>\n",
       "    </tr>\n",
       "    <tr>\n",
       "      <th>tt1375666</th>\n",
       "      <td>Inception (2010)</td>\n",
       "      <td>2010</td>\n",
       "      <td>8.9</td>\n",
       "      <td>385149</td>\n",
       "      <td>148 mins.</td>\n",
       "      <td>Action|Adventure|Sci-Fi|Thriller</td>\n",
       "    </tr>\n",
       "  </tbody>\n",
       "</table>\n",
       "</div>"
      ],
      "text/plain": [
       "                                     title  year  score   votes     length  \\\n",
       "id                                                                           \n",
       "tt0111161  The Shawshank Redemption (1994)  1994    9.2  619479  142 mins.   \n",
       "tt0110912              Pulp Fiction (1994)  1994    9.0  490065  154 mins.   \n",
       "tt0137523                Fight Club (1999)  1999    8.8  458173  139 mins.   \n",
       "tt0133093                The Matrix (1999)  1999    8.7  448114  136 mins.   \n",
       "tt1375666                 Inception (2010)  2010    8.9  385149  148 mins.   \n",
       "\n",
       "                                     genres  \n",
       "id                                           \n",
       "tt0111161                       Crime|Drama  \n",
       "tt0110912                    Crime|Thriller  \n",
       "tt0137523            Drama|Mystery|Thriller  \n",
       "tt0133093           Action|Adventure|Sci-Fi  \n",
       "tt1375666  Action|Adventure|Sci-Fi|Thriller  "
      ]
     },
     "execution_count": 6,
     "metadata": {},
     "output_type": "execute_result"
    }
   ],
   "source": [
    "data.head()"
   ]
  },
  {
   "cell_type": "markdown",
   "metadata": {},
   "source": [
    "### whenever we get a new dataset, good things to check:\n",
    "\n",
    "- headers\n",
    "- delimiters\n",
    "- structure of columns\n",
    "- data type issues\n",
    "- missings\n",
    "- rows x columns"
   ]
  },
  {
   "cell_type": "markdown",
   "metadata": {},
   "source": [
    "### Importing from Excel"
   ]
  },
  {
   "cell_type": "markdown",
   "metadata": {},
   "source": [
    "Notice we can select the sheet within the workbook!\n",
    "\n",
    "- This reads in JUST the data itself"
   ]
  },
  {
   "cell_type": "code",
   "execution_count": 3,
   "metadata": {},
   "outputs": [],
   "source": [
    "xlsx = pd.read_excel('../data/sales_data.xlsx', sheet='quantity')"
   ]
  },
  {
   "cell_type": "code",
   "execution_count": 4,
   "metadata": {},
   "outputs": [
    {
     "data": {
      "text/html": [
       "<div>\n",
       "<style>\n",
       "    .dataframe thead tr:only-child th {\n",
       "        text-align: right;\n",
       "    }\n",
       "\n",
       "    .dataframe thead th {\n",
       "        text-align: left;\n",
       "    }\n",
       "\n",
       "    .dataframe tbody tr th {\n",
       "        vertical-align: top;\n",
       "    }\n",
       "</style>\n",
       "<table border=\"1\" class=\"dataframe\">\n",
       "  <thead>\n",
       "    <tr style=\"text-align: right;\">\n",
       "      <th></th>\n",
       "      <th>Q1</th>\n",
       "      <th>Q2</th>\n",
       "      <th>Q3</th>\n",
       "      <th>Q4</th>\n",
       "    </tr>\n",
       "  </thead>\n",
       "  <tbody>\n",
       "    <tr>\n",
       "      <th>0</th>\n",
       "      <td>18</td>\n",
       "      <td>29</td>\n",
       "      <td>99</td>\n",
       "      <td>99</td>\n",
       "    </tr>\n",
       "    <tr>\n",
       "      <th>1</th>\n",
       "      <td>15</td>\n",
       "      <td>48</td>\n",
       "      <td>67</td>\n",
       "      <td>68</td>\n",
       "    </tr>\n",
       "    <tr>\n",
       "      <th>2</th>\n",
       "      <td>58</td>\n",
       "      <td>21</td>\n",
       "      <td>86</td>\n",
       "      <td>49</td>\n",
       "    </tr>\n",
       "    <tr>\n",
       "      <th>3</th>\n",
       "      <td>86</td>\n",
       "      <td>66</td>\n",
       "      <td>35</td>\n",
       "      <td>62</td>\n",
       "    </tr>\n",
       "    <tr>\n",
       "      <th>4</th>\n",
       "      <td>62</td>\n",
       "      <td>5</td>\n",
       "      <td>46</td>\n",
       "      <td>46</td>\n",
       "    </tr>\n",
       "  </tbody>\n",
       "</table>\n",
       "</div>"
      ],
      "text/plain": [
       "   Q1  Q2  Q3  Q4\n",
       "0  18  29  99  99\n",
       "1  15  48  67  68\n",
       "2  58  21  86  49\n",
       "3  86  66  35  62\n",
       "4  62   5  46  46"
      ]
     },
     "execution_count": 4,
     "metadata": {},
     "output_type": "execute_result"
    }
   ],
   "source": [
    "xlsx.head()"
   ]
  },
  {
   "cell_type": "markdown",
   "metadata": {},
   "source": [
    "### Importing from other software"
   ]
  },
  {
   "cell_type": "markdown",
   "metadata": {},
   "source": [
    "Check out the following links for importing from:\n",
    "\n",
    "- [SAS](http://pandas.pydata.org/pandas-docs/stable/io.html#sas-formats)\n",
    "- [stata](http://pandas.pydata.org/pandas-docs/stable/io.html#stata-format)\n",
    "- [R](http://pandas.pydata.org/pandas-docs/stable/r_interface.html)\n"
   ]
  },
  {
   "cell_type": "markdown",
   "metadata": {},
   "source": [
    "### Importing from SQL\n",
    "\n",
    "Check out panda's [SQL capabilities](http://pandas.pydata.org/pandas-docs/stable/io.html#io-sql)"
   ]
  },
  {
   "cell_type": "markdown",
   "metadata": {},
   "source": [
    "### Exporting to CSV"
   ]
  },
  {
   "cell_type": "markdown",
   "metadata": {},
   "source": [
    "`dataframe_name.to_csv`"
   ]
  },
  {
   "cell_type": "markdown",
   "metadata": {},
   "source": [
    "### Quick note on exporting data with to_csv\n",
    "\n",
    "- path (string): the filename of the newly created csv\n",
    "- sep (string): the delimiter, typically ',' which is the default\n",
    "- na_rep (string): how to represent NA values, defaults as empty string\n",
    "- header (boolean): whether to include the header\n",
    "- index (boolean): whether to include row-names\n",
    "\n",
    "[to_csv documentation](http://pandas.pydata.org/pandas-docs/version/0.17.1/generated/pandas.DataFrame.to_csv.html)"
   ]
  },
  {
   "cell_type": "code",
   "execution_count": 7,
   "metadata": {
    "collapsed": true
   },
   "outputs": [],
   "source": [
    "data.to_csv('test.csv', header=True, index=True, sep=',')"
   ]
  },
  {
   "cell_type": "markdown",
   "metadata": {},
   "source": [
    "### Let's do some practice"
   ]
  },
  {
   "cell_type": "code",
   "execution_count": 8,
   "metadata": {},
   "outputs": [
    {
     "data": {
      "text/html": [
       "<div>\n",
       "<style>\n",
       "    .dataframe thead tr:only-child th {\n",
       "        text-align: right;\n",
       "    }\n",
       "\n",
       "    .dataframe thead th {\n",
       "        text-align: left;\n",
       "    }\n",
       "\n",
       "    .dataframe tbody tr th {\n",
       "        vertical-align: top;\n",
       "    }\n",
       "</style>\n",
       "<table border=\"1\" class=\"dataframe\">\n",
       "  <thead>\n",
       "    <tr style=\"text-align: right;\">\n",
       "      <th></th>\n",
       "      <th>title</th>\n",
       "      <th>year</th>\n",
       "      <th>score</th>\n",
       "      <th>votes</th>\n",
       "      <th>length</th>\n",
       "      <th>genres</th>\n",
       "    </tr>\n",
       "    <tr>\n",
       "      <th>id</th>\n",
       "      <th></th>\n",
       "      <th></th>\n",
       "      <th></th>\n",
       "      <th></th>\n",
       "      <th></th>\n",
       "      <th></th>\n",
       "    </tr>\n",
       "  </thead>\n",
       "  <tbody>\n",
       "    <tr>\n",
       "      <th>tt0137523</th>\n",
       "      <td>Fight Club (1999)</td>\n",
       "      <td>1999</td>\n",
       "      <td>8.8</td>\n",
       "      <td>458173</td>\n",
       "      <td>139 mins.</td>\n",
       "      <td>Drama|Mystery|Thriller</td>\n",
       "    </tr>\n",
       "    <tr>\n",
       "      <th>tt0133093</th>\n",
       "      <td>The Matrix (1999)</td>\n",
       "      <td>1999</td>\n",
       "      <td>8.7</td>\n",
       "      <td>448114</td>\n",
       "      <td>136 mins.</td>\n",
       "      <td>Action|Adventure|Sci-Fi</td>\n",
       "    </tr>\n",
       "    <tr>\n",
       "      <th>tt1375666</th>\n",
       "      <td>Inception (2010)</td>\n",
       "      <td>2010</td>\n",
       "      <td>8.9</td>\n",
       "      <td>385149</td>\n",
       "      <td>148 mins.</td>\n",
       "      <td>Action|Adventure|Sci-Fi|Thriller</td>\n",
       "    </tr>\n",
       "    <tr>\n",
       "      <th>tt0169547</th>\n",
       "      <td>American Beauty (1999)</td>\n",
       "      <td>1999</td>\n",
       "      <td>8.6</td>\n",
       "      <td>338332</td>\n",
       "      <td>122 mins.</td>\n",
       "      <td>Drama</td>\n",
       "    </tr>\n",
       "    <tr>\n",
       "      <th>tt0499549</th>\n",
       "      <td>Avatar (2009)</td>\n",
       "      <td>2009</td>\n",
       "      <td>8.1</td>\n",
       "      <td>336855</td>\n",
       "      <td>162 mins.</td>\n",
       "      <td>Action|Adventure|Fantasy|Sci-Fi</td>\n",
       "    </tr>\n",
       "  </tbody>\n",
       "</table>\n",
       "</div>"
      ],
      "text/plain": [
       "                            title  year  score   votes     length  \\\n",
       "id                                                                  \n",
       "tt0137523       Fight Club (1999)  1999    8.8  458173  139 mins.   \n",
       "tt0133093       The Matrix (1999)  1999    8.7  448114  136 mins.   \n",
       "tt1375666        Inception (2010)  2010    8.9  385149  148 mins.   \n",
       "tt0169547  American Beauty (1999)  1999    8.6  338332  122 mins.   \n",
       "tt0499549           Avatar (2009)  2009    8.1  336855  162 mins.   \n",
       "\n",
       "                                     genres  \n",
       "id                                           \n",
       "tt0137523            Drama|Mystery|Thriller  \n",
       "tt0133093           Action|Adventure|Sci-Fi  \n",
       "tt1375666  Action|Adventure|Sci-Fi|Thriller  \n",
       "tt0169547                             Drama  \n",
       "tt0499549   Action|Adventure|Fantasy|Sci-Fi  "
      ]
     },
     "execution_count": 8,
     "metadata": {},
     "output_type": "execute_result"
    }
   ],
   "source": [
    "# try to guess what it's doing before executing\n",
    "data[data.year > 1995].head()"
   ]
  },
  {
   "cell_type": "code",
   "execution_count": 9,
   "metadata": {},
   "outputs": [
    {
     "data": {
      "text/html": [
       "<div>\n",
       "<style>\n",
       "    .dataframe thead tr:only-child th {\n",
       "        text-align: right;\n",
       "    }\n",
       "\n",
       "    .dataframe thead th {\n",
       "        text-align: left;\n",
       "    }\n",
       "\n",
       "    .dataframe tbody tr th {\n",
       "        vertical-align: top;\n",
       "    }\n",
       "</style>\n",
       "<table border=\"1\" class=\"dataframe\">\n",
       "  <thead>\n",
       "    <tr style=\"text-align: right;\">\n",
       "      <th></th>\n",
       "      <th>title</th>\n",
       "      <th>year</th>\n",
       "      <th>score</th>\n",
       "      <th>votes</th>\n",
       "      <th>length</th>\n",
       "      <th>genres</th>\n",
       "    </tr>\n",
       "    <tr>\n",
       "      <th>id</th>\n",
       "      <th></th>\n",
       "      <th></th>\n",
       "      <th></th>\n",
       "      <th></th>\n",
       "      <th></th>\n",
       "      <th></th>\n",
       "    </tr>\n",
       "  </thead>\n",
       "  <tbody>\n",
       "    <tr>\n",
       "      <th>tt0137523</th>\n",
       "      <td>Fight Club (1999)</td>\n",
       "      <td>1999</td>\n",
       "      <td>8.8</td>\n",
       "      <td>458173</td>\n",
       "      <td>139 mins.</td>\n",
       "      <td>Drama|Mystery|Thriller</td>\n",
       "    </tr>\n",
       "    <tr>\n",
       "      <th>tt0133093</th>\n",
       "      <td>The Matrix (1999)</td>\n",
       "      <td>1999</td>\n",
       "      <td>8.7</td>\n",
       "      <td>448114</td>\n",
       "      <td>136 mins.</td>\n",
       "      <td>Action|Adventure|Sci-Fi</td>\n",
       "    </tr>\n",
       "    <tr>\n",
       "      <th>tt0169547</th>\n",
       "      <td>American Beauty (1999)</td>\n",
       "      <td>1999</td>\n",
       "      <td>8.6</td>\n",
       "      <td>338332</td>\n",
       "      <td>122 mins.</td>\n",
       "      <td>Drama</td>\n",
       "    </tr>\n",
       "    <tr>\n",
       "      <th>tt0120338</th>\n",
       "      <td>Titanic (1997)</td>\n",
       "      <td>1997</td>\n",
       "      <td>7.4</td>\n",
       "      <td>284245</td>\n",
       "      <td>194 mins.</td>\n",
       "      <td>Adventure|Drama|History|Romance</td>\n",
       "    </tr>\n",
       "    <tr>\n",
       "      <th>tt0167404</th>\n",
       "      <td>The Sixth Sense (1999)</td>\n",
       "      <td>1999</td>\n",
       "      <td>8.2</td>\n",
       "      <td>278210</td>\n",
       "      <td>107 mins.</td>\n",
       "      <td>Drama|Mystery|Thriller</td>\n",
       "    </tr>\n",
       "  </tbody>\n",
       "</table>\n",
       "</div>"
      ],
      "text/plain": [
       "                            title  year  score   votes     length  \\\n",
       "id                                                                  \n",
       "tt0137523       Fight Club (1999)  1999    8.8  458173  139 mins.   \n",
       "tt0133093       The Matrix (1999)  1999    8.7  448114  136 mins.   \n",
       "tt0169547  American Beauty (1999)  1999    8.6  338332  122 mins.   \n",
       "tt0120338          Titanic (1997)  1997    7.4  284245  194 mins.   \n",
       "tt0167404  The Sixth Sense (1999)  1999    8.2  278210  107 mins.   \n",
       "\n",
       "                                    genres  \n",
       "id                                          \n",
       "tt0137523           Drama|Mystery|Thriller  \n",
       "tt0133093          Action|Adventure|Sci-Fi  \n",
       "tt0169547                            Drama  \n",
       "tt0120338  Adventure|Drama|History|Romance  \n",
       "tt0167404           Drama|Mystery|Thriller  "
      ]
     },
     "execution_count": 9,
     "metadata": {},
     "output_type": "execute_result"
    }
   ],
   "source": [
    "data[(data.year > 1995) & (data.year < 2000)].head()"
   ]
  },
  {
   "cell_type": "code",
   "execution_count": 15,
   "metadata": {},
   "outputs": [
    {
     "data": {
      "text/html": [
       "<div>\n",
       "<style>\n",
       "    .dataframe thead tr:only-child th {\n",
       "        text-align: right;\n",
       "    }\n",
       "\n",
       "    .dataframe thead th {\n",
       "        text-align: left;\n",
       "    }\n",
       "\n",
       "    .dataframe tbody tr th {\n",
       "        vertical-align: top;\n",
       "    }\n",
       "</style>\n",
       "<table border=\"1\" class=\"dataframe\">\n",
       "  <thead>\n",
       "    <tr style=\"text-align: right;\">\n",
       "      <th></th>\n",
       "      <th>title</th>\n",
       "      <th>year</th>\n",
       "      <th>score</th>\n",
       "      <th>votes</th>\n",
       "      <th>length</th>\n",
       "      <th>genres</th>\n",
       "    </tr>\n",
       "    <tr>\n",
       "      <th>id</th>\n",
       "      <th></th>\n",
       "      <th></th>\n",
       "      <th></th>\n",
       "      <th></th>\n",
       "      <th></th>\n",
       "      <th></th>\n",
       "    </tr>\n",
       "  </thead>\n",
       "  <tbody>\n",
       "    <tr>\n",
       "      <th>tt0060196</th>\n",
       "      <td>The Good, the Bad and the Ugly (1966)</td>\n",
       "      <td>1966</td>\n",
       "      <td>9.0</td>\n",
       "      <td>195238</td>\n",
       "      <td>161 mins.</td>\n",
       "      <td>Western</td>\n",
       "    </tr>\n",
       "    <tr>\n",
       "      <th>tt1375666</th>\n",
       "      <td>Inception (2010)</td>\n",
       "      <td>2010</td>\n",
       "      <td>8.9</td>\n",
       "      <td>385149</td>\n",
       "      <td>148 mins.</td>\n",
       "      <td>Action|Adventure|Sci-Fi|Thriller</td>\n",
       "    </tr>\n",
       "    <tr>\n",
       "      <th>tt0050083</th>\n",
       "      <td>12 Angry Men (1957)</td>\n",
       "      <td>1957</td>\n",
       "      <td>8.9</td>\n",
       "      <td>148155</td>\n",
       "      <td>96 mins.</td>\n",
       "      <td>Drama|Mystery</td>\n",
       "    </tr>\n",
       "    <tr>\n",
       "      <th>tt0468569</th>\n",
       "      <td>The Dark Knight (2008)</td>\n",
       "      <td>2008</td>\n",
       "      <td>8.9</td>\n",
       "      <td>555122</td>\n",
       "      <td>152 mins.</td>\n",
       "      <td>Action|Crime|Drama|Thriller</td>\n",
       "    </tr>\n",
       "    <tr>\n",
       "      <th>tt0064116</th>\n",
       "      <td>Once Upon a Time in the West (1968)</td>\n",
       "      <td>1968</td>\n",
       "      <td>8.8</td>\n",
       "      <td>89764</td>\n",
       "      <td>175 mins.</td>\n",
       "      <td>Western</td>\n",
       "    </tr>\n",
       "    <tr>\n",
       "      <th>tt0047478</th>\n",
       "      <td>Seven Samurai (1954)</td>\n",
       "      <td>1954</td>\n",
       "      <td>8.8</td>\n",
       "      <td>111707</td>\n",
       "      <td>207 mins.</td>\n",
       "      <td>Adventure|Drama</td>\n",
       "    </tr>\n",
       "    <tr>\n",
       "      <th>tt0047396</th>\n",
       "      <td>Rear Window (1954)</td>\n",
       "      <td>1954</td>\n",
       "      <td>8.7</td>\n",
       "      <td>137663</td>\n",
       "      <td>112 mins.</td>\n",
       "      <td>Mystery|Romance|Thriller</td>\n",
       "    </tr>\n",
       "    <tr>\n",
       "      <th>tt0054215</th>\n",
       "      <td>Psycho (1960)</td>\n",
       "      <td>1960</td>\n",
       "      <td>8.7</td>\n",
       "      <td>168286</td>\n",
       "      <td>109 mins.</td>\n",
       "      <td>Horror|Mystery|Thriller</td>\n",
       "    </tr>\n",
       "    <tr>\n",
       "      <th>tt0043014</th>\n",
       "      <td>Sunset Blvd. (1950)</td>\n",
       "      <td>1950</td>\n",
       "      <td>8.7</td>\n",
       "      <td>64363</td>\n",
       "      <td>110 mins.</td>\n",
       "      <td>Drama|Film-Noir</td>\n",
       "    </tr>\n",
       "    <tr>\n",
       "      <th>tt0050825</th>\n",
       "      <td>Paths of Glory (1957)</td>\n",
       "      <td>1957</td>\n",
       "      <td>8.6</td>\n",
       "      <td>52498</td>\n",
       "      <td>88 mins.</td>\n",
       "      <td>Crime|Drama|War</td>\n",
       "    </tr>\n",
       "    <tr>\n",
       "      <th>tt0057012</th>\n",
       "      <td>Dr. Strangelove or: How I Learned to Stop Worr...</td>\n",
       "      <td>1964</td>\n",
       "      <td>8.6</td>\n",
       "      <td>174723</td>\n",
       "      <td>95 mins.</td>\n",
       "      <td>Comedy|Drama</td>\n",
       "    </tr>\n",
       "    <tr>\n",
       "      <th>tt1832382</th>\n",
       "      <td>A Separation (2011)</td>\n",
       "      <td>2011</td>\n",
       "      <td>8.6</td>\n",
       "      <td>11954</td>\n",
       "      <td>120 mins.</td>\n",
       "      <td>Drama</td>\n",
       "    </tr>\n",
       "    <tr>\n",
       "      <th>tt0053125</th>\n",
       "      <td>North by Northwest (1959)</td>\n",
       "      <td>1959</td>\n",
       "      <td>8.6</td>\n",
       "      <td>106359</td>\n",
       "      <td>131 mins.</td>\n",
       "      <td>Adventure|Drama|Mystery|Romance|Thriller</td>\n",
       "    </tr>\n",
       "    <tr>\n",
       "      <th>tt0435761</th>\n",
       "      <td>Toy Story 3 (2010)</td>\n",
       "      <td>2010</td>\n",
       "      <td>8.6</td>\n",
       "      <td>144200</td>\n",
       "      <td>103 mins.</td>\n",
       "      <td>Animation|Adventure|Comedy|Family|Fantasy</td>\n",
       "    </tr>\n",
       "    <tr>\n",
       "      <th>tt0910970</th>\n",
       "      <td>WALL\\xb7E (2008)</td>\n",
       "      <td>2008</td>\n",
       "      <td>8.5</td>\n",
       "      <td>229364</td>\n",
       "      <td>98 mins.</td>\n",
       "      <td>Animation|Adventure|Family|Romance|Sci-Fi</td>\n",
       "    </tr>\n",
       "    <tr>\n",
       "      <th>tt0042192</th>\n",
       "      <td>All About Eve (1950)</td>\n",
       "      <td>1950</td>\n",
       "      <td>8.5</td>\n",
       "      <td>39729</td>\n",
       "      <td>138 mins.</td>\n",
       "      <td>Drama</td>\n",
       "    </tr>\n",
       "    <tr>\n",
       "      <th>tt1316540</th>\n",
       "      <td>The Turin Horse (2011)</td>\n",
       "      <td>2011</td>\n",
       "      <td>8.5</td>\n",
       "      <td>1389</td>\n",
       "      <td>146 mins.</td>\n",
       "      <td>Drama</td>\n",
       "    </tr>\n",
       "    <tr>\n",
       "      <th>tt0052357</th>\n",
       "      <td>Vertigo (1958)</td>\n",
       "      <td>1958</td>\n",
       "      <td>8.5</td>\n",
       "      <td>105551</td>\n",
       "      <td>128 mins.</td>\n",
       "      <td>Crime|Mystery|Romance|Thriller</td>\n",
       "    </tr>\n",
       "    <tr>\n",
       "      <th>tt0407887</th>\n",
       "      <td>The Departed (2006)</td>\n",
       "      <td>2006</td>\n",
       "      <td>8.5</td>\n",
       "      <td>315448</td>\n",
       "      <td>151 mins.</td>\n",
       "      <td>Crime|Mystery|Thriller</td>\n",
       "    </tr>\n",
       "    <tr>\n",
       "      <th>tt0056592</th>\n",
       "      <td>To Kill a Mockingbird (1962)</td>\n",
       "      <td>1962</td>\n",
       "      <td>8.5</td>\n",
       "      <td>93918</td>\n",
       "      <td>129 mins.</td>\n",
       "      <td>Crime|Drama|Mystery</td>\n",
       "    </tr>\n",
       "  </tbody>\n",
       "</table>\n",
       "</div>"
      ],
      "text/plain": [
       "                                                       title  year  score  \\\n",
       "id                                                                          \n",
       "tt0060196              The Good, the Bad and the Ugly (1966)  1966    9.0   \n",
       "tt1375666                                   Inception (2010)  2010    8.9   \n",
       "tt0050083                                12 Angry Men (1957)  1957    8.9   \n",
       "tt0468569                             The Dark Knight (2008)  2008    8.9   \n",
       "tt0064116                Once Upon a Time in the West (1968)  1968    8.8   \n",
       "tt0047478                               Seven Samurai (1954)  1954    8.8   \n",
       "tt0047396                                 Rear Window (1954)  1954    8.7   \n",
       "tt0054215                                      Psycho (1960)  1960    8.7   \n",
       "tt0043014                                Sunset Blvd. (1950)  1950    8.7   \n",
       "tt0050825                              Paths of Glory (1957)  1957    8.6   \n",
       "tt0057012  Dr. Strangelove or: How I Learned to Stop Worr...  1964    8.6   \n",
       "tt1832382                                A Separation (2011)  2011    8.6   \n",
       "tt0053125                          North by Northwest (1959)  1959    8.6   \n",
       "tt0435761                                 Toy Story 3 (2010)  2010    8.6   \n",
       "tt0910970                                   WALL\\xb7E (2008)  2008    8.5   \n",
       "tt0042192                               All About Eve (1950)  1950    8.5   \n",
       "tt1316540                             The Turin Horse (2011)  2011    8.5   \n",
       "tt0052357                                     Vertigo (1958)  1958    8.5   \n",
       "tt0407887                                The Departed (2006)  2006    8.5   \n",
       "tt0056592                       To Kill a Mockingbird (1962)  1962    8.5   \n",
       "\n",
       "            votes     length                                     genres  \n",
       "id                                                                       \n",
       "tt0060196  195238  161 mins.                                    Western  \n",
       "tt1375666  385149  148 mins.           Action|Adventure|Sci-Fi|Thriller  \n",
       "tt0050083  148155   96 mins.                              Drama|Mystery  \n",
       "tt0468569  555122  152 mins.                Action|Crime|Drama|Thriller  \n",
       "tt0064116   89764  175 mins.                                    Western  \n",
       "tt0047478  111707  207 mins.                            Adventure|Drama  \n",
       "tt0047396  137663  112 mins.                   Mystery|Romance|Thriller  \n",
       "tt0054215  168286  109 mins.                    Horror|Mystery|Thriller  \n",
       "tt0043014   64363  110 mins.                            Drama|Film-Noir  \n",
       "tt0050825   52498   88 mins.                            Crime|Drama|War  \n",
       "tt0057012  174723   95 mins.                               Comedy|Drama  \n",
       "tt1832382   11954  120 mins.                                      Drama  \n",
       "tt0053125  106359  131 mins.   Adventure|Drama|Mystery|Romance|Thriller  \n",
       "tt0435761  144200  103 mins.  Animation|Adventure|Comedy|Family|Fantasy  \n",
       "tt0910970  229364   98 mins.  Animation|Adventure|Family|Romance|Sci-Fi  \n",
       "tt0042192   39729  138 mins.                                      Drama  \n",
       "tt1316540    1389  146 mins.                                      Drama  \n",
       "tt0052357  105551  128 mins.             Crime|Mystery|Romance|Thriller  \n",
       "tt0407887  315448  151 mins.                     Crime|Mystery|Thriller  \n",
       "tt0056592   93918  129 mins.                        Crime|Drama|Mystery  "
      ]
     },
     "execution_count": 15,
     "metadata": {},
     "output_type": "execute_result"
    }
   ],
   "source": [
    "data[(data.year < 1970) | (data.year > 2005)].sort_values(by='score',ascending=False).head(20)"
   ]
  },
  {
   "cell_type": "code",
   "execution_count": 13,
   "metadata": {},
   "outputs": [
    {
     "data": {
      "text/html": [
       "<div>\n",
       "<table border=\"1\" class=\"dataframe\">\n",
       "  <thead>\n",
       "    <tr style=\"text-align: right;\">\n",
       "      <th></th>\n",
       "      <th>title</th>\n",
       "      <th>year</th>\n",
       "      <th>score</th>\n",
       "      <th>votes</th>\n",
       "      <th>length</th>\n",
       "      <th>genres</th>\n",
       "    </tr>\n",
       "    <tr>\n",
       "      <th>id</th>\n",
       "      <th></th>\n",
       "      <th></th>\n",
       "      <th></th>\n",
       "      <th></th>\n",
       "      <th></th>\n",
       "      <th></th>\n",
       "    </tr>\n",
       "  </thead>\n",
       "  <tbody>\n",
       "    <tr>\n",
       "      <th>tt0270846</th>\n",
       "      <td>Superbabies: Baby Geniuses 2 (2004)</td>\n",
       "      <td>2004</td>\n",
       "      <td>1.5</td>\n",
       "      <td>13196</td>\n",
       "      <td>88 mins.</td>\n",
       "      <td>Comedy|Family</td>\n",
       "    </tr>\n",
       "    <tr>\n",
       "      <th>tt0059464</th>\n",
       "      <td>Monster a-Go Go (1965)</td>\n",
       "      <td>1965</td>\n",
       "      <td>1.5</td>\n",
       "      <td>3255</td>\n",
       "      <td>70 mins.</td>\n",
       "      <td>Sci-Fi|Horror</td>\n",
       "    </tr>\n",
       "    <tr>\n",
       "      <th>tt0364986</th>\n",
       "      <td>Ben &amp; Arthur (2002)</td>\n",
       "      <td>2002</td>\n",
       "      <td>1.5</td>\n",
       "      <td>4675</td>\n",
       "      <td>85 mins.</td>\n",
       "      <td>Drama|Romance</td>\n",
       "    </tr>\n",
       "    <tr>\n",
       "      <th>tt0421051</th>\n",
       "      <td>Daniel the Wizard (2004)</td>\n",
       "      <td>2004</td>\n",
       "      <td>1.5</td>\n",
       "      <td>8271</td>\n",
       "      <td>81 mins.</td>\n",
       "      <td>Comedy|Crime|Family|Fantasy|Horror</td>\n",
       "    </tr>\n",
       "    <tr>\n",
       "      <th>tt1309000</th>\n",
       "      <td>Dream Well (2009)</td>\n",
       "      <td>2009</td>\n",
       "      <td>1.5</td>\n",
       "      <td>2848</td>\n",
       "      <td>00 mins.</td>\n",
       "      <td>Comedy|Romance|Sport</td>\n",
       "    </tr>\n",
       "    <tr>\n",
       "      <th>tt0060666</th>\n",
       "      <td>Manos: The Hands of Fate (1966)</td>\n",
       "      <td>1966</td>\n",
       "      <td>1.5</td>\n",
       "      <td>20927</td>\n",
       "      <td>74 mins.</td>\n",
       "      <td>Horror</td>\n",
       "    </tr>\n",
       "    <tr>\n",
       "      <th>tt0060753</th>\n",
       "      <td>Night Train to Mundo Fine (1966)</td>\n",
       "      <td>1966</td>\n",
       "      <td>1.5</td>\n",
       "      <td>3542</td>\n",
       "      <td>89 mins.</td>\n",
       "      <td>Action|Adventure|Crime|War</td>\n",
       "    </tr>\n",
       "    <tr>\n",
       "      <th>tt0417056</th>\n",
       "      <td>Pledge This! (2006)</td>\n",
       "      <td>2006</td>\n",
       "      <td>1.6</td>\n",
       "      <td>8362</td>\n",
       "      <td>91 mins.</td>\n",
       "      <td>Comedy</td>\n",
       "    </tr>\n",
       "    <tr>\n",
       "      <th>tt0057507</th>\n",
       "      <td>The Skydivers (1963)</td>\n",
       "      <td>1963</td>\n",
       "      <td>1.6</td>\n",
       "      <td>2113</td>\n",
       "      <td>75 mins.</td>\n",
       "      <td>Drama</td>\n",
       "    </tr>\n",
       "    <tr>\n",
       "      <th>tt0058615</th>\n",
       "      <td>The Starfighters (1964)</td>\n",
       "      <td>1964</td>\n",
       "      <td>1.6</td>\n",
       "      <td>1847</td>\n",
       "      <td>78 mins.</td>\n",
       "      <td>Drama</td>\n",
       "    </tr>\n",
       "  </tbody>\n",
       "</table>\n",
       "</div>"
      ],
      "text/plain": [
       "                                         title  year  score  votes    length  \\\n",
       "id                                                                             \n",
       "tt0270846  Superbabies: Baby Geniuses 2 (2004)  2004    1.5  13196  88 mins.   \n",
       "tt0059464               Monster a-Go Go (1965)  1965    1.5   3255  70 mins.   \n",
       "tt0364986                  Ben & Arthur (2002)  2002    1.5   4675  85 mins.   \n",
       "tt0421051             Daniel the Wizard (2004)  2004    1.5   8271  81 mins.   \n",
       "tt1309000                    Dream Well (2009)  2009    1.5   2848  00 mins.   \n",
       "tt0060666      Manos: The Hands of Fate (1966)  1966    1.5  20927  74 mins.   \n",
       "tt0060753     Night Train to Mundo Fine (1966)  1966    1.5   3542  89 mins.   \n",
       "tt0417056                  Pledge This! (2006)  2006    1.6   8362  91 mins.   \n",
       "tt0057507                 The Skydivers (1963)  1963    1.6   2113  75 mins.   \n",
       "tt0058615              The Starfighters (1964)  1964    1.6   1847  78 mins.   \n",
       "\n",
       "                                       genres  \n",
       "id                                             \n",
       "tt0270846                       Comedy|Family  \n",
       "tt0059464                       Sci-Fi|Horror  \n",
       "tt0364986                       Drama|Romance  \n",
       "tt0421051  Comedy|Crime|Family|Fantasy|Horror  \n",
       "tt1309000                Comedy|Romance|Sport  \n",
       "tt0060666                              Horror  \n",
       "tt0060753          Action|Adventure|Crime|War  \n",
       "tt0417056                              Comedy  \n",
       "tt0057507                               Drama  \n",
       "tt0058615                               Drama  "
      ]
     },
     "execution_count": 13,
     "metadata": {},
     "output_type": "execute_result"
    }
   ],
   "source": [
    "data.sort_values(by='score').head(10)"
   ]
  },
  {
   "cell_type": "code",
   "execution_count": 16,
   "metadata": {},
   "outputs": [
    {
     "data": {
      "text/plain": [
       "year\n",
       "1950    8.7\n",
       "1951    8.3\n",
       "1952    8.4\n",
       "1953    8.3\n",
       "1954    8.8\n",
       "Name: score, dtype: float64"
      ]
     },
     "execution_count": 16,
     "metadata": {},
     "output_type": "execute_result"
    }
   ],
   "source": [
    "data.groupby(data['year'], sort=True)['score'].max().head()"
   ]
  },
  {
   "cell_type": "code",
   "execution_count": 15,
   "metadata": {},
   "outputs": [
    {
     "data": {
      "text/html": [
       "<div>\n",
       "<table border=\"1\" class=\"dataframe\">\n",
       "  <thead>\n",
       "    <tr style=\"text-align: right;\">\n",
       "      <th></th>\n",
       "      <th>title</th>\n",
       "      <th>year</th>\n",
       "      <th>score</th>\n",
       "      <th>votes</th>\n",
       "      <th>length</th>\n",
       "      <th>genres</th>\n",
       "    </tr>\n",
       "    <tr>\n",
       "      <th>id</th>\n",
       "      <th></th>\n",
       "      <th></th>\n",
       "      <th></th>\n",
       "      <th></th>\n",
       "      <th></th>\n",
       "      <th></th>\n",
       "    </tr>\n",
       "  </thead>\n",
       "  <tbody>\n",
       "    <tr>\n",
       "      <th>tt0043014</th>\n",
       "      <td>Sunset Blvd. (1950)</td>\n",
       "      <td>1950</td>\n",
       "      <td>8.7</td>\n",
       "      <td>64363</td>\n",
       "      <td>110 mins.</td>\n",
       "      <td>Drama|Film-Noir</td>\n",
       "    </tr>\n",
       "  </tbody>\n",
       "</table>\n",
       "</div>"
      ],
      "text/plain": [
       "                         title  year  score  votes     length           genres\n",
       "id                                                                            \n",
       "tt0043014  Sunset Blvd. (1950)  1950    8.7  64363  110 mins.  Drama|Film-Noir"
      ]
     },
     "execution_count": 15,
     "metadata": {},
     "output_type": "execute_result"
    }
   ],
   "source": [
    "data[(data['year'] == 1950) & (data['score'] == 8.7)]"
   ]
  },
  {
   "cell_type": "markdown",
   "metadata": {},
   "source": [
    "### Exercises\n",
    "\n",
    "- What was the highest scoring movie in 1966?\n",
    "- What year(s) had the highest scores of all time?\n",
    "- Show the movies with the 5 most votes\n",
    "- What year in the 1960's had the highest score?"
   ]
  },
  {
   "cell_type": "code",
   "execution_count": 16,
   "metadata": {},
   "outputs": [
    {
     "data": {
      "text/html": [
       "<div>\n",
       "<table border=\"1\" class=\"dataframe\">\n",
       "  <thead>\n",
       "    <tr style=\"text-align: right;\">\n",
       "      <th></th>\n",
       "      <th>title</th>\n",
       "      <th>year</th>\n",
       "      <th>score</th>\n",
       "      <th>votes</th>\n",
       "      <th>length</th>\n",
       "      <th>genres</th>\n",
       "    </tr>\n",
       "    <tr>\n",
       "      <th>id</th>\n",
       "      <th></th>\n",
       "      <th></th>\n",
       "      <th></th>\n",
       "      <th></th>\n",
       "      <th></th>\n",
       "      <th></th>\n",
       "    </tr>\n",
       "  </thead>\n",
       "  <tbody>\n",
       "    <tr>\n",
       "      <th>tt0060196</th>\n",
       "      <td>The Good, the Bad and the Ugly (1966)</td>\n",
       "      <td>1966</td>\n",
       "      <td>9.0</td>\n",
       "      <td>195238</td>\n",
       "      <td>161 mins.</td>\n",
       "      <td>Western</td>\n",
       "    </tr>\n",
       "  </tbody>\n",
       "</table>\n",
       "</div>"
      ],
      "text/plain": [
       "                                           title  year  score   votes  \\\n",
       "id                                                                      \n",
       "tt0060196  The Good, the Bad and the Ugly (1966)  1966    9.0  195238   \n",
       "\n",
       "              length   genres  \n",
       "id                             \n",
       "tt0060196  161 mins.  Western  "
      ]
     },
     "execution_count": 16,
     "metadata": {},
     "output_type": "execute_result"
    }
   ],
   "source": [
    "data[data['year'] == 1966].sort_values(by='score', ascending=False).head(1)"
   ]
  },
  {
   "cell_type": "code",
   "execution_count": 17,
   "metadata": {},
   "outputs": [
    {
     "data": {
      "text/plain": [
       "id\n",
       "tt0111161    1994\n",
       "tt0068646    1972\n",
       "Name: year, dtype: int64"
      ]
     },
     "execution_count": 17,
     "metadata": {},
     "output_type": "execute_result"
    }
   ],
   "source": [
    "data[data['score'] == data['score'].max()]['year']"
   ]
  },
  {
   "cell_type": "code",
   "execution_count": 18,
   "metadata": {},
   "outputs": [
    {
     "data": {
      "text/plain": [
       "id\n",
       "tt0111161    The Shawshank Redemption (1994)\n",
       "tt0468569             The Dark Knight (2008)\n",
       "tt0110912                Pulp Fiction (1994)\n",
       "tt0068646               The Godfather (1972)\n",
       "tt0137523                  Fight Club (1999)\n",
       "Name: title, dtype: object"
      ]
     },
     "execution_count": 18,
     "metadata": {},
     "output_type": "execute_result"
    }
   ],
   "source": [
    "data.sort_values(by='votes', ascending=False).head(5)['title']"
   ]
  },
  {
   "cell_type": "code",
   "execution_count": 19,
   "metadata": {},
   "outputs": [
    {
     "data": {
      "text/plain": [
       "year\n",
       "1960    8.7\n",
       "1961    8.4\n",
       "1962    8.5\n",
       "1963    8.3\n",
       "1964    8.6\n",
       "1965    8.3\n",
       "1966    9.0\n",
       "1967    8.3\n",
       "1968    8.8\n",
       "1969    8.2\n",
       "Name: score, dtype: float64"
      ]
     },
     "execution_count": 19,
     "metadata": {},
     "output_type": "execute_result"
    }
   ],
   "source": [
    "data[(data['year'] >= 1960) & (data['year'] <= 1969)].groupby(data['year'])['score'].max()"
   ]
  }
 ],
 "metadata": {
  "anaconda-cloud": {},
  "kernelspec": {
   "display_name": "Python [conda root]",
   "language": "python",
   "name": "conda-root-py"
  },
  "language_info": {
   "codemirror_mode": {
    "name": "ipython",
    "version": 3
   },
   "file_extension": ".py",
   "mimetype": "text/x-python",
   "name": "python",
   "nbconvert_exporter": "python",
   "pygments_lexer": "ipython3",
   "version": "3.6.2"
  }
 },
 "nbformat": 4,
 "nbformat_minor": 1
}
