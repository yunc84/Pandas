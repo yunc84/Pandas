{
 "cells": [
  {
   "cell_type": "markdown",
   "metadata": {},
   "source": [
    "# Cleaning dirty data with Pandas"
   ]
  },
  {
   "cell_type": "markdown",
   "metadata": {},
   "source": [
    "# NYC 311 Service Requests"
   ]
  },
  {
   "cell_type": "markdown",
   "metadata": {},
   "source": [
    "Note: this is quite a dirty dataset and similar to the datasets I typically encounter at work!"
   ]
  },
  {
   "cell_type": "code",
   "execution_count": 1,
   "metadata": {
    "collapsed": true
   },
   "outputs": [],
   "source": [
    "import pandas as pd\n",
    "import numpy as np"
   ]
  },
  {
   "cell_type": "code",
   "execution_count": 2,
   "metadata": {
    "collapsed": false
   },
   "outputs": [
    {
     "name": "stderr",
     "output_type": "stream",
     "text": [
      "/Users/mason/anaconda2/lib/python2.7/site-packages/IPython/core/interactiveshell.py:2723: DtypeWarning: Columns (8) have mixed types. Specify dtype option on import or set low_memory=False.\n",
      "  interactivity=interactivity, compiler=compiler, result=result)\n"
     ]
    }
   ],
   "source": [
    "requests = pd.read_csv('data/311-service-requests.csv')"
   ]
  },
  {
   "cell_type": "markdown",
   "metadata": {},
   "source": [
    "Uh oh! We have mixed types in column 8. Let's inspect:"
   ]
  },
  {
   "cell_type": "code",
   "execution_count": 3,
   "metadata": {
    "collapsed": false
   },
   "outputs": [
    {
     "name": "stdout",
     "output_type": "stream",
     "text": [
      "<class 'pandas.core.frame.DataFrame'>\n",
      "RangeIndex: 111069 entries, 0 to 111068\n",
      "Data columns (total 52 columns):\n",
      "Unique Key                        111069 non-null int64\n",
      "Created Date                      111069 non-null object\n",
      "Closed Date                       60270 non-null object\n",
      "Agency                            111069 non-null object\n",
      "Agency Name                       111069 non-null object\n",
      "Complaint Type                    111069 non-null object\n",
      "Descriptor                        110613 non-null object\n",
      "Location Type                     79022 non-null object\n",
      "Incident Zip                      98807 non-null object\n",
      "Incident Address                  84441 non-null object\n",
      "Street Name                       84432 non-null object\n",
      "Cross Street 1                    84728 non-null object\n",
      "Cross Street 2                    84005 non-null object\n",
      "Intersection Street 1             19364 non-null object\n",
      "Intersection Street 2             19366 non-null object\n",
      "Address Type                      102247 non-null object\n",
      "City                              98854 non-null object\n",
      "Landmark                          95 non-null object\n",
      "Facility Type                     19104 non-null object\n",
      "Status                            111069 non-null object\n",
      "Due Date                          39239 non-null object\n",
      "Resolution Action Updated Date    96507 non-null object\n",
      "Community Board                   111069 non-null object\n",
      "Borough                           111069 non-null object\n",
      "X Coordinate (State Plane)        98143 non-null float64\n",
      "Y Coordinate (State Plane)        98143 non-null float64\n",
      "Park Facility Name                111069 non-null object\n",
      "Park Borough                      111069 non-null object\n",
      "School Name                       111069 non-null object\n",
      "School Number                     111048 non-null object\n",
      "School Region                     110524 non-null object\n",
      "School Code                       110524 non-null object\n",
      "School Phone Number               111069 non-null object\n",
      "School Address                    111069 non-null object\n",
      "School City                       111069 non-null object\n",
      "School State                      111069 non-null object\n",
      "School Zip                        111069 non-null object\n",
      "School Not Found                  38984 non-null object\n",
      "School or Citywide Complaint      0 non-null float64\n",
      "Vehicle Type                      99 non-null object\n",
      "Taxi Company Borough              117 non-null object\n",
      "Taxi Pick Up Location             1059 non-null object\n",
      "Bridge Highway Name               185 non-null object\n",
      "Bridge Highway Direction          185 non-null object\n",
      "Road Ramp                         180 non-null object\n",
      "Bridge Highway Segment            219 non-null object\n",
      "Garage Lot Name                   49 non-null object\n",
      "Ferry Direction                   24 non-null object\n",
      "Ferry Terminal Name               70 non-null object\n",
      "Latitude                          98143 non-null float64\n",
      "Longitude                         98143 non-null float64\n",
      "Location                          98143 non-null object\n",
      "dtypes: float64(5), int64(1), object(46)\n",
      "memory usage: 44.1+ MB\n"
     ]
    }
   ],
   "source": [
    "requests.info()"
   ]
  },
  {
   "cell_type": "markdown",
   "metadata": {},
   "source": [
    "Let's inspect column 8: incident zip"
   ]
  },
  {
   "cell_type": "code",
   "execution_count": 4,
   "metadata": {
    "collapsed": false
   },
   "outputs": [
    {
     "data": {
      "text/plain": [
       "array([11432.0, 11378.0, 10032.0, 10023.0, 10027.0, 11372.0, 11419.0,\n",
       "       11417.0, 10011.0, 11225.0, 11218.0, 10003.0, 10029.0, 10466.0,\n",
       "       11219.0, 10025.0, 10310.0, 11236.0, nan, 10033.0, 11216.0, 10016.0,\n",
       "       10305.0, 10312.0, 10026.0, 10309.0, 10036.0, 11433.0, 11235.0,\n",
       "       11213.0, 11379.0, 11101.0, 10014.0, 11231.0, 11234.0, 10457.0,\n",
       "       10459.0, 10465.0, 11207.0, 10002.0, 10034.0, 11233.0, 10453.0,\n",
       "       10456.0, 10469.0, 11374.0, 11221.0, 11421.0, 11215.0, 10007.0,\n",
       "       10019.0, 11205.0, 11418.0, 11369.0, 11249.0, 10005.0, 10009.0,\n",
       "       11211.0, 11412.0, 10458.0, 11229.0, 10065.0, 10030.0, 11222.0,\n",
       "       10024.0, 10013.0, 11420.0, 11365.0, 10012.0, 11214.0, 11212.0,\n",
       "       10022.0, 11232.0, 11040.0, 11226.0, 10281.0, 11102.0, 11208.0,\n",
       "       10001.0, 10472.0, 11414.0, 11223.0, 10040.0, 11220.0, 11373.0,\n",
       "       11203.0, 11691.0, 11356.0, 10017.0, 10452.0, 10280.0, 11217.0,\n",
       "       10031.0, 11201.0, 11358.0, 10128.0, 11423.0, 10039.0, 10010.0,\n",
       "       11209.0, 10021.0, 10037.0, 11413.0, 11375.0, 11238.0, 10473.0,\n",
       "       11103.0, 11354.0, 11361.0, 11106.0, 11385.0, 10463.0, 10467.0,\n",
       "       11204.0, 11237.0, 11377.0, 11364.0, 11434.0, 11435.0, 11210.0,\n",
       "       11228.0, 11368.0, 11694.0, 10464.0, 11415.0, 10314.0, 10301.0,\n",
       "       10018.0, 10038.0, 11105.0, 11230.0, 10468.0, 11104.0, 10471.0,\n",
       "       11416.0, 10075.0, 11422.0, 11355.0, 10028.0, 10462.0, 10306.0,\n",
       "       10461.0, 11224.0, 11429.0, 10035.0, 11366.0, 11362.0, 11206.0,\n",
       "       10460.0, 10304.0, 11360.0, 11411.0, 10455.0, 10475.0, 10069.0,\n",
       "       10303.0, 10308.0, 10302.0, 11357.0, 10470.0, 11367.0, 11370.0,\n",
       "       10454.0, 10451.0, 11436.0, 11426.0, 10153.0, 11004.0, 11428.0,\n",
       "       11427.0, 11001.0, 11363.0, 10004.0, 10474.0, 11430.0, 10000.0,\n",
       "       10307.0, 11239.0, 10119.0, 10006.0, 10048.0, 11697.0, 11692.0,\n",
       "       11693.0, 10573.0, 83.0, 11559.0, 10020.0, 77056.0, 11776.0, 70711.0,\n",
       "       10282.0, 11109.0, 10044.0, '10452', '11233', '10468', '10310',\n",
       "       '11105', '10462', '10029', '10301', '10457', '10467', '10469',\n",
       "       '11225', '10035', '10031', '11226', '10454', '11221', '10025',\n",
       "       '11229', '11235', '11422', '10472', '11208', '11102', '10032',\n",
       "       '11216', '10473', '10463', '11213', '10040', '10302', '11231',\n",
       "       '10470', '11204', '11104', '11212', '10466', '11416', '11214',\n",
       "       '10009', '11692', '11385', '11423', '11201', '10024', '11435',\n",
       "       '10312', '10030', '11106', '10033', '10303', '11215', '11222',\n",
       "       '11354', '10016', '10034', '11420', '10304', '10019', '11237',\n",
       "       '11249', '11230', '11372', '11207', '11378', '11419', '11361',\n",
       "       '10011', '11357', '10012', '11358', '10003', '10002', '11374',\n",
       "       '10007', '11234', '10065', '11369', '11434', '11205', '11206',\n",
       "       '11415', '11236', '11218', '11413', '10458', '11101', '10306',\n",
       "       '11355', '10023', '11368', '10314', '11421', '10010', '10018',\n",
       "       '11223', '10455', '11377', '11433', '11375', '10037', '11209',\n",
       "       '10459', '10128', '10014', '10282', '11373', '10451', '11238',\n",
       "       '11211', '10038', '11694', '11203', '11691', '11232', '10305',\n",
       "       '10021', '11228', '10036', '10001', '10017', '11217', '11219',\n",
       "       '10308', '10465', '11379', '11414', '10460', '11417', '11220',\n",
       "       '11366', '10027', '11370', '10309', '11412', '11356', '10456',\n",
       "       '11432', '10022', '10013', '11367', '11040', '10026', '10475',\n",
       "       '11210', '11364', '11426', '10471', '10119', '11224', '11418',\n",
       "       '11429', '11365', '10461', '11239', '10039', '00083', '11411',\n",
       "       '10075', '11004', '11360', '10453', '10028', '11430', '10307',\n",
       "       '11103', '10004', '10069', '10005', '10474', '11428', '11436',\n",
       "       '10020', '11001', '11362', '11693', '10464', '11427', '10044',\n",
       "       '11363', '10006', '10000', '02061', '77092-2016', '10280', '11109',\n",
       "       '14225', '55164-0737', '19711', '07306', '000000', 'NO CLUE',\n",
       "       '90010', '10281', '11747', '23541', '11776', '11697', '11788',\n",
       "       '07604', 10112.0, 11788.0, 11563.0, 11580.0, 7087.0, 11042.0,\n",
       "       7093.0, 11501.0, 92123.0, 0.0, 11575.0, 7109.0, 11797.0, '10803',\n",
       "       '11716', '11722', '11549-3650', '10162', '92123', '23502', '11518',\n",
       "       '07020', '08807', '11577', '07114', '11003', '07201', '11563',\n",
       "       '61702', '10103', '29616-0759', '35209-3114', '11520', '11735',\n",
       "       '10129', '11005', '41042', '11590', 6901.0, 7208.0, 11530.0,\n",
       "       13221.0, 10954.0, 11735.0, 10103.0, 7114.0, 11111.0, 10107.0], dtype=object)"
      ]
     },
     "execution_count": 4,
     "metadata": {},
     "output_type": "execute_result"
    }
   ],
   "source": [
    "requests['Incident Zip'].unique()"
   ]
  },
  {
   "cell_type": "markdown",
   "metadata": {},
   "source": [
    "## More data more problems with incident zip:\n",
    "\n",
    "- some have been parsed as strings, some as floats\n",
    "- we have nan (not a number), NO CLUE, etc\n",
    "- the zip codes are of uneven length\n",
    "- what is 83?\n",
    "\n",
    "We need to fix all the above and convert to a string since zip codes aren't really a number"
   ]
  },
  {
   "cell_type": "code",
   "execution_count": 4,
   "metadata": {
    "collapsed": true
   },
   "outputs": [],
   "source": [
    "# specify the NA values in the dataset\n",
    "na_values = ['NO CLUE', 'N/A', '0']"
   ]
  },
  {
   "cell_type": "code",
   "execution_count": 5,
   "metadata": {
    "collapsed": true
   },
   "outputs": [],
   "source": [
    "# specify that incident zip is actually a string\n",
    "requests = pd.read_csv('data/311-service-requests.csv', \n",
    "                       na_values=na_values, dtype={'Incident Zip': str})"
   ]
  },
  {
   "cell_type": "code",
   "execution_count": 6,
   "metadata": {
    "collapsed": false
   },
   "outputs": [
    {
     "data": {
      "text/plain": [
       "array(['11432', '11378', '10032', '10023', '10027', '11372', '11419',\n",
       "       '11417', '10011', '11225', '11218', '10003', '10029', '10466',\n",
       "       '11219', '10025', '10310', '11236', nan, '10033', '11216', '10016',\n",
       "       '10305', '10312', '10026', '10309', '10036', '11433', '11235',\n",
       "       '11213', '11379', '11101', '10014', '11231', '11234', '10457',\n",
       "       '10459', '10465', '11207', '10002', '10034', '11233', '10453',\n",
       "       '10456', '10469', '11374', '11221', '11421', '11215', '10007',\n",
       "       '10019', '11205', '11418', '11369', '11249', '10005', '10009',\n",
       "       '11211', '11412', '10458', '11229', '10065', '10030', '11222',\n",
       "       '10024', '10013', '11420', '11365', '10012', '11214', '11212',\n",
       "       '10022', '11232', '11040', '11226', '10281', '11102', '11208',\n",
       "       '10001', '10472', '11414', '11223', '10040', '11220', '11373',\n",
       "       '11203', '11691', '11356', '10017', '10452', '10280', '11217',\n",
       "       '10031', '11201', '11358', '10128', '11423', '10039', '10010',\n",
       "       '11209', '10021', '10037', '11413', '11375', '11238', '10473',\n",
       "       '11103', '11354', '11361', '11106', '11385', '10463', '10467',\n",
       "       '11204', '11237', '11377', '11364', '11434', '11435', '11210',\n",
       "       '11228', '11368', '11694', '10464', '11415', '10314', '10301',\n",
       "       '10018', '10038', '11105', '11230', '10468', '11104', '10471',\n",
       "       '11416', '10075', '11422', '11355', '10028', '10462', '10306',\n",
       "       '10461', '11224', '11429', '10035', '11366', '11362', '11206',\n",
       "       '10460', '10304', '11360', '11411', '10455', '10475', '10069',\n",
       "       '10303', '10308', '10302', '11357', '10470', '11367', '11370',\n",
       "       '10454', '10451', '11436', '11426', '10153', '11004', '11428',\n",
       "       '11427', '11001', '11363', '10004', '10474', '11430', '10000',\n",
       "       '10307', '11239', '10119', '10006', '10048', '11697', '11692',\n",
       "       '11693', '10573', '00083', '11559', '10020', '77056', '11776',\n",
       "       '70711', '10282', '11109', '10044', '02061', '77092-2016', '14225',\n",
       "       '55164-0737', '19711', '07306', '000000', '90010', '11747', '23541',\n",
       "       '11788', '07604', '10112', '11563', '11580', '07087', '11042',\n",
       "       '07093', '11501', '92123', '00000', '11575', '07109', '11797',\n",
       "       '10803', '11716', '11722', '11549-3650', '10162', '23502', '11518',\n",
       "       '07020', '08807', '11577', '07114', '11003', '07201', '61702',\n",
       "       '10103', '29616-0759', '35209-3114', '11520', '11735', '10129',\n",
       "       '11005', '41042', '11590', '06901', '07208', '11530', '13221',\n",
       "       '10954', '11111', '10107'], dtype=object)"
      ]
     },
     "execution_count": 6,
     "metadata": {},
     "output_type": "execute_result"
    }
   ],
   "source": [
    "requests['Incident Zip'].unique()"
   ]
  },
  {
   "cell_type": "markdown",
   "metadata": {},
   "source": [
    "## Now it's your turn\n",
    "\n",
    "- Follow the instructions below to clean up the zip code"
   ]
  },
  {
   "cell_type": "markdown",
   "metadata": {},
   "source": [
    "Some of the zip codes contain dashes. Figure out a way to look at rows and see if you learn anythign about them:"
   ]
  },
  {
   "cell_type": "code",
   "execution_count": null,
   "metadata": {
    "collapsed": true
   },
   "outputs": [],
   "source": []
  },
  {
   "cell_type": "markdown",
   "metadata": {},
   "source": [
    "Shorten the long zip codes with dashes to be the same length as all other zips:"
   ]
  },
  {
   "cell_type": "code",
   "execution_count": null,
   "metadata": {
    "collapsed": true
   },
   "outputs": [],
   "source": []
  },
  {
   "cell_type": "markdown",
   "metadata": {},
   "source": [
    "Replace users who just entered 00000 as the zip code with `np.nan`:"
   ]
  },
  {
   "cell_type": "code",
   "execution_count": null,
   "metadata": {
    "collapsed": true
   },
   "outputs": [],
   "source": []
  },
  {
   "cell_type": "markdown",
   "metadata": {},
   "source": [
    "Check out the unique values of the cleaned zip codes. Try sorting them to make it easier to check:"
   ]
  },
  {
   "cell_type": "code",
   "execution_count": null,
   "metadata": {
    "collapsed": true
   },
   "outputs": [],
   "source": []
  }
 ],
 "metadata": {
  "anaconda-cloud": {},
  "kernelspec": {
   "display_name": "Python [Root]",
   "language": "python",
   "name": "Python [Root]"
  },
  "language_info": {
   "codemirror_mode": {
    "name": "ipython",
    "version": 2
   },
   "file_extension": ".py",
   "mimetype": "text/x-python",
   "name": "python",
   "nbconvert_exporter": "python",
   "pygments_lexer": "ipython2",
   "version": "2.7.12"
  }
 },
 "nbformat": 4,
 "nbformat_minor": 0
}
