{
 "cells": [
  {
   "cell_type": "code",
   "execution_count": 1,
   "metadata": {
    "collapsed": true
   },
   "outputs": [],
   "source": [
    "import pandas as pd\n",
    "import numpy as np"
   ]
  },
  {
   "cell_type": "markdown",
   "metadata": {},
   "source": [
    "### An incredibly useful function, apply"
   ]
  },
  {
   "cell_type": "code",
   "execution_count": 18,
   "metadata": {
    "collapsed": false
   },
   "outputs": [],
   "source": [
    "names = ['id', 'title', 'year', 'score', 'votes', 'length', 'genres']\n",
    "data = pd.read_csv('data/imdb_top_10000.txt', sep='\\t', names=names, index_col=0)"
   ]
  },
  {
   "cell_type": "code",
   "execution_count": 3,
   "metadata": {
    "collapsed": false
   },
   "outputs": [
    {
     "data": {
      "text/plain": [
       "id\n",
       "tt0111161    92.0\n",
       "tt0110912    90.0\n",
       "tt0137523    88.0\n",
       "tt0133093    87.0\n",
       "tt1375666    89.0\n",
       "Name: score, dtype: float64"
      ]
     },
     "execution_count": 3,
     "metadata": {},
     "output_type": "execute_result"
    }
   ],
   "source": [
    "data['score'].apply(lambda x: x*10).head()"
   ]
  },
  {
   "cell_type": "code",
   "execution_count": 4,
   "metadata": {
    "collapsed": false
   },
   "outputs": [
    {
     "data": {
      "text/html": [
       "<div>\n",
       "<table border=\"1\" class=\"dataframe\">\n",
       "  <thead>\n",
       "    <tr style=\"text-align: right;\">\n",
       "      <th></th>\n",
       "      <th>title</th>\n",
       "      <th>year</th>\n",
       "      <th>score</th>\n",
       "      <th>votes</th>\n",
       "      <th>length</th>\n",
       "      <th>genres</th>\n",
       "    </tr>\n",
       "    <tr>\n",
       "      <th>id</th>\n",
       "      <th></th>\n",
       "      <th></th>\n",
       "      <th></th>\n",
       "      <th></th>\n",
       "      <th></th>\n",
       "      <th></th>\n",
       "    </tr>\n",
       "  </thead>\n",
       "  <tbody>\n",
       "    <tr>\n",
       "      <th>tt0111161</th>\n",
       "      <td>The Shawshank Redemption (1994)</td>\n",
       "      <td>1994</td>\n",
       "      <td>9.2</td>\n",
       "      <td>619479</td>\n",
       "      <td>142 mins.</td>\n",
       "      <td>Crime|Drama</td>\n",
       "    </tr>\n",
       "    <tr>\n",
       "      <th>tt0110912</th>\n",
       "      <td>Pulp Fiction (1994)</td>\n",
       "      <td>1994</td>\n",
       "      <td>9.0</td>\n",
       "      <td>490065</td>\n",
       "      <td>154 mins.</td>\n",
       "      <td>Crime|Thriller</td>\n",
       "    </tr>\n",
       "    <tr>\n",
       "      <th>tt0137523</th>\n",
       "      <td>Fight Club (1999)</td>\n",
       "      <td>1999</td>\n",
       "      <td>8.8</td>\n",
       "      <td>458173</td>\n",
       "      <td>139 mins.</td>\n",
       "      <td>Drama|Mystery|Thriller</td>\n",
       "    </tr>\n",
       "    <tr>\n",
       "      <th>tt0133093</th>\n",
       "      <td>The Matrix (1999)</td>\n",
       "      <td>1999</td>\n",
       "      <td>8.7</td>\n",
       "      <td>448114</td>\n",
       "      <td>136 mins.</td>\n",
       "      <td>Action|Adventure|Sci-Fi</td>\n",
       "    </tr>\n",
       "    <tr>\n",
       "      <th>tt1375666</th>\n",
       "      <td>Inception (2010)</td>\n",
       "      <td>2010</td>\n",
       "      <td>8.9</td>\n",
       "      <td>385149</td>\n",
       "      <td>148 mins.</td>\n",
       "      <td>Action|Adventure|Sci-Fi|Thriller</td>\n",
       "    </tr>\n",
       "  </tbody>\n",
       "</table>\n",
       "</div>"
      ],
      "text/plain": [
       "                                     title  year  score   votes     length  \\\n",
       "id                                                                           \n",
       "tt0111161  The Shawshank Redemption (1994)  1994    9.2  619479  142 mins.   \n",
       "tt0110912              Pulp Fiction (1994)  1994    9.0  490065  154 mins.   \n",
       "tt0137523                Fight Club (1999)  1999    8.8  458173  139 mins.   \n",
       "tt0133093                The Matrix (1999)  1999    8.7  448114  136 mins.   \n",
       "tt1375666                 Inception (2010)  2010    8.9  385149  148 mins.   \n",
       "\n",
       "                                     genres  \n",
       "id                                           \n",
       "tt0111161                       Crime|Drama  \n",
       "tt0110912                    Crime|Thriller  \n",
       "tt0137523            Drama|Mystery|Thriller  \n",
       "tt0133093           Action|Adventure|Sci-Fi  \n",
       "tt1375666  Action|Adventure|Sci-Fi|Thriller  "
      ]
     },
     "execution_count": 4,
     "metadata": {},
     "output_type": "execute_result"
    }
   ],
   "source": [
    "data.head()"
   ]
  },
  {
   "cell_type": "code",
   "execution_count": 11,
   "metadata": {
    "collapsed": false
   },
   "outputs": [
    {
     "name": "stdout",
     "output_type": "stream",
     "text": [
      "<class 'pandas.core.frame.DataFrame'>\n",
      "Index: 10000 entries, tt0111161 to tt0279977\n",
      "Data columns (total 6 columns):\n",
      "title     10000 non-null object\n",
      "year      10000 non-null int64\n",
      "score     10000 non-null float64\n",
      "votes     10000 non-null int64\n",
      "length    10000 non-null object\n",
      "genres    9999 non-null object\n",
      "dtypes: float64(1), int64(2), object(3)\n",
      "memory usage: 546.9+ KB\n"
     ]
    }
   ],
   "source": [
    "data.info()"
   ]
  },
  {
   "cell_type": "code",
   "execution_count": 12,
   "metadata": {
    "collapsed": false
   },
   "outputs": [
    {
     "data": {
      "text/plain": [
       "array(['142 mins.', '154 mins.', '139 mins.', '136 mins.', '148 mins.',\n",
       "       '122 mins.', '162 mins.', '195 mins.', '124 mins.', '140 mins.',\n",
       "       '106 mins.', '118 mins.', '194 mins.', '177 mins.', '107 mins.',\n",
       "       '111 mins.', '146 mins.', '117 mins.', '130 mins.', '99 mins.',\n",
       "       '110 mins.', '189 mins.', '153 mins.', '98 mins.', '152 mins.',\n",
       "       '175 mins.', '178 mins.', '201 mins.', '179 mins.', '121 mins.',\n",
       "       '127 mins.', '155 mins.', '113 mins.', '169 mins.', '151 mins.',\n",
       "       '200 mins.', '143 mins.', '137 mins.', '115 mins.', '132 mins.',\n",
       "       '119 mins.', '108 mins.', '133 mins.', '116 mins.', '134 mins.',\n",
       "       '144 mins.', '120 mins.', '131 mins.', '104 mins.', '100 mins.',\n",
       "       '112 mins.', '129 mins.', '80 mins.', '138 mins.', '00 mins.',\n",
       "       '90 mins.', '101 mins.', '91 mins.', '89 mins.', '102 mins.',\n",
       "       '126 mins.', '161 mins.', '103 mins.', '109 mins.', '141 mins.',\n",
       "       '170 mins.', '94 mins.', '95 mins.', '96 mins.', '145 mins.',\n",
       "       '166 mins.', '150 mins.', '85 mins.', '135 mins.', '128 mins.',\n",
       "       '125 mins.', '158 mins.', '163 mins.', '187 mins.', '92 mins.',\n",
       "       '84 mins.', '188 mins.', '87 mins.', '157 mins.', '93 mins.',\n",
       "       '149 mins.', '167 mins.', '105 mins.', '147 mins.', '160 mins.',\n",
       "       '183 mins.', '207 mins.', '88 mins.', '123 mins.', '159 mins.',\n",
       "       '81 mins.', '182 mins.', '156 mins.', '164 mins.', '165 mins.',\n",
       "       '76 mins.', '191 mins.', '216 mins.', '114 mins.', '82 mins.',\n",
       "       '229 mins.', '97 mins.', '181 mins.', '86 mins.', '172 mins.',\n",
       "       '77 mins.', '212 mins.', '174 mins.', '83 mins.', '78 mins.',\n",
       "       '184 mins.', '79 mins.', '197 mins.', '193 mins.', '202 mins.',\n",
       "       '75 mins.', '74 mins.', '220 mins.', '180 mins.', '69 mins.',\n",
       "       '242 mins.', '186 mins.', '192 mins.', '224 mins.', '171 mins.',\n",
       "       '261 mins.', '71 mins.', '73 mins.', '210 mins.', '219 mins.',\n",
       "       '67 mins.', '173 mins.', '185 mins.', '70 mins.', '48 mins.',\n",
       "       '68 mins.', '213 mins.', '65 mins.', '72 mins.', '168 mins.',\n",
       "       '208 mins.', '61 mins.', '47 mins.', '176 mins.', '54 mins.',\n",
       "       '427 mins.', '45 mins.', '450 mins.', '236 mins.', '206 mins.',\n",
       "       '50 mins.', '66 mins.', '237 mins.', '62 mins.', '235 mins.',\n",
       "       '217 mins.', '205 mins.'], dtype=object)"
      ]
     },
     "execution_count": 12,
     "metadata": {},
     "output_type": "execute_result"
    }
   ],
   "source": [
    "data['length'].unique()"
   ]
  },
  {
   "cell_type": "code",
   "execution_count": 9,
   "metadata": {
    "collapsed": false
   },
   "outputs": [
    {
     "data": {
      "text/plain": [
       "array(['Crime|Drama', 'Crime|Thriller', 'Drama|Mystery|Thriller',\n",
       "       'Action|Adventure|Sci-Fi', 'Action|Adventure|Sci-Fi|Thriller',\n",
       "       'Comedy|Drama|Romance', 'Drama', 'Action|Adventure|Fantasy|Sci-Fi',\n",
       "       'Biography|Drama|History|War', 'Action|Adventure|Family|Sci-Fi',\n",
       "       'Action|Crime|Drama|Thriller', 'Crime|Mystery|Thriller',\n",
       "       'Adventure|Drama|History|Romance',\n",
       "       'Action|Biography|Drama|History|War', 'Action|Crime|Thriller',\n",
       "       'Biography|Crime|Drama|Thriller', 'Action|Fantasy|History|War',\n",
       "       'Crime|Drama|Thriller', 'Crime|Drama|Fantasy|Mystery',\n",
       "       'Adventure|Drama|War', 'Animation|Adventure|Family|Romance|Sci-Fi',\n",
       "       'Action|Adventure|Drama|Fantasy',\n",
       "       'Action|Adventure|Family|Fantasy|Sci-Fi',\n",
       "       'Crime|Drama|Mystery|Thriller', 'Action|Adventure|Drama',\n",
       "       'Action|Drama|History|War', 'Action|Adventure|Fantasy',\n",
       "       'Action|Sci-Fi|Thriller', 'Action|Adventure',\n",
       "       'Drama|Romance|Sci-Fi', 'Drama|Mystery|Sci-Fi',\n",
       "       'Adventure|Family|Sci-Fi', 'Crime|Drama|Sci-Fi',\n",
       "       'Crime|Drama|Romance|Thriller', 'Comedy|Fantasy|Romance',\n",
       "       'Action|Thriller', 'Action|Sci-Fi', 'Drama|Sci-Fi|Thriller',\n",
       "       'Animation|Adventure|Comedy|Family', 'Action|Drama|Sci-Fi|Thriller',\n",
       "       'Mystery|Sci-Fi|Thriller',\n",
       "       'Animation|Action|Adventure|Family|Fantasy',\n",
       "       'Animation|Adventure|Comedy|Family|Fantasy',\n",
       "       'Drama|Fantasy|Mystery', 'Comedy|Crime', 'Drama|War',\n",
       "       'Adventure|Comedy',\n",
       "       'Animation|Adventure|Comedy|Drama|Family|Musical',\n",
       "       'Drama|Horror|Mystery', 'Horror|Sci-Fi', 'Western',\n",
       "       'Comedy|Drama|Sci-Fi', 'Drama|Thriller',\n",
       "       'Adventure|Drama|Sci-Fi|Thriller', 'Adventure|Mystery|Sci-Fi',\n",
       "       'Comedy|Drama', 'Drama|Fantasy|Mystery|Romance',\n",
       "       'Animation|Comedy|Family|Fantasy', 'Biography|Drama|War',\n",
       "       'Thriller', 'Action|Drama|Fantasy|Thriller',\n",
       "       'Adventure|Family|Fantasy|Mystery',\n",
       "       'Action|Drama|Mystery|Sci-Fi|Thriller', 'Comedy',\n",
       "       'Horror|Mystery|Sci-Fi', 'Biography|Drama', 'Action|Comedy|Mystery',\n",
       "       'Action|Crime|Mystery|Thriller', 'Drama|Sport',\n",
       "       'Adventure|Comedy|Drama'], dtype=object)"
      ]
     },
     "execution_count": 9,
     "metadata": {},
     "output_type": "execute_result"
    }
   ],
   "source": [
    "data['genres'].unique()[:70]"
   ]
  },
  {
   "cell_type": "markdown",
   "metadata": {},
   "source": [
    "### Cleaning up our dataset"
   ]
  },
  {
   "cell_type": "markdown",
   "metadata": {},
   "source": [
    "Split into groups of 2-3 and discuss how would you approach cleaning:\n",
    "\n",
    "- the title column to remove the year in parentheses since it's redundant\n",
    "- the length column to remove mins.\n",
    "- splitting up the genres column (this one is hard) into a column for each genre with True if the movie is that particular genre and False otherwise\n",
    "\n",
    "Hint: when ideating as a group, it's helpful to use \"pseudocode\"\n",
    "\n",
    "Once you're satisfied as a group, implement the ideas individually!"
   ]
  },
  {
   "cell_type": "markdown",
   "metadata": {},
   "source": [
    "#### Note: if you're stuck, ask me for hints!"
   ]
  },
  {
   "cell_type": "code",
   "execution_count": 19,
   "metadata": {
    "collapsed": false
   },
   "outputs": [
    {
     "data": {
      "text/html": [
       "<div>\n",
       "<table border=\"1\" class=\"dataframe\">\n",
       "  <thead>\n",
       "    <tr style=\"text-align: right;\">\n",
       "      <th></th>\n",
       "      <th>title</th>\n",
       "      <th>year</th>\n",
       "      <th>score</th>\n",
       "      <th>votes</th>\n",
       "      <th>length</th>\n",
       "      <th>genres</th>\n",
       "    </tr>\n",
       "    <tr>\n",
       "      <th>id</th>\n",
       "      <th></th>\n",
       "      <th></th>\n",
       "      <th></th>\n",
       "      <th></th>\n",
       "      <th></th>\n",
       "      <th></th>\n",
       "    </tr>\n",
       "  </thead>\n",
       "  <tbody>\n",
       "    <tr>\n",
       "      <th>tt0111161</th>\n",
       "      <td>The Shawshank Redemption</td>\n",
       "      <td>1994</td>\n",
       "      <td>9.2</td>\n",
       "      <td>619479</td>\n",
       "      <td>142 mins.</td>\n",
       "      <td>Crime|Drama</td>\n",
       "    </tr>\n",
       "    <tr>\n",
       "      <th>tt0110912</th>\n",
       "      <td>Pulp Fiction</td>\n",
       "      <td>1994</td>\n",
       "      <td>9.0</td>\n",
       "      <td>490065</td>\n",
       "      <td>154 mins.</td>\n",
       "      <td>Crime|Thriller</td>\n",
       "    </tr>\n",
       "    <tr>\n",
       "      <th>tt0137523</th>\n",
       "      <td>Fight Club</td>\n",
       "      <td>1999</td>\n",
       "      <td>8.8</td>\n",
       "      <td>458173</td>\n",
       "      <td>139 mins.</td>\n",
       "      <td>Drama|Mystery|Thriller</td>\n",
       "    </tr>\n",
       "    <tr>\n",
       "      <th>tt0133093</th>\n",
       "      <td>The Matrix</td>\n",
       "      <td>1999</td>\n",
       "      <td>8.7</td>\n",
       "      <td>448114</td>\n",
       "      <td>136 mins.</td>\n",
       "      <td>Action|Adventure|Sci-Fi</td>\n",
       "    </tr>\n",
       "    <tr>\n",
       "      <th>tt1375666</th>\n",
       "      <td>Inception</td>\n",
       "      <td>2010</td>\n",
       "      <td>8.9</td>\n",
       "      <td>385149</td>\n",
       "      <td>148 mins.</td>\n",
       "      <td>Action|Adventure|Sci-Fi|Thriller</td>\n",
       "    </tr>\n",
       "  </tbody>\n",
       "</table>\n",
       "</div>"
      ],
      "text/plain": [
       "                              title  year  score   votes     length  \\\n",
       "id                                                                    \n",
       "tt0111161  The Shawshank Redemption  1994    9.2  619479  142 mins.   \n",
       "tt0110912              Pulp Fiction  1994    9.0  490065  154 mins.   \n",
       "tt0137523                Fight Club  1999    8.8  458173  139 mins.   \n",
       "tt0133093                The Matrix  1999    8.7  448114  136 mins.   \n",
       "tt1375666                 Inception  2010    8.9  385149  148 mins.   \n",
       "\n",
       "                                     genres  \n",
       "id                                           \n",
       "tt0111161                       Crime|Drama  \n",
       "tt0110912                    Crime|Thriller  \n",
       "tt0137523            Drama|Mystery|Thriller  \n",
       "tt0133093           Action|Adventure|Sci-Fi  \n",
       "tt1375666  Action|Adventure|Sci-Fi|Thriller  "
      ]
     },
     "execution_count": 19,
     "metadata": {},
     "output_type": "execute_result"
    }
   ],
   "source": [
    "data['title'] = data['title'].apply(lambda x: x[:-7])\n",
    "data.head()"
   ]
  },
  {
   "cell_type": "code",
   "execution_count": 23,
   "metadata": {
    "collapsed": false
   },
   "outputs": [
    {
     "data": {
      "text/html": [
       "<div>\n",
       "<table border=\"1\" class=\"dataframe\">\n",
       "  <thead>\n",
       "    <tr style=\"text-align: right;\">\n",
       "      <th></th>\n",
       "      <th>title</th>\n",
       "      <th>year</th>\n",
       "      <th>score</th>\n",
       "      <th>votes</th>\n",
       "      <th>length</th>\n",
       "      <th>genres</th>\n",
       "    </tr>\n",
       "    <tr>\n",
       "      <th>id</th>\n",
       "      <th></th>\n",
       "      <th></th>\n",
       "      <th></th>\n",
       "      <th></th>\n",
       "      <th></th>\n",
       "      <th></th>\n",
       "    </tr>\n",
       "  </thead>\n",
       "  <tbody>\n",
       "    <tr>\n",
       "      <th>tt0111161</th>\n",
       "      <td>The Shawshank Redemption</td>\n",
       "      <td>1994</td>\n",
       "      <td>9.2</td>\n",
       "      <td>619479</td>\n",
       "      <td>142</td>\n",
       "      <td>Crime|Drama</td>\n",
       "    </tr>\n",
       "    <tr>\n",
       "      <th>tt0110912</th>\n",
       "      <td>Pulp Fiction</td>\n",
       "      <td>1994</td>\n",
       "      <td>9.0</td>\n",
       "      <td>490065</td>\n",
       "      <td>154</td>\n",
       "      <td>Crime|Thriller</td>\n",
       "    </tr>\n",
       "    <tr>\n",
       "      <th>tt0137523</th>\n",
       "      <td>Fight Club</td>\n",
       "      <td>1999</td>\n",
       "      <td>8.8</td>\n",
       "      <td>458173</td>\n",
       "      <td>139</td>\n",
       "      <td>Drama|Mystery|Thriller</td>\n",
       "    </tr>\n",
       "    <tr>\n",
       "      <th>tt0133093</th>\n",
       "      <td>The Matrix</td>\n",
       "      <td>1999</td>\n",
       "      <td>8.7</td>\n",
       "      <td>448114</td>\n",
       "      <td>136</td>\n",
       "      <td>Action|Adventure|Sci-Fi</td>\n",
       "    </tr>\n",
       "    <tr>\n",
       "      <th>tt1375666</th>\n",
       "      <td>Inception</td>\n",
       "      <td>2010</td>\n",
       "      <td>8.9</td>\n",
       "      <td>385149</td>\n",
       "      <td>148</td>\n",
       "      <td>Action|Adventure|Sci-Fi|Thriller</td>\n",
       "    </tr>\n",
       "  </tbody>\n",
       "</table>\n",
       "</div>"
      ],
      "text/plain": [
       "                              title  year  score   votes  length  \\\n",
       "id                                                                 \n",
       "tt0111161  The Shawshank Redemption  1994    9.2  619479     142   \n",
       "tt0110912              Pulp Fiction  1994    9.0  490065     154   \n",
       "tt0137523                Fight Club  1999    8.8  458173     139   \n",
       "tt0133093                The Matrix  1999    8.7  448114     136   \n",
       "tt1375666                 Inception  2010    8.9  385149     148   \n",
       "\n",
       "                                     genres  \n",
       "id                                           \n",
       "tt0111161                       Crime|Drama  \n",
       "tt0110912                    Crime|Thriller  \n",
       "tt0137523            Drama|Mystery|Thriller  \n",
       "tt0133093           Action|Adventure|Sci-Fi  \n",
       "tt1375666  Action|Adventure|Sci-Fi|Thriller  "
      ]
     },
     "execution_count": 23,
     "metadata": {},
     "output_type": "execute_result"
    }
   ],
   "source": [
    "data['length'] = data['length'].apply(lambda x: int(x))\n",
    "data.head()"
   ]
  },
  {
   "cell_type": "code",
   "execution_count": 24,
   "metadata": {
    "collapsed": false
   },
   "outputs": [
    {
     "name": "stdout",
     "output_type": "stream",
     "text": [
      "<class 'pandas.core.frame.DataFrame'>\n",
      "Index: 10000 entries, tt0111161 to tt0279977\n",
      "Data columns (total 6 columns):\n",
      "title     10000 non-null object\n",
      "year      10000 non-null int64\n",
      "score     10000 non-null float64\n",
      "votes     10000 non-null int64\n",
      "length    10000 non-null int64\n",
      "genres    9999 non-null object\n",
      "dtypes: float64(1), int64(3), object(2)\n",
      "memory usage: 546.9+ KB\n"
     ]
    }
   ],
   "source": [
    "data.info()"
   ]
  },
  {
   "cell_type": "code",
   "execution_count": 27,
   "metadata": {
    "collapsed": false
   },
   "outputs": [],
   "source": [
    "genres = data['genres'].str.split('|')"
   ]
  },
  {
   "cell_type": "code",
   "execution_count": 42,
   "metadata": {
    "collapsed": false
   },
   "outputs": [
    {
     "ename": "TypeError",
     "evalue": "unsupported operand type(s) for +: 'int' and 'list'",
     "output_type": "error",
     "traceback": [
      "\u001b[0;31m---------------------------------------------------------------------------\u001b[0m",
      "\u001b[0;31mTypeError\u001b[0m                                 Traceback (most recent call last)",
      "\u001b[0;32m<ipython-input-42-2269bff4731c>\u001b[0m in \u001b[0;36m<module>\u001b[0;34m()\u001b[0m\n\u001b[0;32m----> 1\u001b[0;31m \u001b[0msum\u001b[0m\u001b[0;34m(\u001b[0m\u001b[0mlist\u001b[0m\u001b[0;34m(\u001b[0m\u001b[0mgenres\u001b[0m\u001b[0;34m.\u001b[0m\u001b[0mvalues\u001b[0m\u001b[0;34m)\u001b[0m\u001b[0;34m)\u001b[0m\u001b[0;34m\u001b[0m\u001b[0m\n\u001b[0m",
      "\u001b[0;31mTypeError\u001b[0m: unsupported operand type(s) for +: 'int' and 'list'"
     ]
    }
   ],
   "source": [
    "sum(list(genres.values))"
   ]
  },
  {
   "cell_type": "code",
   "execution_count": null,
   "metadata": {
    "collapsed": true
   },
   "outputs": [],
   "source": []
  },
  {
   "cell_type": "code",
   "execution_count": null,
   "metadata": {
    "collapsed": true
   },
   "outputs": [],
   "source": []
  }
 ],
 "metadata": {
  "anaconda-cloud": {},
  "kernelspec": {
   "display_name": "Python [conda root]",
   "language": "python",
   "name": "conda-root-py"
  },
  "language_info": {
   "codemirror_mode": {
    "name": "ipython",
    "version": 2
   },
   "file_extension": ".py",
   "mimetype": "text/x-python",
   "name": "python",
   "nbconvert_exporter": "python",
   "pygments_lexer": "ipython2",
   "version": "2.7.12"
  }
 },
 "nbformat": 4,
 "nbformat_minor": 0
}
