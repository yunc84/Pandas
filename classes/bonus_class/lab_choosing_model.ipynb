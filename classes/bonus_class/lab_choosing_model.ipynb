{
 "cells": [
  {
   "cell_type": "markdown",
   "metadata": {},
   "source": [
    "# Getting benchmarks for our models"
   ]
  },
  {
   "cell_type": "markdown",
   "metadata": {},
   "source": [
    "### Concept: we create very simplistic \"dummy\" models that we need to beat"
   ]
  },
  {
   "cell_type": "code",
   "execution_count": 7,
   "metadata": {
    "collapsed": true
   },
   "outputs": [],
   "source": [
    "from sklearn.dummy import DummyClassifier, DummyRegressor"
   ]
  },
  {
   "cell_type": "markdown",
   "metadata": {},
   "source": [
    "### Don't forget about test/train split! We're setting up an experiment afterall..."
   ]
  },
  {
   "cell_type": "markdown",
   "metadata": {},
   "source": [
    "DummyRegressor always predicts the mean. If we can't beat DummyRegressor, we don't have a good model!"
   ]
  },
  {
   "cell_type": "code",
   "execution_count": null,
   "metadata": {
    "collapsed": true
   },
   "outputs": [],
   "source": [
    "#dr = DummyRegressor()\n",
    "#dr.fit(X, y)\n",
    "#should we use MSE or MAE?\n",
    "#cross_val_score(dr, X, y, cv=10)"
   ]
  },
  {
   "cell_type": "markdown",
   "metadata": {},
   "source": [
    "DummyClassifier always predicts the most common class. Depending on our metrics, we want to beat this to have a good model!"
   ]
  },
  {
   "cell_type": "code",
   "execution_count": null,
   "metadata": {
    "collapsed": true
   },
   "outputs": [],
   "source": [
    "#dc = DummyClassifier()\n",
    "#dc.fit(X, y)\n",
    "#what should we use to measure success? precision? recall? etc...\n",
    "#cross_val_score(dc, X, y, cv=10)"
   ]
  },
  {
   "cell_type": "markdown",
   "metadata": {},
   "source": [
    "# Dataset 1: Predicting Benign vs Malignant Breast Cancer"
   ]
  },
  {
   "cell_type": "markdown",
   "metadata": {},
   "source": [
    "File name: breast-cancer.csv"
   ]
  },
  {
   "cell_type": "markdown",
   "metadata": {},
   "source": [
    "Attribute Information:\n",
    "\n",
    "- ID is the FIRST COLUMN\n",
    "- Diagnosis is the LAST COLUMN (2 for benign, 4 for malignant)\n",
    " \n",
    "\n",
    "Nine real-valued features are computed for each cell nucleus: \n",
    "\n",
    "- radius (mean of distances from center to points on the perimeter) \n",
    "- texture (standard deviation of gray-scale values) \n",
    "- perimeter \n",
    "- area \n",
    "- smoothness (local variation in radius lengths) \n",
    "- compactness (perimeter^2 / area - 1.0) \n",
    "- concavity (severity of concave portions of the contour) \n",
    "- concave points (number of concave portions of the contour) \n",
    "- fractal dimension (\"coastline approximation\" - 1)"
   ]
  },
  {
   "cell_type": "markdown",
   "metadata": {},
   "source": [
    "## Guiding questions"
   ]
  },
  {
   "cell_type": "code",
   "execution_count": 1,
   "metadata": {
    "collapsed": true
   },
   "outputs": [],
   "source": [
    "# catching it early is very important\n",
    "# we don't want to mistakenly tell someone they don't have cancer when they do\n",
    "# what metrics should we use to evaluate our model?"
   ]
  },
  {
   "cell_type": "code",
   "execution_count": 2,
   "metadata": {
    "collapsed": true
   },
   "outputs": [],
   "source": [
    "# which model performs best?"
   ]
  },
  {
   "cell_type": "code",
   "execution_count": 3,
   "metadata": {
    "collapsed": true
   },
   "outputs": [],
   "source": [
    "# how do you determine what's \"good\" performance?"
   ]
  },
  {
   "cell_type": "code",
   "execution_count": 1,
   "metadata": {
    "collapsed": true
   },
   "outputs": [],
   "source": [
    "# don't forget all the ways we discussed to evaluate performance"
   ]
  },
  {
   "cell_type": "markdown",
   "metadata": {},
   "source": [
    "# Dataset 2: Predicting forest fires"
   ]
  },
  {
   "cell_type": "markdown",
   "metadata": {},
   "source": [
    "Filename: forestfires.csv"
   ]
  },
  {
   "cell_type": "markdown",
   "metadata": {},
   "source": [
    "Attribute Information:\n",
    "\n",
    "- X - x-axis spatial coordinate within the Montesinho park map: 1 to 9 \n",
    "- Y - y-axis spatial coordinate within the Montesinho park map: 2 to 9 \n",
    "- month - month of the year: 'jan' to 'dec' \n",
    "- day - day of the week: 'mon' to 'sun' \n",
    "- FFMC - FFMC index from the FWI system: 18.7 to 96.20 \n",
    "- DMC - DMC index from the FWI system: 1.1 to 291.3 \n",
    "- DC - DC index from the FWI system: 7.9 to 860.6 \n",
    "- ISI - ISI index from the FWI system: 0.0 to 56.10 \n",
    "- temp - temperature in Celsius degrees: 2.2 to 33.30 \n",
    "- RH - relative humidity in %: 15.0 to 100 \n",
    "- wind - wind speed in km/h: 0.40 to 9.40 \n",
    "- rain - outside rain in mm/m2 : 0.0 to 6.4 \n",
    "- area (our prediction goal) - the burned area of the forest (in ha): 0.00 to 1090.84 \n",
    "(this output variable is very skewed towards 0.0, so it may make \n",
    "sense to model with the logarithm transform)"
   ]
  },
  {
   "cell_type": "code",
   "execution_count": 4,
   "metadata": {
    "collapsed": true
   },
   "outputs": [],
   "source": [
    "# large fires are very rare, so we care more about getting most of our predictions right\n",
    "# not as concerned with finding that one major fire\n",
    "# which metrics should we use to evaluate our model?"
   ]
  },
  {
   "cell_type": "code",
   "execution_count": 5,
   "metadata": {
    "collapsed": true
   },
   "outputs": [],
   "source": [
    "# which model performs best?"
   ]
  },
  {
   "cell_type": "code",
   "execution_count": 6,
   "metadata": {
    "collapsed": true
   },
   "outputs": [],
   "source": [
    "# how do you determine what's \"good\" performance?"
   ]
  },
  {
   "cell_type": "code",
   "execution_count": 2,
   "metadata": {
    "collapsed": true
   },
   "outputs": [],
   "source": [
    "# don't forget all the ways we discussed to evaluate performance"
   ]
  },
  {
   "cell_type": "markdown",
   "metadata": {},
   "source": [
    "# Note: this lab is meant to be a gentle thought-starter for HW2\n",
    "\n",
    "- Please move on to HW2 once you have thought about the questions asked above"
   ]
  }
 ],
 "metadata": {
  "kernelspec": {
   "display_name": "Python 2",
   "language": "python",
   "name": "python2"
  },
  "language_info": {
   "codemirror_mode": {
    "name": "ipython",
    "version": 2
   },
   "file_extension": ".py",
   "mimetype": "text/x-python",
   "name": "python",
   "nbconvert_exporter": "python",
   "pygments_lexer": "ipython2",
   "version": "2.7.11"
  }
 },
 "nbformat": 4,
 "nbformat_minor": 0
}
